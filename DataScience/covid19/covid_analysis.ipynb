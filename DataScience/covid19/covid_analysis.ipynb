{
 "cells": [
  {
   "cell_type": "code",
   "execution_count": 1,
   "metadata": {},
   "outputs": [],
   "source": [
    "import pandas as pd\r\n",
    "import matplotlib.pyplot as plt"
   ]
  },
  {
   "cell_type": "code",
   "execution_count": 2,
   "metadata": {},
   "outputs": [],
   "source": [
    "pd.set_option('display.max_rows', 5000)\r\n",
    "pd.set_option('display.max_columns', 500)\r\n",
    "pd.set_option('display.width', 10000)"
   ]
  },
  {
   "cell_type": "code",
   "execution_count": 3,
   "metadata": {},
   "outputs": [],
   "source": [
    "confirmed = pd.read_csv(r'covid19_confirmed_global.csv')\r\n",
    "deaths = pd.read_csv(r'covid19_deaths_global.csv')\r\n",
    "recorvered = pd.read_csv(r'covid19_recovered_global.csv')"
   ]
  },
  {
   "cell_type": "code",
   "execution_count": 4,
   "metadata": {},
   "outputs": [],
   "source": [
    "# dropping the selected columns\r\n",
    "\r\n",
    "confirmed = confirmed.drop(['Province','Lat','Long'], axis=1)\r\n",
    "deaths = deaths.drop(['Province','Lat','Long'], axis=1)\r\n",
    "recorvered = recorvered.drop(['Province','Lat','Long'], axis=1)"
   ]
  },
  {
   "cell_type": "code",
   "execution_count": null,
   "metadata": {},
   "outputs": [],
   "source": [
    "confirmed.isnull().sum()"
   ]
  },
  {
   "cell_type": "code",
   "execution_count": 5,
   "metadata": {},
   "outputs": [
    {
     "data": {
      "text/plain": [
       "195"
      ]
     },
     "execution_count": 5,
     "metadata": {},
     "output_type": "execute_result"
    }
   ],
   "source": [
    "len(confirmed['Country'].unique())"
   ]
  },
  {
   "cell_type": "code",
   "execution_count": 6,
   "metadata": {},
   "outputs": [],
   "source": [
    "confirmed = confirmed.groupby(confirmed['Country']).aggregate('sum')\r\n",
    "deaths = deaths.groupby(deaths['Country']).aggregate('sum')\r\n",
    "recorvered = recorvered.groupby(recorvered['Country']).aggregate('sum')"
   ]
  },
  {
   "cell_type": "code",
   "execution_count": 7,
   "metadata": {},
   "outputs": [],
   "source": [
    "confirmed = confirmed.T\r\n",
    "deaths = deaths.T\r\n",
    "recorvered = recorvered.T"
   ]
  },
  {
   "cell_type": "code",
   "execution_count": 8,
   "metadata": {},
   "outputs": [],
   "source": [
    "new_cases = confirmed.copy()"
   ]
  },
  {
   "cell_type": "code",
   "execution_count": 9,
   "metadata": {},
   "outputs": [],
   "source": [
    "# calculating daily cases\r\n",
    "for day in range(1,len(confirmed)):\r\n",
    "    new_cases.iloc[day] = confirmed.iloc[day] - confirmed.iloc[day - 1]"
   ]
  },
  {
   "cell_type": "code",
   "execution_count": 10,
   "metadata": {},
   "outputs": [],
   "source": [
    "growth_rate = confirmed.copy()"
   ]
  },
  {
   "cell_type": "code",
   "execution_count": 11,
   "metadata": {},
   "outputs": [],
   "source": [
    "# calculating the growth rate\r\n",
    "for day in range(1,len(confirmed)):\r\n",
    "    growth_rate.iloc[day] = (new_cases.iloc[day] / confirmed.iloc[day-1]) * 100"
   ]
  },
  {
   "cell_type": "code",
   "execution_count": 12,
   "metadata": {},
   "outputs": [],
   "source": [
    "active_cases = confirmed.copy()"
   ]
  },
  {
   "cell_type": "code",
   "execution_count": 13,
   "metadata": {},
   "outputs": [],
   "source": [
    "for day in range(0, len(confirmed)):\r\n",
    "    active_cases.iloc[day] = confirmed.iloc[day] - deaths.iloc[day] - recorvered.iloc[day]"
   ]
  },
  {
   "cell_type": "code",
   "execution_count": 14,
   "metadata": {},
   "outputs": [],
   "source": [
    "actual_growth_rate = confirmed.copy()"
   ]
  },
  {
   "cell_type": "code",
   "execution_count": 15,
   "metadata": {},
   "outputs": [],
   "source": [
    "for day in range(1,len(confirmed)):\r\n",
    "    actual_growth_rate.iloc[day] = ((active_cases.iloc[day] - active_cases.iloc[day - 1]) / active_cases.iloc[day - 1]) * 100"
   ]
  },
  {
   "cell_type": "code",
   "execution_count": 66,
   "metadata": {},
   "outputs": [
    {
     "data": {
      "text/plain": [
       "6/23/2021    0.036590\n",
       "6/24/2021    0.037874\n",
       "6/25/2021    0.070382\n",
       "6/26/2021    0.021678\n",
       "6/27/2021    0.011648\n",
       "6/28/2021    0.045222\n",
       "6/29/2021    0.034099\n",
       "6/30/2021    0.038224\n",
       "7/1/2021     0.042825\n",
       "7/2/2021     0.088265\n",
       "Name: US, dtype: float64"
      ]
     },
     "execution_count": 66,
     "metadata": {},
     "output_type": "execute_result"
    }
   ],
   "source": [
    "actual_growth_rate['US'].tail(10)"
   ]
  },
  {
   "cell_type": "code",
   "execution_count": 16,
   "metadata": {},
   "outputs": [],
   "source": [
    "death_rate = confirmed.copy()"
   ]
  },
  {
   "cell_type": "code",
   "execution_count": 17,
   "metadata": {},
   "outputs": [],
   "source": [
    "# death_rate calculation\r\n",
    "for day in range(0, len(confirmed)):\r\n",
    "    death_rate.iloc[day] = (deaths.iloc[day] / confirmed.iloc[day]) * 100\r\n"
   ]
  },
  {
   "cell_type": "code",
   "execution_count": 18,
   "metadata": {},
   "outputs": [],
   "source": [
    "hospitalisation_rate = 0.05"
   ]
  },
  {
   "cell_type": "code",
   "execution_count": 19,
   "metadata": {},
   "outputs": [],
   "source": [
    "hospitalisation_needed = confirmed.copy()"
   ]
  },
  {
   "cell_type": "code",
   "execution_count": 20,
   "metadata": {},
   "outputs": [],
   "source": [
    "for day in range(0, len(confirmed)):\r\n",
    "    hospitalisation_needed.iloc[day] = active_cases.iloc[day] * hospitalisation_rate"
   ]
  },
  {
   "cell_type": "code",
   "execution_count": 21,
   "metadata": {},
   "outputs": [],
   "source": [
    "# visualisation\r\n",
    "\r\n",
    "countries = ['Italy', 'Austria', 'US', 'China', 'India', 'France', 'Spain']"
   ]
  },
  {
   "cell_type": "code",
   "execution_count": 26,
   "metadata": {},
   "outputs": [
    {
     "data": {
      "image/png": "[encoded data removed]",
      "text/plain": [
       "<Figure size 432x288 with 1 Axes>"
      ]
     },
     "metadata": {},
     "output_type": "display_data"
    }
   ],
   "source": [
    "ax=plt.subplot()\r\n",
    "ax.set_facecolor('black')\r\n",
    "ax.figure.set_facecolor('#121212')\r\n",
    "ax.tick_params(axis='x', )\r\n",
    "ax.tick_params(axis='y')\r\n",
    "ax.set_title('total confirmed cases')\r\n",
    "\r\n",
    "\r\n",
    "for country in countries:\r\n",
    "    confirmed[country].plot(label=country)\r\n",
    "plt.legend(loc='upper left')\r\n",
    "plt.show()"
   ]
  },
  {
   "cell_type": "code",
   "execution_count": 31,
   "metadata": {},
   "outputs": [
    {
     "data": {
      "image/png": "[encoded data removed]",
      "text/plain": [
       "<Figure size 432x288 with 1 Axes>"
      ]
     },
     "metadata": {},
     "output_type": "display_data"
    }
   ],
   "source": [
    "# growth rate\r\n",
    "\r\n",
    "countries = ['India']\r\n",
    "\r\n",
    "for country in countries:\r\n",
    "    ax=plt.subplot()\r\n",
    "    ax.set_facecolor('black')\r\n",
    "    ax.figure.set_facecolor('#121212')\r\n",
    "    ax.tick_params(axis='x', color='white' )\r\n",
    "    ax.tick_params(axis='y', color='white')\r\n",
    "    ax.set_title(f'total growth rate for {country}',color='white')\r\n",
    "    growth_rate[country].plot.bar()\r\n",
    "    # plt.legend(loc='upper left')\r\n",
    "    plt.show()"
   ]
  },
  {
   "cell_type": "code",
   "execution_count": null,
   "metadata": {},
   "outputs": [],
   "source": []
  }
 ],
 "metadata": {
  "interpreter": {
   "hash": "e48b3f1d990cb72d1944944ad3d71627b5fdd5ce06d90b14b58ee0edc9153770"
  },
  "kernelspec": {
   "display_name": "Python 3.9.5 64-bit",
   "name": "python3"
  },
  "language_info": {
   "codemirror_mode": {
    "name": "ipython",
    "version": 3
   },
   "file_extension": ".py",
   "mimetype": "text/x-python",
   "name": "python",
   "nbconvert_exporter": "python",
   "pygments_lexer": "ipython3",
   "version": "3.9.5"
  },
  "orig_nbformat": 4
 },
 "nbformat": 4,
 "nbformat_minor": 2
}
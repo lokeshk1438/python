{
 "cells": [
  {
   "cell_type": "code",
   "execution_count": 1,
   "metadata": {},
   "outputs": [],
   "source": [
    "import pandas as pd"
   ]
  },
  {
   "cell_type": "code",
   "execution_count": 26,
   "metadata": {},
   "outputs": [],
   "source": [
    "source = pd.read_excel(\"source.xlsx\")\n",
    "\n",
    "target = pd.read_excel(\"target.xlsx\")"
   ]
  },
  {
   "cell_type": "code",
   "execution_count": 27,
   "metadata": {},
   "outputs": [
    {
     "data": {
      "text/html": [
       "<div>\n",
       "<style scoped>\n",
       "    .dataframe tbody tr th:only-of-type {\n",
       "        vertical-align: middle;\n",
       "    }\n",
       "\n",
       "    .dataframe tbody tr th {\n",
       "        vertical-align: top;\n",
       "    }\n",
       "\n",
       "    .dataframe thead th {\n",
       "        text-align: right;\n",
       "    }\n",
       "</style>\n",
       "<table border=\"1\" class=\"dataframe\">\n",
       "  <thead>\n",
       "    <tr style=\"text-align: right;\">\n",
       "      <th></th>\n",
       "      <th>ID</th>\n",
       "      <th>name</th>\n",
       "    </tr>\n",
       "  </thead>\n",
       "  <tbody>\n",
       "    <tr>\n",
       "      <th>0</th>\n",
       "      <td>1234</td>\n",
       "      <td>asd</td>\n",
       "    </tr>\n",
       "    <tr>\n",
       "      <th>1</th>\n",
       "      <td>2345</td>\n",
       "      <td>adsd</td>\n",
       "    </tr>\n",
       "    <tr>\n",
       "      <th>2</th>\n",
       "      <td>3456</td>\n",
       "      <td>fdse</td>\n",
       "    </tr>\n",
       "    <tr>\n",
       "      <th>3</th>\n",
       "      <td>4567</td>\n",
       "      <td>fse</td>\n",
       "    </tr>\n",
       "    <tr>\n",
       "      <th>4</th>\n",
       "      <td>5678</td>\n",
       "      <td>ete</td>\n",
       "    </tr>\n",
       "  </tbody>\n",
       "</table>\n",
       "</div>"
      ],
      "text/plain": [
       "     ID  name\n",
       "0  1234   asd\n",
       "1  2345  adsd\n",
       "2  3456  fdse\n",
       "3  4567   fse\n",
       "4  5678   ete"
      ]
     },
     "execution_count": 27,
     "metadata": {},
     "output_type": "execute_result"
    }
   ],
   "source": [
    "source.head()"
   ]
  },
  {
   "cell_type": "code",
   "execution_count": 28,
   "metadata": {},
   "outputs": [
    {
     "data": {
      "text/html": [
       "<div>\n",
       "<style scoped>\n",
       "    .dataframe tbody tr th:only-of-type {\n",
       "        vertical-align: middle;\n",
       "    }\n",
       "\n",
       "    .dataframe tbody tr th {\n",
       "        vertical-align: top;\n",
       "    }\n",
       "\n",
       "    .dataframe thead th {\n",
       "        text-align: right;\n",
       "    }\n",
       "</style>\n",
       "<table border=\"1\" class=\"dataframe\">\n",
       "  <thead>\n",
       "    <tr style=\"text-align: right;\">\n",
       "      <th></th>\n",
       "      <th>ID</th>\n",
       "      <th>name</th>\n",
       "    </tr>\n",
       "  </thead>\n",
       "  <tbody>\n",
       "    <tr>\n",
       "      <th>0</th>\n",
       "      <td>1234</td>\n",
       "      <td>asd</td>\n",
       "    </tr>\n",
       "    <tr>\n",
       "      <th>1</th>\n",
       "      <td>9832</td>\n",
       "      <td>adsd</td>\n",
       "    </tr>\n",
       "    <tr>\n",
       "      <th>2</th>\n",
       "      <td>7890</td>\n",
       "      <td>tryr</td>\n",
       "    </tr>\n",
       "    <tr>\n",
       "      <th>3</th>\n",
       "      <td>8901</td>\n",
       "      <td>gfd</td>\n",
       "    </tr>\n",
       "    <tr>\n",
       "      <th>4</th>\n",
       "      <td>9012</td>\n",
       "      <td>yut</td>\n",
       "    </tr>\n",
       "  </tbody>\n",
       "</table>\n",
       "</div>"
      ],
      "text/plain": [
       "     ID  name\n",
       "0  1234   asd\n",
       "1  9832  adsd\n",
       "2  7890  tryr\n",
       "3  8901   gfd\n",
       "4  9012   yut"
      ]
     },
     "execution_count": 28,
     "metadata": {},
     "output_type": "execute_result"
    }
   ],
   "source": [
    "target.head()"
   ]
  },
  {
   "cell_type": "code",
   "execution_count": 53,
   "metadata": {},
   "outputs": [
    {
     "data": {
      "text/plain": [
       "'asd'"
      ]
     },
     "execution_count": 53,
     "metadata": {},
     "output_type": "execute_result"
    }
   ],
   "source": [
    "target.at[0,'name']"
   ]
  },
  {
   "cell_type": "code",
   "execution_count": 54,
   "metadata": {},
   "outputs": [
    {
     "data": {
      "text/plain": [
       "ID      1234\n",
       "name     asd\n",
       "Name: 0, dtype: object"
      ]
     },
     "execution_count": 54,
     "metadata": {},
     "output_type": "execute_result"
    }
   ],
   "source": [
    "target.iloc[0]"
   ]
  },
  {
   "cell_type": "code",
   "execution_count": 31,
   "metadata": {},
   "outputs": [
    {
     "data": {
      "text/plain": [
       "0     True\n",
       "1    False\n",
       "2     True\n",
       "3     True\n",
       "4     True\n",
       "Name: ID, dtype: bool"
      ]
     },
     "execution_count": 31,
     "metadata": {},
     "output_type": "execute_result"
    }
   ],
   "source": [
    "target['ID'].apply(lambda x: x in source['ID'].values)"
   ]
  },
  {
   "cell_type": "code",
   "execution_count": 24,
   "metadata": {},
   "outputs": [
    {
     "data": {
      "text/plain": [
       "True"
      ]
     },
     "execution_count": 24,
     "metadata": {},
     "output_type": "execute_result"
    }
   ],
   "source": [
    "1234 in source['ID'].values"
   ]
  },
  {
   "cell_type": "code",
   "execution_count": 39,
   "metadata": {},
   "outputs": [
    {
     "data": {
      "text/html": [
       "<div>\n",
       "<style scoped>\n",
       "    .dataframe tbody tr th:only-of-type {\n",
       "        vertical-align: middle;\n",
       "    }\n",
       "\n",
       "    .dataframe tbody tr th {\n",
       "        vertical-align: top;\n",
       "    }\n",
       "\n",
       "    .dataframe thead th {\n",
       "        text-align: right;\n",
       "    }\n",
       "</style>\n",
       "<table border=\"1\" class=\"dataframe\">\n",
       "  <thead>\n",
       "    <tr style=\"text-align: right;\">\n",
       "      <th></th>\n",
       "      <th>ID</th>\n",
       "      <th>name</th>\n",
       "    </tr>\n",
       "  </thead>\n",
       "  <tbody>\n",
       "    <tr>\n",
       "      <th>0</th>\n",
       "      <td>1234</td>\n",
       "      <td>asd</td>\n",
       "    </tr>\n",
       "    <tr>\n",
       "      <th>2</th>\n",
       "      <td>7890</td>\n",
       "      <td>tryr</td>\n",
       "    </tr>\n",
       "    <tr>\n",
       "      <th>3</th>\n",
       "      <td>8901</td>\n",
       "      <td>gfd</td>\n",
       "    </tr>\n",
       "    <tr>\n",
       "      <th>4</th>\n",
       "      <td>9012</td>\n",
       "      <td>yut</td>\n",
       "    </tr>\n",
       "  </tbody>\n",
       "</table>\n",
       "</div>"
      ],
      "text/plain": [
       "     ID  name\n",
       "0  1234   asd\n",
       "2  7890  tryr\n",
       "3  8901   gfd\n",
       "4  9012   yut"
      ]
     },
     "execution_count": 39,
     "metadata": {},
     "output_type": "execute_result"
    }
   ],
   "source": [
    "target[list(map(lambda x: x in source['ID'].values, target['ID']))]"
   ]
  },
  {
   "cell_type": "code",
   "execution_count": 40,
   "metadata": {},
   "outputs": [
    {
     "ename": "ModuleNotFoundError",
     "evalue": "No module named 'names'",
     "output_type": "error",
     "traceback": [
      "\u001b[1;31m---------------------------------------------------------------------------\u001b[0m",
      "\u001b[1;31mModuleNotFoundError\u001b[0m                       Traceback (most recent call last)",
      "\u001b[1;32m<ipython-input-40-0b8761553472>\u001b[0m in \u001b[0;36m<module>\u001b[1;34m()\u001b[0m\n\u001b[1;32m----> 1\u001b[1;33m \u001b[1;32mimport\u001b[0m \u001b[0mnames\u001b[0m\u001b[1;33m\u001b[0m\u001b[0m\n\u001b[0m",
      "\u001b[1;31mModuleNotFoundError\u001b[0m: No module named 'names'"
     ]
    }
   ],
   "source": [
    "import names"
   ]
  },
  {
   "cell_type": "code",
   "execution_count": 41,
   "metadata": {},
   "outputs": [
    {
     "name": "stdout",
     "output_type": "stream",
     "text": [
      "Collecting names\n",
      "  Downloading https://files.pythonhosted.org/packages/44/4e/f9cb7ef2df0250f4ba3334fbdabaa94f9c88097089763d8e85ada8092f84/names-0.3.0.tar.gz (789kB)\n",
      "Building wheels for collected packages: names\n",
      "  Running setup.py bdist_wheel for names: started\n",
      "  Running setup.py bdist_wheel for names: finished with status 'done'\n",
      "  Stored in directory: C:\\Users\\lkoturu\\AppData\\Local\\pip\\Cache\\wheels\\f9\\a5\\e1\\be3e0aaa6fa285575078fa2aafd9959b45bdbc8de8a6803aeb\n",
      "Successfully built names\n",
      "Installing collected packages: names\n",
      "Successfully installed names-0.3.0\n"
     ]
    },
    {
     "name": "stderr",
     "output_type": "stream",
     "text": [
      "You are using pip version 9.0.1, however version 21.2.2 is available.\n",
      "You should consider upgrading via the 'python -m pip install --upgrade pip' command.\n"
     ]
    }
   ],
   "source": [
    "!pip install names"
   ]
  },
  {
   "cell_type": "code",
   "execution_count": 43,
   "metadata": {},
   "outputs": [],
   "source": [
    "import names"
   ]
  },
  {
   "cell_type": "code",
   "execution_count": 44,
   "metadata": {},
   "outputs": [
    {
     "data": {
      "text/plain": [
       "['FILES',\n",
       " '__author__',\n",
       " '__builtins__',\n",
       " '__cached__',\n",
       " '__doc__',\n",
       " '__file__',\n",
       " '__license__',\n",
       " '__loader__',\n",
       " '__name__',\n",
       " '__package__',\n",
       " '__path__',\n",
       " '__spec__',\n",
       " '__title__',\n",
       " '__version__',\n",
       " 'abspath',\n",
       " 'dirname',\n",
       " 'full_path',\n",
       " 'get_first_name',\n",
       " 'get_full_name',\n",
       " 'get_last_name',\n",
       " 'get_name',\n",
       " 'join',\n",
       " 'random',\n",
       " 'unicode_literals']"
      ]
     },
     "execution_count": 44,
     "metadata": {},
     "output_type": "execute_result"
    }
   ],
   "source": [
    "dir(names)"
   ]
  },
  {
   "cell_type": "code",
   "execution_count": 48,
   "metadata": {},
   "outputs": [
    {
     "data": {
      "text/plain": [
       "'Tony Chisler'"
      ]
     },
     "execution_count": 48,
     "metadata": {},
     "output_type": "execute_result"
    }
   ],
   "source": [
    "names.get_full_name()"
   ]
  },
  {
   "cell_type": "code",
   "execution_count": 51,
   "metadata": {
    "scrolled": true
   },
   "outputs": [
    {
     "name": "stdout",
     "output_type": "stream",
     "text": [
      "Nina Sreaves\n",
      "Tamara Sayre\n",
      "Maritza Fajardo\n",
      "Maggie Kennedy\n",
      "Emily Garfield\n",
      "Marie Gregory\n",
      "Carolyn Reynolds\n",
      "Jason Holme\n",
      "Raul Bollinger\n",
      "Megan Kelly\n",
      "Beth Knox\n",
      "Johanna Powell\n",
      "John Williams\n",
      "Maggie Wilson\n",
      "Martha Fischer\n",
      "Lola Hardison\n",
      "Christian Flores\n",
      "Susan Arevalos\n",
      "Jennette Valencia\n",
      "Thomas Locker\n",
      "Emily Parent\n",
      "Debra Rotz\n",
      "Anne Davis\n",
      "Ann Tellier\n",
      "Betty Gant\n",
      "Marjorie Manns\n",
      "Janina Gomez\n",
      "Tammara Blair\n",
      "Heather Hunter\n",
      "Robert Hanson\n",
      "Randall Joffrion\n",
      "Mary Vajgrt\n",
      "Francis Casarez\n",
      "Jeanette Fields\n",
      "Billy Myers\n",
      "Evie Harvey\n",
      "Cristina Gibson\n",
      "Ethyl Johnson\n",
      "Thomas Diaz\n",
      "June Tate\n",
      "Anne Frazier\n",
      "Israel Hernandez\n",
      "Mark Fisher\n",
      "Joel Vineyard\n",
      "Leslie Smallwood\n",
      "Jeff Addington\n",
      "Antone Galvan\n",
      "Angelica Rhodes\n",
      "Andrew Foster\n",
      "Kyle Link\n",
      "Beckie Capobianco\n",
      "Michelle Lucas\n",
      "Cheryl Lieb\n",
      "Willie Shafer\n",
      "Joy Ashley\n",
      "Buck Brown\n",
      "Marcella Reynolds\n",
      "Christopher Lynch\n",
      "Sharon Moore\n",
      "Robert Jacobs\n",
      "Evelyn Fawver\n",
      "Charles Price\n",
      "Therese Ferrante\n",
      "Marjory Thomas\n",
      "Linda Enstad\n",
      "Harold Lester\n",
      "John Bingham\n",
      "Willie Tackett\n",
      "Don Fanney\n",
      "Wilford Green\n",
      "Sid Holley\n",
      "Eugene Greene\n",
      "Keith Buell\n",
      "Alison Ziglar\n",
      "Timothy Dallas\n",
      "Megan Odom\n",
      "Patricia Fisher\n",
      "Joshua Mallory\n",
      "Tracy Klein\n",
      "Sharon Hutchinson\n",
      "Mattie Stiffler\n",
      "Jennifer Bolin\n",
      "Linda Brooks\n",
      "Robert Tuai\n",
      "Wesley Hall\n",
      "Katrina Husar\n",
      "Matthew Bundy\n",
      "Burl Grim\n",
      "Judith Bowman\n",
      "Edward Quinn\n",
      "Willene Barnes\n",
      "Theresa Kennedy\n",
      "Luis Emberling\n",
      "James Wood\n",
      "Richard Howell\n",
      "Jerome Colon\n",
      "Patricia Roman\n",
      "Mark Holbrook\n",
      "Joanne Carmichael\n",
      "William Moreland\n"
     ]
    }
   ],
   "source": [
    "for _ in range(100):\n",
    "    print(names.get_full_name())\n",
    "    "
   ]
  },
  {
   "cell_type": "code",
   "execution_count": 52,
   "metadata": {},
   "outputs": [
    {
     "name": "stdout",
     "output_type": "stream",
     "text": [
      "Collecting faker\n",
      "  Downloading https://files.pythonhosted.org/packages/3f/d4/9edd00fadaddd28b5467b5945dd89febddaf2b67f409a0ec0c72c73c15ca/Faker-8.10.3-py3-none-any.whl (1.2MB)\n",
      "Requirement already satisfied: python-dateutil>=2.4 in c:\\programdata\\anaconda3\\lib\\site-packages (from faker)\n",
      "Collecting text-unidecode==1.3 (from faker)\n",
      "  Downloading https://files.pythonhosted.org/packages/a6/a5/c0b6468d3824fe3fde30dbb5e1f687b291608f9473681bbf7dabbf5a87d7/text_unidecode-1.3-py2.py3-none-any.whl (78kB)\n",
      "Requirement already satisfied: six>=1.5 in c:\\programdata\\anaconda3\\lib\\site-packages (from python-dateutil>=2.4->faker)\n",
      "Installing collected packages: text-unidecode, faker\n",
      "Successfully installed faker-8.10.3 text-unidecode-1.3\n"
     ]
    },
    {
     "name": "stderr",
     "output_type": "stream",
     "text": [
      "You are using pip version 9.0.1, however version 21.2.2 is available.\n",
      "You should consider upgrading via the 'python -m pip install --upgrade pip' command.\n"
     ]
    }
   ],
   "source": [
    "!pip install faker"
   ]
  },
  {
   "cell_type": "code",
   "execution_count": 55,
   "metadata": {},
   "outputs": [],
   "source": [
    "from sklearn.datasets import make_regression"
   ]
  },
  {
   "cell_type": "code",
   "execution_count": 56,
   "metadata": {},
   "outputs": [],
   "source": [
    "# Generate fetures, outputs, and true coefficient of 100 samples\n",
    "features, output, coef = make_regression(n_samples = 100,\n",
    "                                         # three features\n",
    "                                         n_features = 3,\n",
    "                                         # two features are useful,\n",
    "                                         n_informative = 2,\n",
    "                                         # one target\n",
    "                                         n_targets = 1,\n",
    "                                         # 0.0 standard deviation\n",
    "                                         noise = 0.0,\n",
    "                                         # show the true coefficient \n",
    "                                         coef = True)"
   ]
  },
  {
   "cell_type": "code",
   "execution_count": 57,
   "metadata": {},
   "outputs": [
    {
     "data": {
      "text/html": [
       "<div>\n",
       "<style scoped>\n",
       "    .dataframe tbody tr th:only-of-type {\n",
       "        vertical-align: middle;\n",
       "    }\n",
       "\n",
       "    .dataframe tbody tr th {\n",
       "        vertical-align: top;\n",
       "    }\n",
       "\n",
       "    .dataframe thead th {\n",
       "        text-align: right;\n",
       "    }\n",
       "</style>\n",
       "<table border=\"1\" class=\"dataframe\">\n",
       "  <thead>\n",
       "    <tr style=\"text-align: right;\">\n",
       "      <th></th>\n",
       "      <th>Customer A</th>\n",
       "      <th>Customer B</th>\n",
       "      <th>Customer C</th>\n",
       "    </tr>\n",
       "  </thead>\n",
       "  <tbody>\n",
       "    <tr>\n",
       "      <th>0</th>\n",
       "      <td>0.712247</td>\n",
       "      <td>1.861776</td>\n",
       "      <td>-0.250724</td>\n",
       "    </tr>\n",
       "    <tr>\n",
       "      <th>1</th>\n",
       "      <td>-0.340608</td>\n",
       "      <td>-0.825323</td>\n",
       "      <td>-0.519205</td>\n",
       "    </tr>\n",
       "    <tr>\n",
       "      <th>2</th>\n",
       "      <td>1.115256</td>\n",
       "      <td>0.693239</td>\n",
       "      <td>0.264304</td>\n",
       "    </tr>\n",
       "    <tr>\n",
       "      <th>3</th>\n",
       "      <td>2.877017</td>\n",
       "      <td>-0.768661</td>\n",
       "      <td>0.373617</td>\n",
       "    </tr>\n",
       "    <tr>\n",
       "      <th>4</th>\n",
       "      <td>-0.235514</td>\n",
       "      <td>0.407465</td>\n",
       "      <td>-0.336513</td>\n",
       "    </tr>\n",
       "    <tr>\n",
       "      <th>5</th>\n",
       "      <td>0.638618</td>\n",
       "      <td>0.446111</td>\n",
       "      <td>0.202336</td>\n",
       "    </tr>\n",
       "    <tr>\n",
       "      <th>6</th>\n",
       "      <td>0.969686</td>\n",
       "      <td>-1.954139</td>\n",
       "      <td>-0.556203</td>\n",
       "    </tr>\n",
       "    <tr>\n",
       "      <th>7</th>\n",
       "      <td>-0.111740</td>\n",
       "      <td>-1.644101</td>\n",
       "      <td>0.583915</td>\n",
       "    </tr>\n",
       "    <tr>\n",
       "      <th>8</th>\n",
       "      <td>0.753262</td>\n",
       "      <td>-0.204683</td>\n",
       "      <td>2.189126</td>\n",
       "    </tr>\n",
       "    <tr>\n",
       "      <th>9</th>\n",
       "      <td>-0.957100</td>\n",
       "      <td>0.150124</td>\n",
       "      <td>0.363157</td>\n",
       "    </tr>\n",
       "  </tbody>\n",
       "</table>\n",
       "</div>"
      ],
      "text/plain": [
       "   Customer A  Customer B  Customer C\n",
       "0    0.712247    1.861776   -0.250724\n",
       "1   -0.340608   -0.825323   -0.519205\n",
       "2    1.115256    0.693239    0.264304\n",
       "3    2.877017   -0.768661    0.373617\n",
       "4   -0.235514    0.407465   -0.336513\n",
       "5    0.638618    0.446111    0.202336\n",
       "6    0.969686   -1.954139   -0.556203\n",
       "7   -0.111740   -1.644101    0.583915\n",
       "8    0.753262   -0.204683    2.189126\n",
       "9   -0.957100    0.150124    0.363157"
      ]
     },
     "execution_count": 57,
     "metadata": {},
     "output_type": "execute_result"
    }
   ],
   "source": [
    "# View the features of the first 10 rows\n",
    "pd.DataFrame(features, columns=['Customer A', 'Customer B', 'Customer C']).head(10)"
   ]
  },
  {
   "cell_type": "code",
   "execution_count": 58,
   "metadata": {},
   "outputs": [
    {
     "data": {
      "text/html": [
       "<div>\n",
       "<style scoped>\n",
       "    .dataframe tbody tr th:only-of-type {\n",
       "        vertical-align: middle;\n",
       "    }\n",
       "\n",
       "    .dataframe tbody tr th {\n",
       "        vertical-align: top;\n",
       "    }\n",
       "\n",
       "    .dataframe thead th {\n",
       "        text-align: right;\n",
       "    }\n",
       "</style>\n",
       "<table border=\"1\" class=\"dataframe\">\n",
       "  <thead>\n",
       "    <tr style=\"text-align: right;\">\n",
       "      <th></th>\n",
       "      <th>Sales</th>\n",
       "    </tr>\n",
       "  </thead>\n",
       "  <tbody>\n",
       "    <tr>\n",
       "      <th>0</th>\n",
       "      <td>70.526303</td>\n",
       "    </tr>\n",
       "    <tr>\n",
       "      <th>1</th>\n",
       "      <td>-36.287423</td>\n",
       "    </tr>\n",
       "    <tr>\n",
       "      <th>2</th>\n",
       "      <td>29.110901</td>\n",
       "    </tr>\n",
       "    <tr>\n",
       "      <th>3</th>\n",
       "      <td>-26.965391</td>\n",
       "    </tr>\n",
       "    <tr>\n",
       "      <th>4</th>\n",
       "      <td>13.190909</td>\n",
       "    </tr>\n",
       "    <tr>\n",
       "      <th>5</th>\n",
       "      <td>18.990379</td>\n",
       "    </tr>\n",
       "    <tr>\n",
       "      <th>6</th>\n",
       "      <td>-80.554578</td>\n",
       "    </tr>\n",
       "    <tr>\n",
       "      <th>7</th>\n",
       "      <td>-59.391742</td>\n",
       "    </tr>\n",
       "    <tr>\n",
       "      <th>8</th>\n",
       "      <td>9.471678</td>\n",
       "    </tr>\n",
       "    <tr>\n",
       "      <th>9</th>\n",
       "      <td>8.741967</td>\n",
       "    </tr>\n",
       "  </tbody>\n",
       "</table>\n",
       "</div>"
      ],
      "text/plain": [
       "       Sales\n",
       "0  70.526303\n",
       "1 -36.287423\n",
       "2  29.110901\n",
       "3 -26.965391\n",
       "4  13.190909\n",
       "5  18.990379\n",
       "6 -80.554578\n",
       "7 -59.391742\n",
       "8   9.471678\n",
       "9   8.741967"
      ]
     },
     "execution_count": 58,
     "metadata": {},
     "output_type": "execute_result"
    }
   ],
   "source": [
    "# View the output of the first 10 rows\n",
    "pd.DataFrame(output, columns=['Sales']).head(10)"
   ]
  },
  {
   "cell_type": "code",
   "execution_count": null,
   "metadata": {},
   "outputs": [],
   "source": []
  }
 ],
 "metadata": {
  "kernelspec": {
   "display_name": "Python 3",
   "language": "python",
   "name": "python3"
  },
  "language_info": {
   "codemirror_mode": {
    "name": "ipython",
    "version": 3
   },
   "file_extension": ".py",
   "mimetype": "text/x-python",
   "name": "python",
   "nbconvert_exporter": "python",
   "pygments_lexer": "ipython3",
   "version": "3.6.4"
  }
 },
 "nbformat": 4,
 "nbformat_minor": 2
}

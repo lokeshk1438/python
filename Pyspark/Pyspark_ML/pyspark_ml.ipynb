{
 "cells": [
  {
   "cell_type": "markdown",
   "metadata": {},
   "source": [
    "https://www.youtube.com/watch?v=_C8kWso4ne4&t=1046s"
   ]
  },
  {
   "cell_type": "code",
   "execution_count": 1,
   "metadata": {},
   "outputs": [],
   "source": [
    "from pyspark.sql import SparkSession\n",
    "from pyspark.sql import functions as f"
   ]
  },
  {
   "cell_type": "code",
   "execution_count": 2,
   "metadata": {},
   "outputs": [],
   "source": [
    "spark = SparkSession.builder.appName(\"Pyspark ML\").getOrCreate()"
   ]
  },
  {
   "cell_type": "code",
   "execution_count": 3,
   "metadata": {},
   "outputs": [
    {
     "name": "stdout",
     "output_type": "stream",
     "text": [
      "+------+---+----------+------+\n",
      "|  name|age|experience|salary|\n",
      "+------+---+----------+------+\n",
      "| BLAKE| 24|         2| 20000|\n",
      "| CLARK| 24|         2| 21000|\n",
      "| SCOTT| 25|         4| 22000|\n",
      "|  WARD| 26|         5| 23000|\n",
      "|  KING| 26|         5| 25000|\n",
      "| ALLEN| 27|         6| 30000|\n",
      "|TURNER| 27|         7| 32000|\n",
      "|MARTIN| 28|         7| 32000|\n",
      "| SMITH| 31|        10| 50000|\n",
      "| JONES| 33|        12| 70000|\n",
      "+------+---+----------+------+\n",
      "\n"
     ]
    }
   ],
   "source": [
    "training = spark.read.csv('ML_test_data.csv', header=True, inferSchema=True)\n",
    "training.show()"
   ]
  },
  {
   "cell_type": "code",
   "execution_count": 4,
   "metadata": {},
   "outputs": [
    {
     "name": "stdout",
     "output_type": "stream",
     "text": [
      "root\n",
      " |-- name: string (nullable = true)\n",
      " |-- age: integer (nullable = true)\n",
      " |-- experience: integer (nullable = true)\n",
      " |-- salary: integer (nullable = true)\n",
      "\n"
     ]
    }
   ],
   "source": [
    "training.printSchema()"
   ]
  },
  {
   "cell_type": "code",
   "execution_count": 7,
   "metadata": {},
   "outputs": [],
   "source": [
    "# [age, experience] --> a new feature --> independent\n",
    "from pyspark.ml.feature import VectorAssembler\n",
    "feature_assembler = VectorAssembler(inputCols=['age', 'experience'], outputCol='independent feature')"
   ]
  },
  {
   "cell_type": "code",
   "execution_count": 9,
   "metadata": {},
   "outputs": [],
   "source": [
    "output = feature_assembler.transform(training)"
   ]
  },
  {
   "cell_type": "code",
   "execution_count": 10,
   "metadata": {},
   "outputs": [
    {
     "name": "stdout",
     "output_type": "stream",
     "text": [
      "+------+---+----------+------+-------------------+\n",
      "|  name|age|experience|salary|independent feature|\n",
      "+------+---+----------+------+-------------------+\n",
      "| BLAKE| 24|         2| 20000|         [24.0,2.0]|\n",
      "| CLARK| 24|         2| 21000|         [24.0,2.0]|\n",
      "| SCOTT| 25|         4| 22000|         [25.0,4.0]|\n",
      "|  WARD| 26|         5| 23000|         [26.0,5.0]|\n",
      "|  KING| 26|         5| 25000|         [26.0,5.0]|\n",
      "| ALLEN| 27|         6| 30000|         [27.0,6.0]|\n",
      "|TURNER| 27|         7| 32000|         [27.0,7.0]|\n",
      "|MARTIN| 28|         7| 32000|         [28.0,7.0]|\n",
      "| SMITH| 31|        10| 50000|        [31.0,10.0]|\n",
      "| JONES| 33|        12| 70000|        [33.0,12.0]|\n",
      "+------+---+----------+------+-------------------+\n",
      "\n"
     ]
    }
   ],
   "source": [
    "output.show()"
   ]
  },
  {
   "cell_type": "code",
   "execution_count": 11,
   "metadata": {},
   "outputs": [],
   "source": [
    "finalised_data = output.select('independent feature', 'salary')"
   ]
  },
  {
   "cell_type": "code",
   "execution_count": 12,
   "metadata": {},
   "outputs": [
    {
     "name": "stdout",
     "output_type": "stream",
     "text": [
      "+-------------------+------+\n",
      "|independent feature|salary|\n",
      "+-------------------+------+\n",
      "|         [24.0,2.0]| 20000|\n",
      "|         [24.0,2.0]| 21000|\n",
      "|         [25.0,4.0]| 22000|\n",
      "|         [26.0,5.0]| 23000|\n",
      "|         [26.0,5.0]| 25000|\n",
      "|         [27.0,6.0]| 30000|\n",
      "|         [27.0,7.0]| 32000|\n",
      "|         [28.0,7.0]| 32000|\n",
      "|        [31.0,10.0]| 50000|\n",
      "|        [33.0,12.0]| 70000|\n",
      "+-------------------+------+\n",
      "\n"
     ]
    }
   ],
   "source": [
    "finalised_data.show()"
   ]
  },
  {
   "cell_type": "markdown",
   "metadata": {},
   "source": [
    "# ML Packages"
   ]
  },
  {
   "cell_type": "code",
   "execution_count": 31,
   "metadata": {},
   "outputs": [],
   "source": [
    "from pyspark.ml.regression import LinearRegression\n",
    "# train -- test split\n",
    "train_data, test_data = finalised_data.randomSplit([0.75, 0.25])"
   ]
  },
  {
   "cell_type": "code",
   "execution_count": 32,
   "metadata": {},
   "outputs": [
    {
     "name": "stdout",
     "output_type": "stream",
     "text": [
      "+-------------------+------+\n",
      "|independent feature|salary|\n",
      "+-------------------+------+\n",
      "|         [24.0,2.0]| 20000|\n",
      "|         [24.0,2.0]| 21000|\n",
      "|         [25.0,4.0]| 22000|\n",
      "|         [26.0,5.0]| 23000|\n",
      "|         [26.0,5.0]| 25000|\n",
      "|         [27.0,6.0]| 30000|\n",
      "|         [27.0,7.0]| 32000|\n",
      "+-------------------+------+\n",
      "\n"
     ]
    }
   ],
   "source": [
    "train_data.show()"
   ]
  },
  {
   "cell_type": "code",
   "execution_count": 33,
   "metadata": {},
   "outputs": [
    {
     "name": "stdout",
     "output_type": "stream",
     "text": [
      "+-------------------+------+\n",
      "|independent feature|salary|\n",
      "+-------------------+------+\n",
      "|         [28.0,7.0]| 32000|\n",
      "|        [31.0,10.0]| 50000|\n",
      "|        [33.0,12.0]| 70000|\n",
      "+-------------------+------+\n",
      "\n"
     ]
    }
   ],
   "source": [
    "test_data.show()"
   ]
  },
  {
   "cell_type": "code",
   "execution_count": 34,
   "metadata": {},
   "outputs": [],
   "source": [
    "regressor = LinearRegression(featuresCol='independent feature', labelCol='salary')\n",
    "regressor = regressor.fit(train_data)"
   ]
  },
  {
   "cell_type": "code",
   "execution_count": 36,
   "metadata": {},
   "outputs": [
    {
     "data": {
      "text/plain": [
       "DenseVector([2083.3333, 833.3333])"
      ]
     },
     "execution_count": 36,
     "metadata": {},
     "output_type": "execute_result"
    }
   ],
   "source": [
    "# coefficients\n",
    "regressor.coefficients"
   ]
  },
  {
   "cell_type": "code",
   "execution_count": 37,
   "metadata": {},
   "outputs": [
    {
     "data": {
      "text/plain": [
       "-32249.999999990352"
      ]
     },
     "execution_count": 37,
     "metadata": {},
     "output_type": "execute_result"
    }
   ],
   "source": [
    "regressor.intercept"
   ]
  },
  {
   "cell_type": "code",
   "execution_count": 38,
   "metadata": {},
   "outputs": [],
   "source": [
    "# prediction\n",
    "pred_results = regressor.evaluate(test_data)"
   ]
  },
  {
   "cell_type": "code",
   "execution_count": 40,
   "metadata": {},
   "outputs": [
    {
     "name": "stdout",
     "output_type": "stream",
     "text": [
      "+-------------------+------+------------------+\n",
      "|independent feature|salary|        prediction|\n",
      "+-------------------+------+------------------+\n",
      "|         [28.0,7.0]| 32000|31916.666666666322|\n",
      "|        [31.0,10.0]| 50000| 40666.66666666586|\n",
      "|        [33.0,12.0]| 70000|46499.999999998865|\n",
      "+-------------------+------+------------------+\n",
      "\n"
     ]
    }
   ],
   "source": [
    "pred_results.predictions.show()"
   ]
  },
  {
   "cell_type": "code",
   "execution_count": null,
   "metadata": {},
   "outputs": [],
   "source": []
  }
 ],
 "metadata": {
  "interpreter": {
   "hash": "7a542ca580817fc4dd55327026e074e2fa0cd470fc5dee9350c2d8b13822db8d"
  },
  "kernelspec": {
   "display_name": "Python 3.8.1 32-bit",
   "language": "python",
   "name": "python3"
  },
  "language_info": {
   "codemirror_mode": {
    "name": "ipython",
    "version": 3
   },
   "file_extension": ".py",
   "mimetype": "text/x-python",
   "name": "python",
   "nbconvert_exporter": "python",
   "pygments_lexer": "ipython3",
   "version": "3.8.1"
  },
  "orig_nbformat": 4
 },
 "nbformat": 4,
 "nbformat_minor": 2
}

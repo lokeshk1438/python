{
 "cells": [
  {
   "cell_type": "markdown",
   "metadata": {},
   "source": [
    "https://www.youtube.com/watch?v=_C8kWso4ne4&t=1046s"
   ]
  },
  {
   "cell_type": "code",
   "execution_count": 99,
   "metadata": {},
   "outputs": [],
   "source": [
    "from pyspark.sql import SparkSession\n",
    "from pyspark.sql.types import IntegerType\n",
    "from pyspark.sql import functions as f"
   ]
  },
  {
   "cell_type": "code",
   "execution_count": 109,
   "metadata": {},
   "outputs": [],
   "source": [
    "spark = SparkSession.builder.appName(\"Pyspark with Mock Data\").getOrCreate()"
   ]
  },
  {
   "cell_type": "code",
   "execution_count": 110,
   "metadata": {},
   "outputs": [],
   "source": [
    "df = spark.read.csv('mock_data.csv', header=True)"
   ]
  },
  {
   "cell_type": "code",
   "execution_count": 111,
   "metadata": {},
   "outputs": [],
   "source": [
    "df = df.withColumn('QUANTITY_ORDERED', f.col('QUANTITY_ORDERED').cast(IntegerType()))\\\n",
    "    .withColumn('PRICE_EACH', f.col('PRICE_EACH').cast(IntegerType()))"
   ]
  },
  {
   "cell_type": "code",
   "execution_count": 112,
   "metadata": {},
   "outputs": [
    {
     "name": "stdout",
     "output_type": "stream",
     "text": [
      "+--------+--------------------+----------------+----------+--------------+--------------------+\n",
      "|ORDER_ID|             PRODUCT|QUANTITY_ORDERED|PRICE_EACH|    ORDER_DATE|    PURCHASE_ADDRESS|\n",
      "+--------+--------------------+----------------+----------+--------------+--------------------+\n",
      "|  141234|Lightning Chargin...|            null|        14|01/29/19 19:08|3 Main St, Austin...|\n",
      "|  141236|USB-C Charging Cable|            null|      null|01/27/19 15:01|1 Church St, Los ...|\n",
      "|  141237|AA Batteries (4-p...|            null|      null|          null|8 Dogwood St, New...|\n",
      "|  141239|              iPhone|            null|      null|          null|                null|\n",
      "|  141241|AAA Batteries (4-...|               1|         2|01/27/19 22:60|4 Maple St, San F...|\n",
      "|  141242|                null|            null|       150|01/27/19 22:61|10 Lakeview St, D...|\n",
      "+--------+--------------------+----------------+----------+--------------+--------------------+\n",
      "\n"
     ]
    }
   ],
   "source": [
    "df.show()"
   ]
  },
  {
   "cell_type": "code",
   "execution_count": 113,
   "metadata": {},
   "outputs": [
    {
     "name": "stdout",
     "output_type": "stream",
     "text": [
      "+--------+--------------------+----------------+----------+--------------+--------------------+\n",
      "|ORDER_ID|             PRODUCT|QUANTITY_ORDERED|PRICE_EACH|    ORDER_DATE|    PURCHASE_ADDRESS|\n",
      "+--------+--------------------+----------------+----------+--------------+--------------------+\n",
      "|  141241|AAA Batteries (4-...|               1|         2|01/27/19 22:60|4 Maple St, San F...|\n",
      "+--------+--------------------+----------------+----------+--------------+--------------------+\n",
      "\n"
     ]
    }
   ],
   "source": [
    "df.na.drop().show()"
   ]
  },
  {
   "cell_type": "code",
   "execution_count": 114,
   "metadata": {},
   "outputs": [
    {
     "name": "stdout",
     "output_type": "stream",
     "text": [
      "+--------+--------------------+----------------+----------+--------------+--------------------+\n",
      "|ORDER_ID|             PRODUCT|QUANTITY_ORDERED|PRICE_EACH|    ORDER_DATE|    PURCHASE_ADDRESS|\n",
      "+--------+--------------------+----------------+----------+--------------+--------------------+\n",
      "|  141241|AAA Batteries (4-...|               1|         2|01/27/19 22:60|4 Maple St, San F...|\n",
      "+--------+--------------------+----------------+----------+--------------+--------------------+\n",
      "\n"
     ]
    }
   ],
   "source": [
    "## any = how\n",
    "\n",
    "df.na.drop(how='any').show()"
   ]
  },
  {
   "cell_type": "code",
   "execution_count": 115,
   "metadata": {},
   "outputs": [
    {
     "name": "stdout",
     "output_type": "stream",
     "text": [
      "+--------+--------------------+----------------+----------+--------------+--------------------+\n",
      "|ORDER_ID|             PRODUCT|QUANTITY_ORDERED|PRICE_EACH|    ORDER_DATE|    PURCHASE_ADDRESS|\n",
      "+--------+--------------------+----------------+----------+--------------+--------------------+\n",
      "|  141234|Lightning Chargin...|            null|        14|01/29/19 19:08|3 Main St, Austin...|\n",
      "|  141236|USB-C Charging Cable|            null|      null|01/27/19 15:01|1 Church St, Los ...|\n",
      "|  141237|AA Batteries (4-p...|            null|      null|          null|8 Dogwood St, New...|\n",
      "|  141239|              iPhone|            null|      null|          null|                null|\n",
      "|  141241|AAA Batteries (4-...|               1|         2|01/27/19 22:60|4 Maple St, San F...|\n",
      "|  141242|                null|            null|       150|01/27/19 22:61|10 Lakeview St, D...|\n",
      "+--------+--------------------+----------------+----------+--------------+--------------------+\n",
      "\n"
     ]
    }
   ],
   "source": [
    "df.na.drop(how='all').show()"
   ]
  },
  {
   "cell_type": "code",
   "execution_count": 116,
   "metadata": {},
   "outputs": [
    {
     "name": "stdout",
     "output_type": "stream",
     "text": [
      "+--------+--------------------+----------------+----------+--------------+--------------------+\n",
      "|ORDER_ID|             PRODUCT|QUANTITY_ORDERED|PRICE_EACH|    ORDER_DATE|    PURCHASE_ADDRESS|\n",
      "+--------+--------------------+----------------+----------+--------------+--------------------+\n",
      "|  141234|Lightning Chargin...|            null|        14|01/29/19 19:08|3 Main St, Austin...|\n",
      "|  141236|USB-C Charging Cable|            null|      null|01/27/19 15:01|1 Church St, Los ...|\n",
      "|  141237|AA Batteries (4-p...|            null|      null|          null|8 Dogwood St, New...|\n",
      "|  141239|              iPhone|            null|      null|          null|                null|\n",
      "|  141241|AAA Batteries (4-...|               1|         2|01/27/19 22:60|4 Maple St, San F...|\n",
      "|  141242|                null|            null|       150|01/27/19 22:61|10 Lakeview St, D...|\n",
      "+--------+--------------------+----------------+----------+--------------+--------------------+\n",
      "\n"
     ]
    }
   ],
   "source": [
    "df.show()"
   ]
  },
  {
   "cell_type": "code",
   "execution_count": 117,
   "metadata": {},
   "outputs": [
    {
     "name": "stdout",
     "output_type": "stream",
     "text": [
      "+--------+--------------------+----------------+----------+--------------+--------------------+\n",
      "|ORDER_ID|             PRODUCT|QUANTITY_ORDERED|PRICE_EACH|    ORDER_DATE|    PURCHASE_ADDRESS|\n",
      "+--------+--------------------+----------------+----------+--------------+--------------------+\n",
      "|  141234|Lightning Chargin...|            null|        14|01/29/19 19:08|3 Main St, Austin...|\n",
      "|  141236|USB-C Charging Cable|            null|      null|01/27/19 15:01|1 Church St, Los ...|\n",
      "|  141241|AAA Batteries (4-...|               1|         2|01/27/19 22:60|4 Maple St, San F...|\n",
      "|  141242|                null|            null|       150|01/27/19 22:61|10 Lakeview St, D...|\n",
      "+--------+--------------------+----------------+----------+--------------+--------------------+\n",
      "\n"
     ]
    }
   ],
   "source": [
    "# threshold\n",
    "# 1 --> atleast 1 non-null value\n",
    "# 2 --> atleast 2 non-null value\n",
    "# 3 --> atleast 3 non-null value\n",
    "# 4 --> atleast 4 non-null value\n",
    "\n",
    "df.na.drop(how='all', thresh=4).show()\n"
   ]
  },
  {
   "cell_type": "code",
   "execution_count": 118,
   "metadata": {},
   "outputs": [
    {
     "name": "stdout",
     "output_type": "stream",
     "text": [
      "+--------+--------------------+----------------+----------+--------------+--------------------+\n",
      "|ORDER_ID|             PRODUCT|QUANTITY_ORDERED|PRICE_EACH|    ORDER_DATE|    PURCHASE_ADDRESS|\n",
      "+--------+--------------------+----------------+----------+--------------+--------------------+\n",
      "|  141234|Lightning Chargin...|            null|        14|01/29/19 19:08|3 Main St, Austin...|\n",
      "|  141236|USB-C Charging Cable|            null|      null|01/27/19 15:01|1 Church St, Los ...|\n",
      "|  141237|AA Batteries (4-p...|            null|      null|          null|8 Dogwood St, New...|\n",
      "|  141239|              iPhone|            null|      null|          null|                null|\n",
      "|  141241|AAA Batteries (4-...|               1|         2|01/27/19 22:60|4 Maple St, San F...|\n",
      "|  141242|                null|            null|       150|01/27/19 22:61|10 Lakeview St, D...|\n",
      "+--------+--------------------+----------------+----------+--------------+--------------------+\n",
      "\n"
     ]
    }
   ],
   "source": [
    "df.show()"
   ]
  },
  {
   "cell_type": "code",
   "execution_count": 119,
   "metadata": {},
   "outputs": [
    {
     "name": "stdout",
     "output_type": "stream",
     "text": [
      "+--------+--------------------+----------------+----------+--------------+--------------------+\n",
      "|ORDER_ID|             PRODUCT|QUANTITY_ORDERED|PRICE_EACH|    ORDER_DATE|    PURCHASE_ADDRESS|\n",
      "+--------+--------------------+----------------+----------+--------------+--------------------+\n",
      "|  141241|AAA Batteries (4-...|               1|         2|01/27/19 22:60|4 Maple St, San F...|\n",
      "+--------+--------------------+----------------+----------+--------------+--------------------+\n",
      "\n"
     ]
    }
   ],
   "source": [
    "# subset\n",
    "\n",
    "df.na.drop(how='any', subset=['QUANTITY_ORDERED']).show()"
   ]
  },
  {
   "cell_type": "markdown",
   "metadata": {},
   "source": [
    "# Fill missing value"
   ]
  },
  {
   "cell_type": "code",
   "execution_count": 121,
   "metadata": {},
   "outputs": [
    {
     "name": "stdout",
     "output_type": "stream",
     "text": [
      "+--------+--------------------+----------------+----------+--------------+--------------------+\n",
      "|ORDER_ID|             PRODUCT|QUANTITY_ORDERED|PRICE_EACH|    ORDER_DATE|    PURCHASE_ADDRESS|\n",
      "+--------+--------------------+----------------+----------+--------------+--------------------+\n",
      "|  141234|Lightning Chargin...|            null|        14|01/29/19 19:08|3 Main St, Austin...|\n",
      "|  141236|USB-C Charging Cable|            null|      null|01/27/19 15:01|1 Church St, Los ...|\n",
      "|  141237|AA Batteries (4-p...|            null|      null|          null|8 Dogwood St, New...|\n",
      "|  141239|              iPhone|            null|      null|          null|                null|\n",
      "|  141241|AAA Batteries (4-...|               1|         2|01/27/19 22:60|4 Maple St, San F...|\n",
      "|  141242|                null|            null|       150|01/27/19 22:61|10 Lakeview St, D...|\n",
      "+--------+--------------------+----------------+----------+--------------+--------------------+\n",
      "\n"
     ]
    }
   ],
   "source": [
    "df.na.fill('Missing value', ['QUANTITY_ORDERED', 'PRICE_EACH']).show()"
   ]
  },
  {
   "cell_type": "code",
   "execution_count": 122,
   "metadata": {},
   "outputs": [],
   "source": [
    "from pyspark.ml.feature import Imputer"
   ]
  },
  {
   "cell_type": "code",
   "execution_count": 129,
   "metadata": {},
   "outputs": [],
   "source": [
    "imputer = Imputer(\n",
    "    inputCols = ['PRICE_EACH', 'QUANTITY_ORDERED'],\n",
    "    outputCols = [\"{}_imputer\".format(c) for c in ['PRICE_EACH', 'QUANTITY_ORDERED']]\n",
    ").setStrategy('mean')"
   ]
  },
  {
   "cell_type": "code",
   "execution_count": 131,
   "metadata": {},
   "outputs": [
    {
     "data": {
      "text/html": [
       "<div>\n",
       "<style scoped>\n",
       "    .dataframe tbody tr th:only-of-type {\n",
       "        vertical-align: middle;\n",
       "    }\n",
       "\n",
       "    .dataframe tbody tr th {\n",
       "        vertical-align: top;\n",
       "    }\n",
       "\n",
       "    .dataframe thead th {\n",
       "        text-align: right;\n",
       "    }\n",
       "</style>\n",
       "<table border=\"1\" class=\"dataframe\">\n",
       "  <thead>\n",
       "    <tr style=\"text-align: right;\">\n",
       "      <th></th>\n",
       "      <th>ORDER_ID</th>\n",
       "      <th>PRODUCT</th>\n",
       "      <th>QUANTITY_ORDERED</th>\n",
       "      <th>PRICE_EACH</th>\n",
       "      <th>ORDER_DATE</th>\n",
       "      <th>PURCHASE_ADDRESS</th>\n",
       "      <th>PRICE_EACH_imputer</th>\n",
       "      <th>QUANTITY_ORDERED_imputer</th>\n",
       "    </tr>\n",
       "  </thead>\n",
       "  <tbody>\n",
       "    <tr>\n",
       "      <th>0</th>\n",
       "      <td>141234</td>\n",
       "      <td>Lightning Charging Cable</td>\n",
       "      <td>NaN</td>\n",
       "      <td>14.0</td>\n",
       "      <td>01/29/19 19:08</td>\n",
       "      <td>3 Main St, Austin, TX 73301</td>\n",
       "      <td>14</td>\n",
       "      <td>1</td>\n",
       "    </tr>\n",
       "    <tr>\n",
       "      <th>1</th>\n",
       "      <td>141236</td>\n",
       "      <td>USB-C Charging Cable</td>\n",
       "      <td>NaN</td>\n",
       "      <td>NaN</td>\n",
       "      <td>01/27/19 15:01</td>\n",
       "      <td>1 Church St, Los Angeles, CA 90001</td>\n",
       "      <td>55</td>\n",
       "      <td>1</td>\n",
       "    </tr>\n",
       "    <tr>\n",
       "      <th>2</th>\n",
       "      <td>141237</td>\n",
       "      <td>AA Batteries (4-pack)</td>\n",
       "      <td>NaN</td>\n",
       "      <td>NaN</td>\n",
       "      <td>None</td>\n",
       "      <td>8 Dogwood St, New York City, NY 10001</td>\n",
       "      <td>55</td>\n",
       "      <td>1</td>\n",
       "    </tr>\n",
       "    <tr>\n",
       "      <th>3</th>\n",
       "      <td>141239</td>\n",
       "      <td>iPhone</td>\n",
       "      <td>NaN</td>\n",
       "      <td>NaN</td>\n",
       "      <td>None</td>\n",
       "      <td>None</td>\n",
       "      <td>55</td>\n",
       "      <td>1</td>\n",
       "    </tr>\n",
       "    <tr>\n",
       "      <th>4</th>\n",
       "      <td>141241</td>\n",
       "      <td>AAA Batteries (4-pack)</td>\n",
       "      <td>1.0</td>\n",
       "      <td>2.0</td>\n",
       "      <td>01/27/19 22:60</td>\n",
       "      <td>4 Maple St, San Francisco, CA 94016</td>\n",
       "      <td>2</td>\n",
       "      <td>1</td>\n",
       "    </tr>\n",
       "  </tbody>\n",
       "</table>\n",
       "</div>"
      ],
      "text/plain": [
       "  ORDER_ID                   PRODUCT  QUANTITY_ORDERED  PRICE_EACH  \\\n",
       "0   141234  Lightning Charging Cable               NaN        14.0   \n",
       "1   141236      USB-C Charging Cable               NaN         NaN   \n",
       "2   141237     AA Batteries (4-pack)               NaN         NaN   \n",
       "3   141239                    iPhone               NaN         NaN   \n",
       "4   141241    AAA Batteries (4-pack)               1.0         2.0   \n",
       "\n",
       "       ORDER_DATE                       PURCHASE_ADDRESS  PRICE_EACH_imputer  \\\n",
       "0  01/29/19 19:08            3 Main St, Austin, TX 73301                  14   \n",
       "1  01/27/19 15:01     1 Church St, Los Angeles, CA 90001                  55   \n",
       "2            None  8 Dogwood St, New York City, NY 10001                  55   \n",
       "3            None                                   None                  55   \n",
       "4  01/27/19 22:60    4 Maple St, San Francisco, CA 94016                   2   \n",
       "\n",
       "   QUANTITY_ORDERED_imputer  \n",
       "0                         1  \n",
       "1                         1  \n",
       "2                         1  \n",
       "3                         1  \n",
       "4                         1  "
      ]
     },
     "execution_count": 131,
     "metadata": {},
     "output_type": "execute_result"
    }
   ],
   "source": [
    "imputer.fit(df).transform(df).toPandas().head()"
   ]
  },
  {
   "cell_type": "code",
   "execution_count": null,
   "metadata": {},
   "outputs": [],
   "source": []
  }
 ],
 "metadata": {
  "interpreter": {
   "hash": "7a542ca580817fc4dd55327026e074e2fa0cd470fc5dee9350c2d8b13822db8d"
  },
  "kernelspec": {
   "display_name": "Python 3.8.1 32-bit",
   "language": "python",
   "name": "python3"
  },
  "language_info": {
   "codemirror_mode": {
    "name": "ipython",
    "version": 3
   },
   "file_extension": ".py",
   "mimetype": "text/x-python",
   "name": "python",
   "nbconvert_exporter": "python",
   "pygments_lexer": "ipython3",
   "version": "3.8.1"
  },
  "orig_nbformat": 4
 },
 "nbformat": 4,
 "nbformat_minor": 2
}

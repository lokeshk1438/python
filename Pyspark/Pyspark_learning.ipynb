{
 "cells": [
  {
   "cell_type": "code",
   "execution_count": 1,
   "metadata": {},
   "outputs": [],
   "source": [
    "from pyspark.sql import SparkSession\n",
    "import pandas as pd\n",
    "import numpy as np\n",
    "import random"
   ]
  },
  {
   "cell_type": "code",
   "execution_count": 2,
   "metadata": {},
   "outputs": [],
   "source": [
    "spark = SparkSession.builder.appName(\"Pyspark Learning\").getOrCreate()"
   ]
  },
  {
   "cell_type": "code",
   "execution_count": 3,
   "metadata": {},
   "outputs": [],
   "source": [
    "df_cases = spark.read.csv('sparkdf_guide/coronavirusdataset/Case.csv', inferSchema=True, sep=\",\", header=True)"
   ]
  },
  {
   "cell_type": "code",
   "execution_count": 5,
   "metadata": {},
   "outputs": [],
   "source": [
    "spark.conf.set('spark.sql.repl.eagerEval.enabled', True)"
   ]
  },
  {
   "cell_type": "code",
   "execution_count": 9,
   "metadata": {},
   "outputs": [
    {
     "data": {
      "text/html": [
       "<table border='1'>\n",
       "<tr><th>case_id</th><th>province</th><th>city</th><th>group</th><th>infection_case</th><th>confirmed</th><th>latitude</th><th>longitude</th></tr>\n",
       "<tr><td>1000001</td><td>Seoul</td><td>Yongsan-gu</td><td>true</td><td>Itaewon Clubs</td><td>72</td><td>37.538621</td><td>126.992652</td></tr>\n",
       "<tr><td>1000002</td><td>Seoul</td><td>Guro-gu</td><td>true</td><td>Guro-gu Call Center</td><td>98</td><td>37.508163</td><td>126.884387</td></tr>\n",
       "<tr><td>1000003</td><td>Seoul</td><td>Dongdaemun-gu</td><td>true</td><td>Dongan Church</td><td>20</td><td>37.592888</td><td>127.056766</td></tr>\n",
       "<tr><td>1000004</td><td>Seoul</td><td>Guro-gu</td><td>true</td><td>Manmin Central Ch...</td><td>41</td><td>37.481059</td><td>126.894343</td></tr>\n",
       "<tr><td>1000005</td><td>Seoul</td><td>Eunpyeong-gu</td><td>true</td><td>Eunpyeong St. Mar...</td><td>14</td><td>37.63369</td><td>126.9165</td></tr>\n",
       "<tr><td>1000006</td><td>Seoul</td><td>Seongdong-gu</td><td>true</td><td>Seongdong-gu APT</td><td>13</td><td>37.55713</td><td>127.0403</td></tr>\n",
       "<tr><td>1000007</td><td>Seoul</td><td>Jongno-gu</td><td>true</td><td>Jongno Community ...</td><td>10</td><td>37.57681</td><td>127.006</td></tr>\n",
       "<tr><td>1000008</td><td>Seoul</td><td>Jung-gu</td><td>true</td><td>Jung-gu Fashion C...</td><td>7</td><td>37.562405</td><td>126.984377</td></tr>\n",
       "<tr><td>1000009</td><td>Seoul</td><td>from other city</td><td>true</td><td>Shincheonji Church</td><td>8</td><td>-</td><td>-</td></tr>\n",
       "<tr><td>1000010</td><td>Seoul</td><td>-</td><td>false</td><td>overseas inflow</td><td>321</td><td>-</td><td>-</td></tr>\n",
       "<tr><td>1000011</td><td>Seoul</td><td>-</td><td>false</td><td>contact with patient</td><td>18</td><td>-</td><td>-</td></tr>\n",
       "<tr><td>1000012</td><td>Seoul</td><td>-</td><td>false</td><td>etc</td><td>24</td><td>-</td><td>-</td></tr>\n",
       "<tr><td>1100001</td><td>Busan</td><td>Dongnae-gu</td><td>true</td><td>Onchun Church</td><td>39</td><td>35.21628</td><td>129.0771</td></tr>\n",
       "<tr><td>1100002</td><td>Busan</td><td>from other city</td><td>true</td><td>Shincheonji Church</td><td>12</td><td>-</td><td>-</td></tr>\n",
       "<tr><td>1100003</td><td>Busan</td><td>Suyeong-gu</td><td>true</td><td>Suyeong-gu Kinder...</td><td>5</td><td>35.16708</td><td>129.1124</td></tr>\n",
       "<tr><td>1100004</td><td>Busan</td><td>Haeundae-gu</td><td>true</td><td>Haeundae-gu Catho...</td><td>6</td><td>35.20599</td><td>129.1256</td></tr>\n",
       "<tr><td>1100005</td><td>Busan</td><td>Jin-gu</td><td>true</td><td>Jin-gu Academy</td><td>4</td><td>35.17371</td><td>129.0633</td></tr>\n",
       "<tr><td>1100006</td><td>Busan</td><td>from other city</td><td>true</td><td>Cheongdo Daenam H...</td><td>1</td><td>-</td><td>-</td></tr>\n",
       "<tr><td>1100007</td><td>Busan</td><td>-</td><td>false</td><td>overseas inflow</td><td>25</td><td>-</td><td>-</td></tr>\n",
       "<tr><td>1100008</td><td>Busan</td><td>-</td><td>false</td><td>contact with patient</td><td>18</td><td>-</td><td>-</td></tr>\n",
       "</table>\n",
       "only showing top 20 rows\n"
      ],
      "text/plain": [
       "DataFrame[case_id: int, province: string, city: string, group: boolean, infection_case: string, confirmed: int, latitude: string, longitude: string]"
      ]
     },
     "execution_count": 9,
     "metadata": {},
     "output_type": "execute_result"
    }
   ],
   "source": [
    "df_cases"
   ]
  },
  {
   "cell_type": "code",
   "execution_count": 119,
   "metadata": {},
   "outputs": [
    {
     "data": {
      "text/plain": [
       "115"
      ]
     },
     "execution_count": 119,
     "metadata": {},
     "output_type": "execute_result"
    }
   ],
   "source": [
    "df_cases.count()"
   ]
  },
  {
   "cell_type": "code",
   "execution_count": 120,
   "metadata": {},
   "outputs": [
    {
     "data": {
      "text/html": [
       "<div>\n",
       "<style scoped>\n",
       "    .dataframe tbody tr th:only-of-type {\n",
       "        vertical-align: middle;\n",
       "    }\n",
       "\n",
       "    .dataframe tbody tr th {\n",
       "        vertical-align: top;\n",
       "    }\n",
       "\n",
       "    .dataframe thead th {\n",
       "        text-align: right;\n",
       "    }\n",
       "</style>\n",
       "<table border=\"1\" class=\"dataframe\">\n",
       "  <thead>\n",
       "    <tr style=\"text-align: right;\">\n",
       "      <th></th>\n",
       "      <th>case_id</th>\n",
       "      <th>province</th>\n",
       "      <th>city</th>\n",
       "      <th>group</th>\n",
       "      <th>infection_case</th>\n",
       "      <th>confirmed</th>\n",
       "      <th>latitude</th>\n",
       "      <th>longitude</th>\n",
       "    </tr>\n",
       "  </thead>\n",
       "  <tbody>\n",
       "    <tr>\n",
       "      <th>0</th>\n",
       "      <td>1000001</td>\n",
       "      <td>Seoul</td>\n",
       "      <td>Yongsan-gu</td>\n",
       "      <td>True</td>\n",
       "      <td>Itaewon Clubs</td>\n",
       "      <td>72</td>\n",
       "      <td>37.538621</td>\n",
       "      <td>126.992652</td>\n",
       "    </tr>\n",
       "    <tr>\n",
       "      <th>1</th>\n",
       "      <td>1000002</td>\n",
       "      <td>Seoul</td>\n",
       "      <td>Guro-gu</td>\n",
       "      <td>True</td>\n",
       "      <td>Guro-gu Call Center</td>\n",
       "      <td>98</td>\n",
       "      <td>37.508163</td>\n",
       "      <td>126.884387</td>\n",
       "    </tr>\n",
       "  </tbody>\n",
       "</table>\n",
       "</div>"
      ],
      "text/plain": [
       "   case_id province        city  group       infection_case  confirmed  \\\n",
       "0  1000001    Seoul  Yongsan-gu   True        Itaewon Clubs         72   \n",
       "1  1000002    Seoul     Guro-gu   True  Guro-gu Call Center         98   \n",
       "\n",
       "    latitude   longitude  \n",
       "0  37.538621  126.992652  \n",
       "1  37.508163  126.884387  "
      ]
     },
     "execution_count": 120,
     "metadata": {},
     "output_type": "execute_result"
    }
   ],
   "source": [
    "df_cases.limit(2).toPandas()"
   ]
  },
  {
   "cell_type": "markdown",
   "metadata": {},
   "source": [
    "## Change column names"
   ]
  },
  {
   "cell_type": "code",
   "execution_count": 121,
   "metadata": {},
   "outputs": [],
   "source": [
    "df_cases = df_cases.withColumnRenamed(\"infection_case\", \"infection_source\")"
   ]
  },
  {
   "cell_type": "code",
   "execution_count": 122,
   "metadata": {},
   "outputs": [
    {
     "name": "stdout",
     "output_type": "stream",
     "text": [
      "+-------+--------+----------+-----+----------------+---------+---------+----------+\n",
      "|case_id|province|      city|group|infection_source|confirmed| latitude| longitude|\n",
      "+-------+--------+----------+-----+----------------+---------+---------+----------+\n",
      "|1000001|   Seoul|Yongsan-gu| true|   Itaewon Clubs|       72|37.538621|126.992652|\n",
      "+-------+--------+----------+-----+----------------+---------+---------+----------+\n",
      "only showing top 1 row\n",
      "\n"
     ]
    }
   ],
   "source": [
    "df_cases.show(1)"
   ]
  },
  {
   "cell_type": "markdown",
   "metadata": {},
   "source": [
    "## Select"
   ]
  },
  {
   "cell_type": "code",
   "execution_count": 47,
   "metadata": {},
   "outputs": [
    {
     "name": "stdout",
     "output_type": "stream",
     "text": [
      "+-------+-------------+---------+\n",
      "|case_id|         city|confirmed|\n",
      "+-------+-------------+---------+\n",
      "|1000001|   Yongsan-gu|       72|\n",
      "|1000002|      Guro-gu|       98|\n",
      "|1000003|Dongdaemun-gu|       20|\n",
      "|1000004|      Guro-gu|       41|\n",
      "|1000005| Eunpyeong-gu|       14|\n",
      "+-------+-------------+---------+\n",
      "only showing top 5 rows\n",
      "\n"
     ]
    }
   ],
   "source": [
    "df_cases.select('case_id', 'city', 'confirmed').show(5)"
   ]
  },
  {
   "cell_type": "markdown",
   "metadata": {},
   "source": [
    "## Sort"
   ]
  },
  {
   "cell_type": "code",
   "execution_count": 49,
   "metadata": {},
   "outputs": [
    {
     "name": "stdout",
     "output_type": "stream",
     "text": [
      "+-------+-----------------+---------------+-----+--------------------+---------+---------+----------+\n",
      "|case_id|         province|           city|group|    infection_source|confirmed| latitude| longitude|\n",
      "+-------+-----------------+---------------+-----+--------------------+---------+---------+----------+\n",
      "|7000002|          Jeju-do|              -|false|contact with patient|        0|        -|         -|\n",
      "|3000005|       Gangwon-do|              -|false|contact with patient|        0|        -|         -|\n",
      "|1300004|          Gwangju|              -|false|                 etc|        0|        -|         -|\n",
      "|1100006|            Busan|from other city| true|Cheongdo Daenam H...|        1|        -|         -|\n",
      "|1300003|          Gwangju|              -|false|contact with patient|        1|        -|         -|\n",
      "|7000004|          Jeju-do|from other city| true|       Itaewon Clubs|        1|        -|         -|\n",
      "|1700003|           Sejong|from other city| true|  Shincheonji Church|        1|        -|         -|\n",
      "|1700006|           Sejong|              -|false|                 etc|        1|        -|         -|\n",
      "|4100004|Chungcheongnam-do|              -|false|contact with patient|        1|        -|         -|\n",
      "|5000001|     Jeollabuk-do|from other city| true|  Shincheonji Church|        1|        -|         -|\n",
      "|5100002|     Jeollanam-do|from other city| true|  Shincheonji Church|        1|        -|         -|\n",
      "|1400002|          Incheon|from other city| true|  Shincheonji Church|        2|        -|         -|\n",
      "|5100001|     Jeollanam-do|       Muan-gun| true|Manmin Central Ch...|        2|35.078825|126.316746|\n",
      "|1500002|          Daejeon|from other city| true|  Shincheonji Church|        2|        -|         -|\n",
      "|5100004|     Jeollanam-do|              -|false|contact with patient|        2|        -|         -|\n",
      "|1200006|            Daegu|from other city| true|Cheongdo Daenam H...|        2|        -|         -|\n",
      "|1500003|          Daejeon|from other city| true|Seosan-si Laboratory|        2|        -|         -|\n",
      "|6100007| Gyeongsangnam-do|from other city| true|       Onchun Church|        2|        -|         -|\n",
      "|1500001|          Daejeon|         Seo-gu| true|Korea Forest Engi...|        3|36.358123|127.388856|\n",
      "|1700004|           Sejong|              -|false|     overseas inflow|        3|        -|         -|\n",
      "+-------+-----------------+---------------+-----+--------------------+---------+---------+----------+\n",
      "only showing top 20 rows\n",
      "\n"
     ]
    }
   ],
   "source": [
    "df_cases.sort('confirmed').show() # lowed to highest"
   ]
  },
  {
   "cell_type": "code",
   "execution_count": 51,
   "metadata": {},
   "outputs": [],
   "source": [
    "# descending sort\n",
    "from pyspark.sql import functions as f"
   ]
  },
  {
   "cell_type": "code",
   "execution_count": 53,
   "metadata": {},
   "outputs": [
    {
     "name": "stdout",
     "output_type": "stream",
     "text": [
      "+-------+-----------------+---------------+-----+--------------------+---------+---------+----------+\n",
      "|case_id|         province|           city|group|    infection_source|confirmed| latitude| longitude|\n",
      "+-------+-----------------+---------------+-----+--------------------+---------+---------+----------+\n",
      "|1200001|            Daegu|         Nam-gu| true|  Shincheonji Church|     4510| 35.84008|  128.5667|\n",
      "|1200008|            Daegu|              -|false|contact with patient|      929|        -|         -|\n",
      "|1200009|            Daegu|              -|false|                 etc|      724|        -|         -|\n",
      "|6000001| Gyeongsangbuk-do|from other city| true|  Shincheonji Church|      566|        -|         -|\n",
      "|1000010|            Seoul|              -|false|     overseas inflow|      321|        -|         -|\n",
      "|2000007|      Gyeonggi-do|              -|false|     overseas inflow|      225|        -|         -|\n",
      "|1200002|            Daegu|   Dalseong-gun| true|Second Mi-Ju Hosp...|      196|35.857375|128.466651|\n",
      "|6000011| Gyeongsangbuk-do|              -|false|contact with patient|      192|        -|         -|\n",
      "|6000012| Gyeongsangbuk-do|              -|false|                 etc|      134|        -|         -|\n",
      "|1200003|            Daegu|         Seo-gu| true|Hansarang Convale...|      128|35.885592|128.556649|\n",
      "|6000002| Gyeongsangbuk-do|   Cheongdo-gun| true|Cheongdo Daenam H...|      120| 35.64887|  128.7368|\n",
      "|4100001|Chungcheongnam-do|     Cheonan-si| true|gym facility in C...|      103| 36.81503|  127.1139|\n",
      "|1200004|            Daegu|   Dalseong-gun| true|Daesil Convalesce...|      100|35.857393|128.466653|\n",
      "|1000002|            Seoul|        Guro-gu| true| Guro-gu Call Center|       98|37.508163|126.884387|\n",
      "|1000001|            Seoul|     Yongsan-gu| true|       Itaewon Clubs|       72|37.538621|126.992652|\n",
      "|2000001|      Gyeonggi-do|    Seongnam-si| true|River of Grace Co...|       72|37.455687|127.161627|\n",
      "|6000003| Gyeongsangbuk-do|    Bonghwa-gun| true|Bonghwa Pureun Nu...|       68| 36.92757|  128.9099|\n",
      "|6000006| Gyeongsangbuk-do|   Gyeongsan-si| true|Gyeongsan Seorin ...|       66|35.782149|128.801498|\n",
      "|2000008|      Gyeonggi-do|              -|false|contact with patient|       57|        -|         -|\n",
      "|2000003|      Gyeonggi-do|   Uijeongbu-si| true|Uijeongbu St. Mar...|       50|37.758635|127.077716|\n",
      "+-------+-----------------+---------------+-----+--------------------+---------+---------+----------+\n",
      "only showing top 20 rows\n",
      "\n"
     ]
    }
   ],
   "source": [
    "df_cases.sort(f.desc('confirmed')).show(20)"
   ]
  },
  {
   "cell_type": "markdown",
   "metadata": {},
   "source": [
    "# Cast"
   ]
  },
  {
   "cell_type": "code",
   "execution_count": 58,
   "metadata": {},
   "outputs": [],
   "source": [
    "from pyspark.sql.types import IntegerType, StringType, DoubleType"
   ]
  },
  {
   "cell_type": "code",
   "execution_count": 61,
   "metadata": {},
   "outputs": [],
   "source": [
    "df_cases = df_cases.withColumn('confirmed', f.col('confirmed').cast(IntegerType()))\n",
    "df_cases = df_cases.withColumn('city', f.col('city').cast(StringType()))"
   ]
  },
  {
   "cell_type": "code",
   "execution_count": 62,
   "metadata": {},
   "outputs": [
    {
     "name": "stdout",
     "output_type": "stream",
     "text": [
      "+-------+--------+-------------+-----+-----------------------------+---------+---------+----------+\n",
      "|case_id|province|city         |group|infection_source             |confirmed|latitude |longitude |\n",
      "+-------+--------+-------------+-----+-----------------------------+---------+---------+----------+\n",
      "|1000001|Seoul   |Yongsan-gu   |true |Itaewon Clubs                |72       |37.538621|126.992652|\n",
      "|1000002|Seoul   |Guro-gu      |true |Guro-gu Call Center          |98       |37.508163|126.884387|\n",
      "|1000003|Seoul   |Dongdaemun-gu|true |Dongan Church                |20       |37.592888|127.056766|\n",
      "|1000004|Seoul   |Guro-gu      |true |Manmin Central Church        |41       |37.481059|126.894343|\n",
      "|1000005|Seoul   |Eunpyeong-gu |true |Eunpyeong St. Mary's Hospital|14       |37.63369 |126.9165  |\n",
      "+-------+--------+-------------+-----+-----------------------------+---------+---------+----------+\n",
      "only showing top 5 rows\n",
      "\n"
     ]
    }
   ],
   "source": [
    "df_cases.show(5, False)"
   ]
  },
  {
   "cell_type": "markdown",
   "metadata": {},
   "source": [
    "## Filter"
   ]
  },
  {
   "cell_type": "code",
   "execution_count": 65,
   "metadata": {},
   "outputs": [
    {
     "name": "stdout",
     "output_type": "stream",
     "text": [
      "+-------+--------+----------+-----+----------------+---------+---------+----------+\n",
      "|case_id|province|      city|group|infection_source|confirmed| latitude| longitude|\n",
      "+-------+--------+----------+-----+----------------+---------+---------+----------+\n",
      "|1000001|   Seoul|Yongsan-gu| true|   Itaewon Clubs|       72|37.538621|126.992652|\n",
      "+-------+--------+----------+-----+----------------+---------+---------+----------+\n",
      "\n"
     ]
    }
   ],
   "source": [
    "df_cases.filter((df_cases.confirmed==72) & (df_cases.province=='Seoul')).show(5)"
   ]
  },
  {
   "cell_type": "markdown",
   "metadata": {},
   "source": [
    "## GroupBy"
   ]
  },
  {
   "cell_type": "code",
   "execution_count": 66,
   "metadata": {},
   "outputs": [
    {
     "name": "stdout",
     "output_type": "stream",
     "text": [
      "+-------+--------+---------------+-----+--------------------+---------+---------+----------+\n",
      "|case_id|province|           city|group|    infection_source|confirmed| latitude| longitude|\n",
      "+-------+--------+---------------+-----+--------------------+---------+---------+----------+\n",
      "|1000001|   Seoul|     Yongsan-gu| true|       Itaewon Clubs|       72|37.538621|126.992652|\n",
      "|1000002|   Seoul|        Guro-gu| true| Guro-gu Call Center|       98|37.508163|126.884387|\n",
      "|1000003|   Seoul|  Dongdaemun-gu| true|       Dongan Church|       20|37.592888|127.056766|\n",
      "|1000004|   Seoul|        Guro-gu| true|Manmin Central Ch...|       41|37.481059|126.894343|\n",
      "|1000005|   Seoul|   Eunpyeong-gu| true|Eunpyeong St. Mar...|       14| 37.63369|  126.9165|\n",
      "|1000006|   Seoul|   Seongdong-gu| true|    Seongdong-gu APT|       13| 37.55713|  127.0403|\n",
      "|1000007|   Seoul|      Jongno-gu| true|Jongno Community ...|       10| 37.57681|   127.006|\n",
      "|1000008|   Seoul|        Jung-gu| true|Jung-gu Fashion C...|        7|37.562405|126.984377|\n",
      "|1000009|   Seoul|from other city| true|  Shincheonji Church|        8|        -|         -|\n",
      "|1000010|   Seoul|              -|false|     overseas inflow|      321|        -|         -|\n",
      "|1000011|   Seoul|              -|false|contact with patient|       18|        -|         -|\n",
      "|1000012|   Seoul|              -|false|                 etc|       24|        -|         -|\n",
      "|1100001|   Busan|     Dongnae-gu| true|       Onchun Church|       39| 35.21628|  129.0771|\n",
      "|1100002|   Busan|from other city| true|  Shincheonji Church|       12|        -|         -|\n",
      "|1100003|   Busan|     Suyeong-gu| true|Suyeong-gu Kinder...|        5| 35.16708|  129.1124|\n",
      "|1100004|   Busan|    Haeundae-gu| true|Haeundae-gu Catho...|        6| 35.20599|  129.1256|\n",
      "|1100005|   Busan|         Jin-gu| true|      Jin-gu Academy|        4| 35.17371|  129.0633|\n",
      "|1100006|   Busan|from other city| true|Cheongdo Daenam H...|        1|        -|         -|\n",
      "|1100007|   Busan|              -|false|     overseas inflow|       25|        -|         -|\n",
      "|1100008|   Busan|              -|false|contact with patient|       18|        -|         -|\n",
      "+-------+--------+---------------+-----+--------------------+---------+---------+----------+\n",
      "only showing top 20 rows\n",
      "\n"
     ]
    }
   ],
   "source": [
    "df_cases.show()"
   ]
  },
  {
   "cell_type": "code",
   "execution_count": 123,
   "metadata": {},
   "outputs": [
    {
     "name": "stdout",
     "output_type": "stream",
     "text": [
      "+----------------+---------------+-----------+------------+\n",
      "|        province|           city|Total Cases|Highest_case|\n",
      "+----------------+---------------+-----------+------------+\n",
      "|Gyeongsangnam-do|       Jinju-si|         10|          10|\n",
      "|           Seoul|        Guro-gu|        139|          98|\n",
      "|         Daejeon|              -|         27|          10|\n",
      "|    Jeollabuk-do|from other city|          1|           1|\n",
      "|Gyeongsangnam-do|Changnyeong-gun|          7|           7|\n",
      "+----------------+---------------+-----------+------------+\n",
      "only showing top 5 rows\n",
      "\n"
     ]
    }
   ],
   "source": [
    "df_cases.groupBy('province', 'city').agg(\\\n",
    "    f.sum('confirmed').alias('Total Cases'), \\\n",
    "    f.max('confirmed').alias('Highest_case') \\\n",
    "    ).show(5)"
   ]
  },
  {
   "cell_type": "markdown",
   "metadata": {},
   "source": [
    "## Joins"
   ]
  },
  {
   "cell_type": "code",
   "execution_count": 76,
   "metadata": {},
   "outputs": [],
   "source": [
    "df_region = spark.read.csv('sparkdf_guide/coronavirusdataset/Region.csv', inferSchema=True, header=True, sep=\",\")"
   ]
  },
  {
   "cell_type": "code",
   "execution_count": 83,
   "metadata": {},
   "outputs": [
    {
     "data": {
      "text/html": [
       "<div>\n",
       "<style scoped>\n",
       "    .dataframe tbody tr th:only-of-type {\n",
       "        vertical-align: middle;\n",
       "    }\n",
       "\n",
       "    .dataframe tbody tr th {\n",
       "        vertical-align: top;\n",
       "    }\n",
       "\n",
       "    .dataframe thead th {\n",
       "        text-align: right;\n",
       "    }\n",
       "</style>\n",
       "<table border=\"1\" class=\"dataframe\">\n",
       "  <thead>\n",
       "    <tr style=\"text-align: right;\">\n",
       "      <th></th>\n",
       "      <th>code</th>\n",
       "      <th>province</th>\n",
       "      <th>city</th>\n",
       "      <th>latitude</th>\n",
       "      <th>longitude</th>\n",
       "      <th>elementary_school_count</th>\n",
       "      <th>kindergarten_count</th>\n",
       "      <th>university_count</th>\n",
       "      <th>academy_ratio</th>\n",
       "      <th>elderly_population_ratio</th>\n",
       "      <th>elderly_alone_ratio</th>\n",
       "      <th>nursing_home_count</th>\n",
       "    </tr>\n",
       "  </thead>\n",
       "  <tbody>\n",
       "    <tr>\n",
       "      <th>0</th>\n",
       "      <td>10000</td>\n",
       "      <td>Seoul</td>\n",
       "      <td>Seoul</td>\n",
       "      <td>37.566953</td>\n",
       "      <td>126.977977</td>\n",
       "      <td>607</td>\n",
       "      <td>830</td>\n",
       "      <td>48</td>\n",
       "      <td>1.44</td>\n",
       "      <td>15.38</td>\n",
       "      <td>5.8</td>\n",
       "      <td>22739</td>\n",
       "    </tr>\n",
       "    <tr>\n",
       "      <th>1</th>\n",
       "      <td>10010</td>\n",
       "      <td>Seoul</td>\n",
       "      <td>Gangnam-gu</td>\n",
       "      <td>37.518421</td>\n",
       "      <td>127.047222</td>\n",
       "      <td>33</td>\n",
       "      <td>38</td>\n",
       "      <td>0</td>\n",
       "      <td>4.18</td>\n",
       "      <td>13.17</td>\n",
       "      <td>4.3</td>\n",
       "      <td>3088</td>\n",
       "    </tr>\n",
       "    <tr>\n",
       "      <th>2</th>\n",
       "      <td>10020</td>\n",
       "      <td>Seoul</td>\n",
       "      <td>Gangdong-gu</td>\n",
       "      <td>37.530492</td>\n",
       "      <td>127.123837</td>\n",
       "      <td>27</td>\n",
       "      <td>32</td>\n",
       "      <td>0</td>\n",
       "      <td>1.54</td>\n",
       "      <td>14.55</td>\n",
       "      <td>5.4</td>\n",
       "      <td>1023</td>\n",
       "    </tr>\n",
       "    <tr>\n",
       "      <th>3</th>\n",
       "      <td>10030</td>\n",
       "      <td>Seoul</td>\n",
       "      <td>Gangbuk-gu</td>\n",
       "      <td>37.639938</td>\n",
       "      <td>127.025508</td>\n",
       "      <td>14</td>\n",
       "      <td>21</td>\n",
       "      <td>0</td>\n",
       "      <td>0.67</td>\n",
       "      <td>19.49</td>\n",
       "      <td>8.5</td>\n",
       "      <td>628</td>\n",
       "    </tr>\n",
       "    <tr>\n",
       "      <th>4</th>\n",
       "      <td>10040</td>\n",
       "      <td>Seoul</td>\n",
       "      <td>Gangseo-gu</td>\n",
       "      <td>37.551166</td>\n",
       "      <td>126.849506</td>\n",
       "      <td>36</td>\n",
       "      <td>56</td>\n",
       "      <td>1</td>\n",
       "      <td>1.17</td>\n",
       "      <td>14.39</td>\n",
       "      <td>5.7</td>\n",
       "      <td>1080</td>\n",
       "    </tr>\n",
       "  </tbody>\n",
       "</table>\n",
       "</div>"
      ],
      "text/plain": [
       "    code province         city   latitude   longitude  \\\n",
       "0  10000    Seoul        Seoul  37.566953  126.977977   \n",
       "1  10010    Seoul   Gangnam-gu  37.518421  127.047222   \n",
       "2  10020    Seoul  Gangdong-gu  37.530492  127.123837   \n",
       "3  10030    Seoul   Gangbuk-gu  37.639938  127.025508   \n",
       "4  10040    Seoul   Gangseo-gu  37.551166  126.849506   \n",
       "\n",
       "   elementary_school_count  kindergarten_count  university_count  \\\n",
       "0                      607                 830                48   \n",
       "1                       33                  38                 0   \n",
       "2                       27                  32                 0   \n",
       "3                       14                  21                 0   \n",
       "4                       36                  56                 1   \n",
       "\n",
       "   academy_ratio  elderly_population_ratio  elderly_alone_ratio  \\\n",
       "0           1.44                     15.38                  5.8   \n",
       "1           4.18                     13.17                  4.3   \n",
       "2           1.54                     14.55                  5.4   \n",
       "3           0.67                     19.49                  8.5   \n",
       "4           1.17                     14.39                  5.7   \n",
       "\n",
       "   nursing_home_count  \n",
       "0               22739  \n",
       "1                3088  \n",
       "2                1023  \n",
       "3                 628  \n",
       "4                1080  "
      ]
     },
     "execution_count": 83,
     "metadata": {},
     "output_type": "execute_result"
    }
   ],
   "source": [
    "df_region.toPandas().head()"
   ]
  },
  {
   "cell_type": "code",
   "execution_count": 78,
   "metadata": {},
   "outputs": [],
   "source": [
    "df_joined = df_cases.join(df_region, on=['province', 'city'], how='left')"
   ]
  },
  {
   "cell_type": "code",
   "execution_count": 82,
   "metadata": {},
   "outputs": [
    {
     "data": {
      "text/html": [
       "<div>\n",
       "<style scoped>\n",
       "    .dataframe tbody tr th:only-of-type {\n",
       "        vertical-align: middle;\n",
       "    }\n",
       "\n",
       "    .dataframe tbody tr th {\n",
       "        vertical-align: top;\n",
       "    }\n",
       "\n",
       "    .dataframe thead th {\n",
       "        text-align: right;\n",
       "    }\n",
       "</style>\n",
       "<table border=\"1\" class=\"dataframe\">\n",
       "  <thead>\n",
       "    <tr style=\"text-align: right;\">\n",
       "      <th></th>\n",
       "      <th>province</th>\n",
       "      <th>city</th>\n",
       "      <th>case_id</th>\n",
       "      <th>group</th>\n",
       "      <th>infection_source</th>\n",
       "      <th>confirmed</th>\n",
       "      <th>latitude</th>\n",
       "      <th>longitude</th>\n",
       "      <th>code</th>\n",
       "      <th>latitude</th>\n",
       "      <th>longitude</th>\n",
       "      <th>elementary_school_count</th>\n",
       "      <th>kindergarten_count</th>\n",
       "      <th>university_count</th>\n",
       "      <th>academy_ratio</th>\n",
       "      <th>elderly_population_ratio</th>\n",
       "      <th>elderly_alone_ratio</th>\n",
       "      <th>nursing_home_count</th>\n",
       "    </tr>\n",
       "  </thead>\n",
       "  <tbody>\n",
       "    <tr>\n",
       "      <th>0</th>\n",
       "      <td>Seoul</td>\n",
       "      <td>Yongsan-gu</td>\n",
       "      <td>1000001</td>\n",
       "      <td>True</td>\n",
       "      <td>Itaewon Clubs</td>\n",
       "      <td>72</td>\n",
       "      <td>37.538621</td>\n",
       "      <td>126.992652</td>\n",
       "      <td>10210.0</td>\n",
       "      <td>37.532768</td>\n",
       "      <td>126.990021</td>\n",
       "      <td>15.0</td>\n",
       "      <td>13.0</td>\n",
       "      <td>1.0</td>\n",
       "      <td>0.68</td>\n",
       "      <td>16.87</td>\n",
       "      <td>6.5</td>\n",
       "      <td>435.0</td>\n",
       "    </tr>\n",
       "    <tr>\n",
       "      <th>1</th>\n",
       "      <td>Seoul</td>\n",
       "      <td>Guro-gu</td>\n",
       "      <td>1000002</td>\n",
       "      <td>True</td>\n",
       "      <td>Guro-gu Call Center</td>\n",
       "      <td>98</td>\n",
       "      <td>37.508163</td>\n",
       "      <td>126.884387</td>\n",
       "      <td>10070.0</td>\n",
       "      <td>37.495632</td>\n",
       "      <td>126.887650</td>\n",
       "      <td>26.0</td>\n",
       "      <td>34.0</td>\n",
       "      <td>3.0</td>\n",
       "      <td>1.00</td>\n",
       "      <td>16.21</td>\n",
       "      <td>5.7</td>\n",
       "      <td>741.0</td>\n",
       "    </tr>\n",
       "    <tr>\n",
       "      <th>2</th>\n",
       "      <td>Seoul</td>\n",
       "      <td>Dongdaemun-gu</td>\n",
       "      <td>1000003</td>\n",
       "      <td>True</td>\n",
       "      <td>Dongan Church</td>\n",
       "      <td>20</td>\n",
       "      <td>37.592888</td>\n",
       "      <td>127.056766</td>\n",
       "      <td>10110.0</td>\n",
       "      <td>37.574552</td>\n",
       "      <td>127.039721</td>\n",
       "      <td>21.0</td>\n",
       "      <td>31.0</td>\n",
       "      <td>4.0</td>\n",
       "      <td>1.06</td>\n",
       "      <td>17.26</td>\n",
       "      <td>6.7</td>\n",
       "      <td>832.0</td>\n",
       "    </tr>\n",
       "    <tr>\n",
       "      <th>3</th>\n",
       "      <td>Seoul</td>\n",
       "      <td>Guro-gu</td>\n",
       "      <td>1000004</td>\n",
       "      <td>True</td>\n",
       "      <td>Manmin Central Church</td>\n",
       "      <td>41</td>\n",
       "      <td>37.481059</td>\n",
       "      <td>126.894343</td>\n",
       "      <td>10070.0</td>\n",
       "      <td>37.495632</td>\n",
       "      <td>126.887650</td>\n",
       "      <td>26.0</td>\n",
       "      <td>34.0</td>\n",
       "      <td>3.0</td>\n",
       "      <td>1.00</td>\n",
       "      <td>16.21</td>\n",
       "      <td>5.7</td>\n",
       "      <td>741.0</td>\n",
       "    </tr>\n",
       "    <tr>\n",
       "      <th>4</th>\n",
       "      <td>Seoul</td>\n",
       "      <td>Eunpyeong-gu</td>\n",
       "      <td>1000005</td>\n",
       "      <td>True</td>\n",
       "      <td>Eunpyeong St. Mary's Hospital</td>\n",
       "      <td>14</td>\n",
       "      <td>37.63369</td>\n",
       "      <td>126.9165</td>\n",
       "      <td>10220.0</td>\n",
       "      <td>37.603481</td>\n",
       "      <td>126.929173</td>\n",
       "      <td>31.0</td>\n",
       "      <td>44.0</td>\n",
       "      <td>1.0</td>\n",
       "      <td>1.09</td>\n",
       "      <td>17.00</td>\n",
       "      <td>6.5</td>\n",
       "      <td>874.0</td>\n",
       "    </tr>\n",
       "  </tbody>\n",
       "</table>\n",
       "</div>"
      ],
      "text/plain": [
       "  province           city  case_id  group               infection_source  \\\n",
       "0    Seoul     Yongsan-gu  1000001   True                  Itaewon Clubs   \n",
       "1    Seoul        Guro-gu  1000002   True            Guro-gu Call Center   \n",
       "2    Seoul  Dongdaemun-gu  1000003   True                  Dongan Church   \n",
       "3    Seoul        Guro-gu  1000004   True          Manmin Central Church   \n",
       "4    Seoul   Eunpyeong-gu  1000005   True  Eunpyeong St. Mary's Hospital   \n",
       "\n",
       "   confirmed   latitude   longitude     code   latitude   longitude  \\\n",
       "0         72  37.538621  126.992652  10210.0  37.532768  126.990021   \n",
       "1         98  37.508163  126.884387  10070.0  37.495632  126.887650   \n",
       "2         20  37.592888  127.056766  10110.0  37.574552  127.039721   \n",
       "3         41  37.481059  126.894343  10070.0  37.495632  126.887650   \n",
       "4         14   37.63369    126.9165  10220.0  37.603481  126.929173   \n",
       "\n",
       "   elementary_school_count  kindergarten_count  university_count  \\\n",
       "0                     15.0                13.0               1.0   \n",
       "1                     26.0                34.0               3.0   \n",
       "2                     21.0                31.0               4.0   \n",
       "3                     26.0                34.0               3.0   \n",
       "4                     31.0                44.0               1.0   \n",
       "\n",
       "   academy_ratio  elderly_population_ratio  elderly_alone_ratio  \\\n",
       "0           0.68                     16.87                  6.5   \n",
       "1           1.00                     16.21                  5.7   \n",
       "2           1.06                     17.26                  6.7   \n",
       "3           1.00                     16.21                  5.7   \n",
       "4           1.09                     17.00                  6.5   \n",
       "\n",
       "   nursing_home_count  \n",
       "0               435.0  \n",
       "1               741.0  \n",
       "2               832.0  \n",
       "3               741.0  \n",
       "4               874.0  "
      ]
     },
     "execution_count": 82,
     "metadata": {},
     "output_type": "execute_result"
    }
   ],
   "source": [
    "df_joined.toPandas().head()"
   ]
  },
  {
   "cell_type": "markdown",
   "metadata": {},
   "source": [
    "## using SQL with Spark"
   ]
  },
  {
   "cell_type": "code",
   "execution_count": 124,
   "metadata": {},
   "outputs": [
    {
     "name": "stdout",
     "output_type": "stream",
     "text": [
      "+-------+--------+---------------+-----+--------------------+---------+---------+----------+\n",
      "|case_id|province|           city|group|    infection_source|confirmed| latitude| longitude|\n",
      "+-------+--------+---------------+-----+--------------------+---------+---------+----------+\n",
      "|1000001|   Seoul|     Yongsan-gu| true|       Itaewon Clubs|       72|37.538621|126.992652|\n",
      "|1000002|   Seoul|        Guro-gu| true| Guro-gu Call Center|       98|37.508163|126.884387|\n",
      "|1000003|   Seoul|  Dongdaemun-gu| true|       Dongan Church|       20|37.592888|127.056766|\n",
      "|1000004|   Seoul|        Guro-gu| true|Manmin Central Ch...|       41|37.481059|126.894343|\n",
      "|1000005|   Seoul|   Eunpyeong-gu| true|Eunpyeong St. Mar...|       14| 37.63369|  126.9165|\n",
      "|1000006|   Seoul|   Seongdong-gu| true|    Seongdong-gu APT|       13| 37.55713|  127.0403|\n",
      "|1000007|   Seoul|      Jongno-gu| true|Jongno Community ...|       10| 37.57681|   127.006|\n",
      "|1000008|   Seoul|        Jung-gu| true|Jung-gu Fashion C...|        7|37.562405|126.984377|\n",
      "|1000009|   Seoul|from other city| true|  Shincheonji Church|        8|        -|         -|\n",
      "|1000010|   Seoul|              -|false|     overseas inflow|      321|        -|         -|\n",
      "+-------+--------+---------------+-----+--------------------+---------+---------+----------+\n",
      "only showing top 10 rows\n",
      "\n"
     ]
    }
   ],
   "source": [
    "df_cases.show(10)"
   ]
  },
  {
   "cell_type": "code",
   "execution_count": 125,
   "metadata": {},
   "outputs": [],
   "source": [
    "df_cases.registerTempTable('cases_table')"
   ]
  },
  {
   "cell_type": "code",
   "execution_count": 126,
   "metadata": {},
   "outputs": [
    {
     "name": "stdout",
     "output_type": "stream",
     "text": [
      "+-------+--------+---------------+-----+--------------------+---------+--------+---------+\n",
      "|case_id|province|           city|group|    infection_source|confirmed|latitude|longitude|\n",
      "+-------+--------+---------------+-----+--------------------+---------+--------+---------+\n",
      "|1100003|   Busan|     Suyeong-gu| true|Suyeong-gu Kinder...|        5|35.16708| 129.1124|\n",
      "|1100004|   Busan|    Haeundae-gu| true|Haeundae-gu Catho...|        6|35.20599| 129.1256|\n",
      "|1100005|   Busan|         Jin-gu| true|      Jin-gu Academy|        4|35.17371| 129.0633|\n",
      "|1100006|   Busan|from other city| true|Cheongdo Daenam H...|        1|       -|        -|\n",
      "+-------+--------+---------------+-----+--------------------+---------+--------+---------+\n",
      "\n"
     ]
    }
   ],
   "source": [
    "spark.sql(\"select * from cases_table where confirmed<10 and case_id like '11000%'\").show()"
   ]
  },
  {
   "cell_type": "markdown",
   "metadata": {},
   "source": [
    "## New Column"
   ]
  },
  {
   "cell_type": "code",
   "execution_count": 127,
   "metadata": {},
   "outputs": [
    {
     "name": "stdout",
     "output_type": "stream",
     "text": [
      "+-------+--------+-------------+-----+--------------------+---------+---------+----------+-------------+\n",
      "|case_id|province|         city|group|    infection_source|confirmed| latitude| longitude|new_confirmed|\n",
      "+-------+--------+-------------+-----+--------------------+---------+---------+----------+-------------+\n",
      "|1000001|   Seoul|   Yongsan-gu| true|       Itaewon Clubs|       72|37.538621|126.992652|          172|\n",
      "|1000002|   Seoul|      Guro-gu| true| Guro-gu Call Center|       98|37.508163|126.884387|          198|\n",
      "|1000003|   Seoul|Dongdaemun-gu| true|       Dongan Church|       20|37.592888|127.056766|          120|\n",
      "|1000004|   Seoul|      Guro-gu| true|Manmin Central Ch...|       41|37.481059|126.894343|          141|\n",
      "|1000005|   Seoul| Eunpyeong-gu| true|Eunpyeong St. Mar...|       14| 37.63369|  126.9165|          114|\n",
      "+-------+--------+-------------+-----+--------------------+---------+---------+----------+-------------+\n",
      "only showing top 5 rows\n",
      "\n"
     ]
    }
   ],
   "source": [
    "df_cases.withColumn('new_confirmed', 100+f.col('confirmed')).show(5)"
   ]
  },
  {
   "cell_type": "markdown",
   "metadata": {},
   "source": [
    "## Spark UDF"
   ]
  },
  {
   "cell_type": "code",
   "execution_count": 128,
   "metadata": {},
   "outputs": [],
   "source": [
    "def caseHighLow(confirmed):\n",
    "    if confirmed < 50:\n",
    "        return 'low'\n",
    "    else:\n",
    "        return 'high'\n",
    "\n",
    "# convert the above function to UDF, by passing function and the return type\n",
    "caseHighLowUDF = f.udf(caseHighLow, StringType())"
   ]
  },
  {
   "cell_type": "code",
   "execution_count": 129,
   "metadata": {},
   "outputs": [
    {
     "name": "stdout",
     "output_type": "stream",
     "text": [
      "+-------+--------+----------+-----+-------------------+---------+---------+----------+\n",
      "|case_id|province|      city|group|   infection_source|confirmed| latitude| longitude|\n",
      "+-------+--------+----------+-----+-------------------+---------+---------+----------+\n",
      "|1000001|   Seoul|Yongsan-gu| true|      Itaewon Clubs|       72|37.538621|126.992652|\n",
      "|1000002|   Seoul|   Guro-gu| true|Guro-gu Call Center|       98|37.508163|126.884387|\n",
      "+-------+--------+----------+-----+-------------------+---------+---------+----------+\n",
      "only showing top 2 rows\n",
      "\n"
     ]
    }
   ],
   "source": [
    "df_cases.show(2)"
   ]
  },
  {
   "cell_type": "code",
   "execution_count": 131,
   "metadata": {},
   "outputs": [
    {
     "ename": "AnalysisException",
     "evalue": "Cannot modify the value of a Spark config: spark.executor.heartbeatInterval",
     "output_type": "error",
     "traceback": [
      "\u001b[1;31m---------------------------------------------------------------------------\u001b[0m",
      "\u001b[1;31mAnalysisException\u001b[0m                         Traceback (most recent call last)",
      "\u001b[1;32m~\\AppData\\Local\\Temp/ipykernel_7288/1582210779.py\u001b[0m in \u001b[0;36m<module>\u001b[1;34m\u001b[0m\n\u001b[1;32m----> 1\u001b[1;33m \u001b[0mspark\u001b[0m\u001b[1;33m.\u001b[0m\u001b[0mconf\u001b[0m\u001b[1;33m.\u001b[0m\u001b[0mset\u001b[0m\u001b[1;33m(\u001b[0m\u001b[1;34m\"spark.executor.heartbeatInterval\"\u001b[0m\u001b[1;33m,\u001b[0m\u001b[1;34m\"360s\"\u001b[0m\u001b[1;33m)\u001b[0m\u001b[1;33m\u001b[0m\u001b[1;33m\u001b[0m\u001b[0m\n\u001b[0m",
      "\u001b[1;32m~\\AppData\\Roaming\\Python\\Python38\\site-packages\\pyspark\\sql\\conf.py\u001b[0m in \u001b[0;36mset\u001b[1;34m(self, key, value)\u001b[0m\n\u001b[0;32m     34\u001b[0m     \u001b[1;32mdef\u001b[0m \u001b[0mset\u001b[0m\u001b[1;33m(\u001b[0m\u001b[0mself\u001b[0m\u001b[1;33m,\u001b[0m \u001b[0mkey\u001b[0m\u001b[1;33m,\u001b[0m \u001b[0mvalue\u001b[0m\u001b[1;33m)\u001b[0m\u001b[1;33m:\u001b[0m\u001b[1;33m\u001b[0m\u001b[1;33m\u001b[0m\u001b[0m\n\u001b[0;32m     35\u001b[0m         \u001b[1;34m\"\"\"Sets the given Spark runtime configuration property.\"\"\"\u001b[0m\u001b[1;33m\u001b[0m\u001b[1;33m\u001b[0m\u001b[0m\n\u001b[1;32m---> 36\u001b[1;33m         \u001b[0mself\u001b[0m\u001b[1;33m.\u001b[0m\u001b[0m_jconf\u001b[0m\u001b[1;33m.\u001b[0m\u001b[0mset\u001b[0m\u001b[1;33m(\u001b[0m\u001b[0mkey\u001b[0m\u001b[1;33m,\u001b[0m \u001b[0mvalue\u001b[0m\u001b[1;33m)\u001b[0m\u001b[1;33m\u001b[0m\u001b[1;33m\u001b[0m\u001b[0m\n\u001b[0m\u001b[0;32m     37\u001b[0m \u001b[1;33m\u001b[0m\u001b[0m\n\u001b[0;32m     38\u001b[0m     \u001b[1;33m@\u001b[0m\u001b[0msince\u001b[0m\u001b[1;33m(\u001b[0m\u001b[1;36m2.0\u001b[0m\u001b[1;33m)\u001b[0m\u001b[1;33m\u001b[0m\u001b[1;33m\u001b[0m\u001b[0m\n",
      "\u001b[1;32m~\\AppData\\Roaming\\Python\\Python38\\site-packages\\py4j\\java_gateway.py\u001b[0m in \u001b[0;36m__call__\u001b[1;34m(self, *args)\u001b[0m\n\u001b[0;32m   1302\u001b[0m \u001b[1;33m\u001b[0m\u001b[0m\n\u001b[0;32m   1303\u001b[0m         \u001b[0manswer\u001b[0m \u001b[1;33m=\u001b[0m \u001b[0mself\u001b[0m\u001b[1;33m.\u001b[0m\u001b[0mgateway_client\u001b[0m\u001b[1;33m.\u001b[0m\u001b[0msend_command\u001b[0m\u001b[1;33m(\u001b[0m\u001b[0mcommand\u001b[0m\u001b[1;33m)\u001b[0m\u001b[1;33m\u001b[0m\u001b[1;33m\u001b[0m\u001b[0m\n\u001b[1;32m-> 1304\u001b[1;33m         return_value = get_return_value(\n\u001b[0m\u001b[0;32m   1305\u001b[0m             answer, self.gateway_client, self.target_id, self.name)\n\u001b[0;32m   1306\u001b[0m \u001b[1;33m\u001b[0m\u001b[0m\n",
      "\u001b[1;32m~\\AppData\\Roaming\\Python\\Python38\\site-packages\\pyspark\\sql\\utils.py\u001b[0m in \u001b[0;36mdeco\u001b[1;34m(*a, **kw)\u001b[0m\n\u001b[0;32m    115\u001b[0m                 \u001b[1;31m# Hide where the exception came from that shows a non-Pythonic\u001b[0m\u001b[1;33m\u001b[0m\u001b[1;33m\u001b[0m\u001b[1;33m\u001b[0m\u001b[0m\n\u001b[0;32m    116\u001b[0m                 \u001b[1;31m# JVM exception message.\u001b[0m\u001b[1;33m\u001b[0m\u001b[1;33m\u001b[0m\u001b[1;33m\u001b[0m\u001b[0m\n\u001b[1;32m--> 117\u001b[1;33m                 \u001b[1;32mraise\u001b[0m \u001b[0mconverted\u001b[0m \u001b[1;32mfrom\u001b[0m \u001b[1;32mNone\u001b[0m\u001b[1;33m\u001b[0m\u001b[1;33m\u001b[0m\u001b[0m\n\u001b[0m\u001b[0;32m    118\u001b[0m             \u001b[1;32melse\u001b[0m\u001b[1;33m:\u001b[0m\u001b[1;33m\u001b[0m\u001b[1;33m\u001b[0m\u001b[0m\n\u001b[0;32m    119\u001b[0m                 \u001b[1;32mraise\u001b[0m\u001b[1;33m\u001b[0m\u001b[1;33m\u001b[0m\u001b[0m\n",
      "\u001b[1;31mAnalysisException\u001b[0m: Cannot modify the value of a Spark config: spark.executor.heartbeatInterval"
     ]
    }
   ],
   "source": [
    "spark.conf.set(\"spark.executor.heartbeatInterval\",\"360s\")"
   ]
  },
  {
   "cell_type": "code",
   "execution_count": 132,
   "metadata": {},
   "outputs": [],
   "source": [
    "# df_cases.withColumn(\"HighLow\", caseHighLowUDF(\"confirmed\")).show(5)"
   ]
  },
  {
   "cell_type": "code",
   "execution_count": 136,
   "metadata": {},
   "outputs": [
    {
     "name": "stdout",
     "output_type": "stream",
     "text": [
      "+-------+--------+----------+-----+----------------+---------+---------+----------+\n",
      "|case_id|province|      city|group|infection_source|confirmed| latitude| longitude|\n",
      "+-------+--------+----------+-----+----------------+---------+---------+----------+\n",
      "|1000001|   Seoul|Yongsan-gu| true|   Itaewon Clubs|       72|37.538621|126.992652|\n",
      "+-------+--------+----------+-----+----------------+---------+---------+----------+\n",
      "only showing top 1 row\n",
      "\n"
     ]
    }
   ],
   "source": [
    "df_cases.show(1)"
   ]
  },
  {
   "cell_type": "markdown",
   "metadata": {},
   "source": [
    "## Spark Window function"
   ]
  },
  {
   "cell_type": "code",
   "execution_count": 139,
   "metadata": {},
   "outputs": [],
   "source": [
    "df_timeprovince = spark.read.load('sparkdf_guide/coronavirusdataset/TimeProvince.csv', infer_schema=True, sep=\",\", header=True, format='csv')"
   ]
  },
  {
   "cell_type": "code",
   "execution_count": 141,
   "metadata": {},
   "outputs": [
    {
     "name": "stdout",
     "output_type": "stream",
     "text": [
      "+----------+----+--------+---------+--------+--------+\n",
      "|      date|time|province|confirmed|released|deceased|\n",
      "+----------+----+--------+---------+--------+--------+\n",
      "|2020-01-20|  16|   Seoul|        0|       0|       0|\n",
      "|2020-01-20|  16|   Busan|        0|       0|       0|\n",
      "+----------+----+--------+---------+--------+--------+\n",
      "only showing top 2 rows\n",
      "\n"
     ]
    }
   ],
   "source": [
    "df_timeprovince.show(2)"
   ]
  },
  {
   "cell_type": "markdown",
   "metadata": {},
   "source": [
    "## Ranking"
   ]
  },
  {
   "cell_type": "code",
   "execution_count": 142,
   "metadata": {},
   "outputs": [],
   "source": [
    "from pyspark.sql.window import Window"
   ]
  },
  {
   "cell_type": "code",
   "execution_count": 158,
   "metadata": {},
   "outputs": [
    {
     "name": "stdout",
     "output_type": "stream",
     "text": [
      "+-------+-----------------+---------------+-----+--------------------+---------+---------+----------+----+\n",
      "|case_id|         province|           city|group|    infection_source|confirmed| latitude| longitude|rank|\n",
      "+-------+-----------------+---------------+-----+--------------------+---------+---------+----------+----+\n",
      "|1100006|            Busan|from other city| true|Cheongdo Daenam H...|        1|        -|         -|   9|\n",
      "|1100005|            Busan|         Jin-gu| true|      Jin-gu Academy|        4| 35.17371|  129.0633|   8|\n",
      "|1100003|            Busan|     Suyeong-gu| true|Suyeong-gu Kinder...|        5| 35.16708|  129.1124|   7|\n",
      "|1100004|            Busan|    Haeundae-gu| true|Haeundae-gu Catho...|        6| 35.20599|  129.1256|   6|\n",
      "|1100002|            Busan|from other city| true|  Shincheonji Church|       12|        -|         -|   5|\n",
      "|1100008|            Busan|              -|false|contact with patient|       18|        -|         -|   4|\n",
      "|1100007|            Busan|              -|false|     overseas inflow|       25|        -|         -|   3|\n",
      "|1100009|            Busan|              -|false|                 etc|       29|        -|         -|   2|\n",
      "|1100001|            Busan|     Dongnae-gu| true|       Onchun Church|       39| 35.21628|  129.0771|   1|\n",
      "|4000001|Chungcheongbuk-do|from other city| true|  Shincheonji Church|        6|        -|         -|   4|\n",
      "|4000004|Chungcheongbuk-do|              -|false|contact with patient|        6|        -|         -|   4|\n",
      "|4000003|Chungcheongbuk-do|              -|false|     overseas inflow|        7|        -|         -|   3|\n",
      "|4000005|Chungcheongbuk-do|              -|false|                 etc|        8|        -|         -|   2|\n",
      "|4000002|Chungcheongbuk-do|     Goesan-gun| true|Goesan-gun Jangye...|       11| 36.82422|  127.9552|   1|\n",
      "|4100004|Chungcheongnam-do|              -|false|contact with patient|        1|        -|         -|   5|\n",
      "|4100002|Chungcheongnam-do|      Seosan-si| true|Seosan-si Laboratory|        9|37.000354|126.354443|   4|\n",
      "|4100005|Chungcheongnam-do|              -|false|                 etc|       10|        -|         -|   3|\n",
      "|4100003|Chungcheongnam-do|              -|false|     overseas inflow|       14|        -|         -|   2|\n",
      "|4100001|Chungcheongnam-do|     Cheonan-si| true|gym facility in C...|      103| 36.81503|  127.1139|   1|\n",
      "|1200006|            Daegu|from other city| true|Cheongdo Daenam H...|        2|        -|         -|   9|\n",
      "+-------+-----------------+---------------+-----+--------------------+---------+---------+----------+----+\n",
      "only showing top 20 rows\n",
      "\n"
     ]
    }
   ],
   "source": [
    "window_spec = Window().partitionBy(['province']).orderBy(f.desc('confirmed'))\n",
    "df_cases.withColumn('rank', f.rank().over(window_spec)).orderBy(['province', 'confirmed']).show()"
   ]
  },
  {
   "cell_type": "code",
   "execution_count": null,
   "metadata": {},
   "outputs": [],
   "source": [
    "# df_trans = spark.read.csv('bank_transactions/bank_transactions.csv', header=True, inferSchema=True)\n",
    "# df_trans.registerTempTable('bank_transactions')\n",
    "# df = spark.sql(\"select cast(account_no as string) as account_no, date, cast(transaction_details as string) as transaction_details, cast(cast(chq_no as decimal(32,3)) as int) as chq_no, value_date, cast(cast(withdrawal_amt as decimal(32,3)) as int) as withdrawal_amt, cast(cast(deposit_amt as decimal(32,3)) as int) as deposit_amt, cast(cast(balance_amt as decimal(32,3)) as int) as balance_amt from bank_transactions\").toPandas()\n",
    "# df.to_csv('bank_transactions/bank_transactions.csv', index=None)\n",
    "# df_trans.filter(df_trans.chq_no.isNull()).show(5)\n",
    "# df_trans.na.drop(how='any', subset=['deposit_amt']).show(5)\n",
    "# df_trans.select('account_no').distinct().show()\n",
    "# df_trans.registerTempTable('bank_transactions')\n",
    "# spark.sql(\"select * from bank_transactions where deposit_amt is null\").count()\n"
   ]
  },
  {
   "cell_type": "code",
   "execution_count": null,
   "metadata": {},
   "outputs": [],
   "source": []
  }
 ],
 "metadata": {
  "interpreter": {
   "hash": "7a542ca580817fc4dd55327026e074e2fa0cd470fc5dee9350c2d8b13822db8d"
  },
  "kernelspec": {
   "display_name": "Python 3.8.1 32-bit",
   "language": "python",
   "name": "python3"
  },
  "language_info": {
   "codemirror_mode": {
    "name": "ipython",
    "version": 3
   },
   "file_extension": ".py",
   "mimetype": "text/x-python",
   "name": "python",
   "nbconvert_exporter": "python",
   "pygments_lexer": "ipython3",
   "version": "3.8.1"
  },
  "orig_nbformat": 4
 },
 "nbformat": 4,
 "nbformat_minor": 2
}

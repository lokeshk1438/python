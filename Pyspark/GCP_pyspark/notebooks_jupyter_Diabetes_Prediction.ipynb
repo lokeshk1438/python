{
 "cells": [
  {
   "cell_type": "code",
   "execution_count": 1,
   "metadata": {},
   "outputs": [
    {
     "data": {
      "text/html": [
       "<style>pre { white-space: pre !important; }</style>"
      ],
      "text/plain": [
       "<IPython.core.display.HTML object>"
      ]
     },
     "metadata": {},
     "output_type": "display_data"
    }
   ],
   "source": [
    "# spark.conf.set(\"spark.sql.repl.eagerEval.enabled\", True) #--> not working\n",
    "\n",
    "from IPython.core.display import HTML\n",
    "display(HTML(\"<style>pre { white-space: pre !important; }</style>\"))"
   ]
  },
  {
   "cell_type": "markdown",
   "metadata": {
    "colab_type": "text",
    "id": "5sG3MLXlOews"
   },
   "source": [
    "# TASK 2: Clone & Explore dataset"
   ]
  },
  {
   "cell_type": "code",
   "execution_count": 3,
   "metadata": {
    "colab": {},
    "colab_type": "code",
    "id": "-Uh5H7_KOoSL"
   },
   "outputs": [
    {
     "name": "stdout",
     "output_type": "stream",
     "text": [
      "Cloning into 'diabetes_dataset'...\n",
      "remote: Enumerating objects: 6, done.\u001b[K\n",
      "remote: Counting objects: 100% (6/6), done.\u001b[K\n",
      "remote: Compressing objects: 100% (5/5), done.\u001b[K\n",
      "remote: Total 6 (delta 0), reused 0 (delta 0), pack-reused 0\u001b[K\n",
      "Receiving objects: 100% (6/6), 13.02 KiB | 1.45 MiB/s, done.\n"
     ]
    }
   ],
   "source": [
    "#clone the diabetes dataset from the github repository\n",
    "\n",
    "! git clone https://github.com/education454/diabetes_dataset"
   ]
  },
  {
   "cell_type": "code",
   "execution_count": 5,
   "metadata": {
    "colab": {},
    "colab_type": "code",
    "id": "VcqwJRxVOutr"
   },
   "outputs": [
    {
     "name": "stdout",
     "output_type": "stream",
     "text": [
      "diabetes.csv  new_test.csv\r\n"
     ]
    }
   ],
   "source": [
    "#check if the dataset exists\n",
    "! ls diabetes_dataset/"
   ]
  },
  {
   "cell_type": "code",
   "execution_count": 3,
   "metadata": {
    "colab": {},
    "colab_type": "code",
    "id": "ST1rFFOlOu8s"
   },
   "outputs": [],
   "source": [
    "#create spark dataframe\n",
    "df = spark.read.csv(f\"gs://dataproc-staging-us-central1-139389956614-ujvfk5z1/notebooks/jupyter/diabetes.csv\", header=True, inferSchema=True)"
   ]
  },
  {
   "cell_type": "code",
   "execution_count": 4,
   "metadata": {
    "colab": {},
    "colab_type": "code",
    "id": "ST1rFFOlOu8s"
   },
   "outputs": [
    {
     "name": "stdout",
     "output_type": "stream",
     "text": [
      "+-----------+-------+-------------+-------------+-------+----+------------------------+---+-------+\n",
      "|Pregnancies|Glucose|BloodPressure|SkinThickness|Insulin| BMI|DiabetesPedigreeFunction|Age|Outcome|\n",
      "+-----------+-------+-------------+-------------+-------+----+------------------------+---+-------+\n",
      "|          2|    138|           62|           35|      0|33.6|                   0.127| 47|      1|\n",
      "|          0|     84|           82|           31|    125|38.2|                   0.233| 23|      0|\n",
      "|          0|    145|            0|            0|      0|44.2|                    0.63| 31|      1|\n",
      "|          0|    135|           68|           42|    250|42.3|                   0.365| 24|      1|\n",
      "|          1|    139|           62|           41|    480|40.7|                   0.536| 21|      0|\n",
      "+-----------+-------+-------------+-------------+-------+----+------------------------+---+-------+\n",
      "only showing top 5 rows\n",
      "\n"
     ]
    }
   ],
   "source": [
    "#display the dataframe\n",
    "\n",
    "df.show(5)"
   ]
  },
  {
   "cell_type": "code",
   "execution_count": 5,
   "metadata": {
    "colab": {},
    "colab_type": "code",
    "id": "Ulqkuz8aOvV6"
   },
   "outputs": [
    {
     "name": "stdout",
     "output_type": "stream",
     "text": [
      "root\n",
      " |-- Pregnancies: integer (nullable = true)\n",
      " |-- Glucose: integer (nullable = true)\n",
      " |-- BloodPressure: integer (nullable = true)\n",
      " |-- SkinThickness: integer (nullable = true)\n",
      " |-- Insulin: integer (nullable = true)\n",
      " |-- BMI: double (nullable = true)\n",
      " |-- DiabetesPedigreeFunction: double (nullable = true)\n",
      " |-- Age: integer (nullable = true)\n",
      " |-- Outcome: integer (nullable = true)\n",
      "\n"
     ]
    }
   ],
   "source": [
    "#print the schema\n",
    "df.printSchema()"
   ]
  },
  {
   "cell_type": "code",
   "execution_count": 6,
   "metadata": {
    "colab": {},
    "colab_type": "code",
    "id": "kpZlF2S2Ovgw"
   },
   "outputs": [
    {
     "name": "stderr",
     "output_type": "stream",
     "text": [
      "\r",
      "[Stage 6:>                                                          (0 + 1) / 1]\r"
     ]
    },
    {
     "name": "stdout",
     "output_type": "stream",
     "text": [
      "+-------+-----+\n",
      "|outcome|count|\n",
      "+-------+-----+\n",
      "|      1|  684|\n",
      "|      0| 1316|\n",
      "+-------+-----+\n",
      "\n"
     ]
    },
    {
     "name": "stderr",
     "output_type": "stream",
     "text": [
      "\r",
      "                                                                                \r"
     ]
    }
   ],
   "source": [
    "#count the total no. of diabetic and non-diabetic class\n",
    "df.groupBy('outcome').count().show()"
   ]
  },
  {
   "cell_type": "code",
   "execution_count": 8,
   "metadata": {
    "colab": {},
    "colab_type": "code",
    "id": "NewCNZEMOvtM"
   },
   "outputs": [
    {
     "name": "stderr",
     "output_type": "stream",
     "text": [
      "\r",
      "[Stage 14:>                                                         (0 + 1) / 1]\r"
     ]
    },
    {
     "name": "stdout",
     "output_type": "stream",
     "text": [
      "+-------+-----------------+------------------+------------------+-----------------+-----------------+------------------+------------------------+------------------+------------------+\n",
      "|summary|      Pregnancies|           Glucose|     BloodPressure|    SkinThickness|          Insulin|               BMI|DiabetesPedigreeFunction|               Age|           Outcome|\n",
      "+-------+-----------------+------------------+------------------+-----------------+-----------------+------------------+------------------------+------------------+------------------+\n",
      "|  count|             2000|              2000|              2000|             2000|             2000|              2000|                    2000|              2000|              2000|\n",
      "|   mean|           3.7035|          121.1825|           69.1455|           20.935|           80.254|32.192999999999984|     0.47092999999999974|           33.0905|             0.342|\n",
      "| stddev|3.306063032730656|32.068635649902916|19.188314815604098|16.10324290992682|111.1805335457595| 8.149900701279762|      0.3235525586811429|11.786423106049496|0.4744982342297426|\n",
      "|    min|                0|                 0|                 0|                0|                0|               0.0|                   0.078|                21|                 0|\n",
      "|    max|               17|               199|               122|              110|              744|              80.6|                    2.42|                81|                 1|\n",
      "+-------+-----------------+------------------+------------------+-----------------+-----------------+------------------+------------------------+------------------+------------------+\n",
      "\n"
     ]
    },
    {
     "name": "stderr",
     "output_type": "stream",
     "text": [
      "\r",
      "[Stage 16:>                                                         (0 + 1) / 1]\r",
      "\r",
      "                                                                                \r"
     ]
    }
   ],
   "source": [
    "#get the summary statistics\n",
    "\n",
    "df.describe().show()"
   ]
  },
  {
   "cell_type": "markdown",
   "metadata": {
    "colab_type": "text",
    "id": "gZerPOR-OyjQ"
   },
   "source": [
    "# TASK 3: Data Cleaning & Preparation"
   ]
  },
  {
   "cell_type": "code",
   "execution_count": 21,
   "metadata": {},
   "outputs": [
    {
     "data": {
      "text/plain": [
       "['Pregnancies',\n",
       " 'Glucose',\n",
       " 'BloodPressure',\n",
       " 'SkinThickness',\n",
       " 'Insulin',\n",
       " 'BMI',\n",
       " 'DiabetesPedigreeFunction',\n",
       " 'Age',\n",
       " 'Outcome']"
      ]
     },
     "execution_count": 21,
     "metadata": {},
     "output_type": "execute_result"
    }
   ],
   "source": [
    "[x for x in df.columns]"
   ]
  },
  {
   "cell_type": "code",
   "execution_count": 19,
   "metadata": {
    "colab": {},
    "colab_type": "code",
    "id": "Q-KkJvV_PFFU"
   },
   "outputs": [
    {
     "name": "stdout",
     "output_type": "stream",
     "text": [
      "Pregnancies  :  0\n",
      "Glucose  :  0\n",
      "BloodPressure  :  0\n",
      "SkinThickness  :  0\n",
      "Insulin  :  0\n",
      "BMI  :  0\n",
      "DiabetesPedigreeFunction  :  0\n",
      "Age  :  0\n",
      "Outcome  :  0\n"
     ]
    }
   ],
   "source": [
    "#check for null values\n",
    "\n",
    "for col in df.columns:\n",
    "    print(col, \" : \", df[df[col].isNull()].count() )"
   ]
  },
  {
   "cell_type": "code",
   "execution_count": 25,
   "metadata": {
    "colab": {},
    "colab_type": "code",
    "id": "ZJsbgwZMPFQC"
   },
   "outputs": [],
   "source": [
    "#look for the unnecessary values present\n",
    "columns_list = ['Glucose', 'BloodPressure', 'SkinThickness', 'Insulin', 'BMI']\n",
    "\n",
    "def count_zeros():\n",
    "    for i in columns_list:\n",
    "        print(i, \" : \", df[df[i]==0].count())\n"
   ]
  },
  {
   "cell_type": "code",
   "execution_count": 26,
   "metadata": {
    "colab": {},
    "colab_type": "code",
    "id": "pcXTErb9PFbo"
   },
   "outputs": [
    {
     "name": "stdout",
     "output_type": "stream",
     "text": [
      "Glucose  :  13\n",
      "BloodPressure  :  90\n",
      "SkinThickness  :  573\n",
      "Insulin  :  956\n",
      "BMI  :  28\n"
     ]
    }
   ],
   "source": [
    "count_zeros()"
   ]
  },
  {
   "cell_type": "code",
   "execution_count": 43,
   "metadata": {},
   "outputs": [
    {
     "data": {
      "text/plain": [
       "121.1825"
      ]
     },
     "execution_count": 43,
     "metadata": {},
     "output_type": "execute_result"
    }
   ],
   "source": [
    "df.agg({'glucose':'mean'}).first()[0]   #head()[0]   #collect()[0][0]"
   ]
  },
  {
   "cell_type": "code",
   "execution_count": 44,
   "metadata": {
    "colab": {},
    "colab_type": "code",
    "id": "VXemdtaPPFmA"
   },
   "outputs": [
    {
     "name": "stdout",
     "output_type": "stream",
     "text": [
      "mean value for Glucose is 121.1825\n",
      "mean value for BloodPressure is 69.1455\n",
      "mean value for SkinThickness is 20.935\n",
      "mean value for Insulin is 80.254\n",
      "mean value for BMI is 32.192999999999984\n"
     ]
    }
   ],
   "source": [
    "#calculate and replace the unnecessary values by the mean value\n",
    "\n",
    "from pyspark.sql.functions import *\n",
    "\n",
    "for i in df.columns[1:6]:\n",
    "    data = df.agg({i:'mean'}).first()[0]\n",
    "    print(\"mean value for {0} is {1}\".format(i, data))\n",
    "    \n",
    "    df = df.withColumn(i, when(df[i]==0, int(data)).otherwise(df[i]))"
   ]
  },
  {
   "cell_type": "code",
   "execution_count": 46,
   "metadata": {
    "colab": {},
    "colab_type": "code",
    "id": "C0bk0Ps_PFwk"
   },
   "outputs": [
    {
     "name": "stdout",
     "output_type": "stream",
     "text": [
      "+-----------+-------+-------------+-------------+-------+----+------------------------+---+-------+\n",
      "|Pregnancies|Glucose|BloodPressure|SkinThickness|Insulin|BMI |DiabetesPedigreeFunction|Age|Outcome|\n",
      "+-----------+-------+-------------+-------------+-------+----+------------------------+---+-------+\n",
      "|2          |138    |62           |35           |80     |33.6|0.127                   |47 |1      |\n",
      "|0          |84     |82           |31           |125    |38.2|0.233                   |23 |0      |\n",
      "|0          |145    |69           |20           |80     |44.2|0.63                    |31 |1      |\n",
      "|0          |135    |68           |42           |250    |42.3|0.365                   |24 |1      |\n",
      "|1          |139    |62           |41           |480    |40.7|0.536                   |21 |0      |\n",
      "|0          |173    |78           |32           |265    |46.5|1.159                   |58 |0      |\n",
      "|4          |99     |72           |17           |80     |25.6|0.294                   |28 |0      |\n",
      "|8          |194    |80           |20           |80     |26.1|0.551                   |67 |0      |\n",
      "|2          |83     |65           |28           |66     |36.8|0.629                   |24 |0      |\n",
      "|2          |89     |90           |30           |80     |33.5|0.292                   |42 |0      |\n",
      "+-----------+-------+-------------+-------------+-------+----+------------------------+---+-------+\n",
      "only showing top 10 rows\n",
      "\n"
     ]
    }
   ],
   "source": [
    "#display the dataframe \n",
    "df.show(10,0)"
   ]
  },
  {
   "cell_type": "markdown",
   "metadata": {
    "colab_type": "text",
    "id": "LOgSTdBpPs7G"
   },
   "source": [
    "# TASK 4: Correlation Analysis & Feature Selection"
   ]
  },
  {
   "cell_type": "code",
   "execution_count": 47,
   "metadata": {
    "colab": {},
    "colab_type": "code",
    "id": "7Eq6jdcFP_3C"
   },
   "outputs": [
    {
     "name": "stdout",
     "output_type": "stream",
     "text": [
      "corelation outcome for Pregnancies is 0.22443699263363961\n",
      "corelation outcome for Glucose is 0.48796646527321064\n",
      "corelation outcome for BloodPressure is 0.17171333286446713\n",
      "corelation outcome for SkinThickness is 0.1659010662889893\n",
      "corelation outcome for Insulin is 0.1711763270226193\n",
      "corelation outcome for BMI is 0.2827927569760082\n",
      "corelation outcome for DiabetesPedigreeFunction is 0.1554590791569403\n",
      "corelation outcome for Age is 0.23650924717620253\n",
      "corelation outcome for Outcome is 1.0\n"
     ]
    }
   ],
   "source": [
    "#find the correlation among the set of input & output variables\n",
    "\n",
    "for i in df.columns:\n",
    "    print(\"corelation outcome for {0} is {1}\".format(i, df.stat.corr('Outcome', i)))"
   ]
  },
  {
   "cell_type": "code",
   "execution_count": 50,
   "metadata": {
    "colab": {},
    "colab_type": "code",
    "id": "Fl7Edj-OQACn"
   },
   "outputs": [],
   "source": [
    "#feature selection\n",
    "\n",
    "from pyspark.ml.feature import VectorAssembler\n",
    "\n",
    "assembler = VectorAssembler(inputCols=['Pregnancies', 'Glucose', 'BloodPressure', 'SkinThickness', 'Insulin', 'BMI', 'DiabetesPedigreeFunction', 'Age'], outputCol='feature')\n",
    "\n",
    "output_data = assembler.transform(df)"
   ]
  },
  {
   "cell_type": "code",
   "execution_count": 53,
   "metadata": {
    "colab": {},
    "colab_type": "code",
    "id": "mJKrfqdaQAOy"
   },
   "outputs": [
    {
     "name": "stdout",
     "output_type": "stream",
     "text": [
      "root\n",
      " |-- Pregnancies: integer (nullable = true)\n",
      " |-- Glucose: integer (nullable = true)\n",
      " |-- BloodPressure: integer (nullable = true)\n",
      " |-- SkinThickness: integer (nullable = true)\n",
      " |-- Insulin: integer (nullable = true)\n",
      " |-- BMI: double (nullable = true)\n",
      " |-- DiabetesPedigreeFunction: double (nullable = true)\n",
      " |-- Age: integer (nullable = true)\n",
      " |-- Outcome: integer (nullable = true)\n",
      " |-- feature: vector (nullable = true)\n",
      "\n"
     ]
    }
   ],
   "source": [
    "#print the schema\n",
    "output_data.printSchema()"
   ]
  },
  {
   "cell_type": "code",
   "execution_count": 54,
   "metadata": {
    "colab": {},
    "colab_type": "code",
    "id": "FURl7qESQAaQ"
   },
   "outputs": [
    {
     "name": "stdout",
     "output_type": "stream",
     "text": [
      "+-----------+-------+-------------+-------------+-------+----+------------------------+---+-------+-------------------------------------------+\n",
      "|Pregnancies|Glucose|BloodPressure|SkinThickness|Insulin|BMI |DiabetesPedigreeFunction|Age|Outcome|feature                                    |\n",
      "+-----------+-------+-------------+-------------+-------+----+------------------------+---+-------+-------------------------------------------+\n",
      "|2          |138    |62           |35           |80     |33.6|0.127                   |47 |1      |[2.0,138.0,62.0,35.0,80.0,33.6,0.127,47.0] |\n",
      "|0          |84     |82           |31           |125    |38.2|0.233                   |23 |0      |[0.0,84.0,82.0,31.0,125.0,38.2,0.233,23.0] |\n",
      "|0          |145    |69           |20           |80     |44.2|0.63                    |31 |1      |[0.0,145.0,69.0,20.0,80.0,44.2,0.63,31.0]  |\n",
      "|0          |135    |68           |42           |250    |42.3|0.365                   |24 |1      |[0.0,135.0,68.0,42.0,250.0,42.3,0.365,24.0]|\n",
      "|1          |139    |62           |41           |480    |40.7|0.536                   |21 |0      |[1.0,139.0,62.0,41.0,480.0,40.7,0.536,21.0]|\n",
      "+-----------+-------+-------------+-------------+-------+----+------------------------+---+-------+-------------------------------------------+\n",
      "only showing top 5 rows\n",
      "\n"
     ]
    }
   ],
   "source": [
    "#display dataframe\n",
    "\n",
    "output_data.show(5,0)"
   ]
  },
  {
   "cell_type": "markdown",
   "metadata": {
    "colab_type": "text",
    "id": "8fSjOdfyQA99"
   },
   "source": [
    "# TASK 5: Split Dataset & Build the Model"
   ]
  },
  {
   "cell_type": "code",
   "execution_count": null,
   "metadata": {
    "colab": {},
    "colab_type": "code",
    "id": "F89--FiVQQJn"
   },
   "outputs": [],
   "source": [
    "#create final data"
   ]
  },
  {
   "cell_type": "code",
   "execution_count": null,
   "metadata": {
    "colab": {},
    "colab_type": "code",
    "id": "cKpm5912Qji_"
   },
   "outputs": [],
   "source": [
    "#print schema of final data"
   ]
  },
  {
   "cell_type": "code",
   "execution_count": null,
   "metadata": {
    "colab": {},
    "colab_type": "code",
    "id": "r_Nom7aZQjuN"
   },
   "outputs": [],
   "source": [
    "#split the dataset ; build the model"
   ]
  },
  {
   "cell_type": "code",
   "execution_count": null,
   "metadata": {
    "colab": {},
    "colab_type": "code",
    "id": "OljO2HcIQj7E"
   },
   "outputs": [],
   "source": [
    "#summary of the model"
   ]
  },
  {
   "cell_type": "code",
   "execution_count": null,
   "metadata": {
    "colab": {},
    "colab_type": "code",
    "id": "mhwAr2d_QkFx"
   },
   "outputs": [],
   "source": []
  },
  {
   "cell_type": "markdown",
   "metadata": {
    "colab_type": "text",
    "id": "DfaD_vzfQkah"
   },
   "source": [
    "# TASK 6: Evaluate and Save the Model"
   ]
  },
  {
   "cell_type": "code",
   "execution_count": null,
   "metadata": {
    "colab": {},
    "colab_type": "code",
    "id": "CHC5Erq7Q4QN"
   },
   "outputs": [],
   "source": []
  },
  {
   "cell_type": "code",
   "execution_count": null,
   "metadata": {
    "colab": {},
    "colab_type": "code",
    "id": "UBltVqoNQ4cM"
   },
   "outputs": [],
   "source": []
  },
  {
   "cell_type": "code",
   "execution_count": null,
   "metadata": {
    "colab": {},
    "colab_type": "code",
    "id": "A4BHCxCiQ4l-"
   },
   "outputs": [],
   "source": []
  },
  {
   "cell_type": "code",
   "execution_count": null,
   "metadata": {
    "colab": {},
    "colab_type": "code",
    "id": "ERpRUFOHQ4x5"
   },
   "outputs": [],
   "source": [
    "# save model"
   ]
  },
  {
   "cell_type": "code",
   "execution_count": null,
   "metadata": {
    "colab": {},
    "colab_type": "code",
    "id": "4zSA9_KCQ47W"
   },
   "outputs": [],
   "source": [
    "# load saved model back to the environment"
   ]
  },
  {
   "cell_type": "markdown",
   "metadata": {
    "colab_type": "text",
    "id": "Iznukr-xRANo"
   },
   "source": [
    "# TASK 7: Prediction on New Data with the saved model"
   ]
  },
  {
   "cell_type": "code",
   "execution_count": null,
   "metadata": {
    "colab": {},
    "colab_type": "code",
    "id": "MBq2hq27RdHB"
   },
   "outputs": [],
   "source": [
    "#create a new spark dataframe"
   ]
  },
  {
   "cell_type": "code",
   "execution_count": null,
   "metadata": {
    "colab": {},
    "colab_type": "code",
    "id": "co8K0NZsRdQB"
   },
   "outputs": [],
   "source": [
    "#print the schema"
   ]
  },
  {
   "cell_type": "code",
   "execution_count": null,
   "metadata": {
    "colab": {},
    "colab_type": "code",
    "id": "J7jtGf4lRdaz"
   },
   "outputs": [],
   "source": [
    "#create an additional feature merged column "
   ]
  },
  {
   "cell_type": "code",
   "execution_count": null,
   "metadata": {
    "colab": {},
    "colab_type": "code",
    "id": "kd1glzOnRdkq"
   },
   "outputs": [],
   "source": [
    "#print the schema"
   ]
  },
  {
   "cell_type": "code",
   "execution_count": null,
   "metadata": {
    "colab": {},
    "colab_type": "code",
    "id": "40Dck7K_Rdxh"
   },
   "outputs": [],
   "source": [
    "#use model to make predictions"
   ]
  },
  {
   "cell_type": "code",
   "execution_count": null,
   "metadata": {
    "colab": {},
    "colab_type": "code",
    "id": "AHpfS2SjRd7s"
   },
   "outputs": [],
   "source": [
    "#display the predictions"
   ]
  }
 ],
 "metadata": {
  "colab": {
   "name": "Diabetes_Prediction.ipynb",
   "provenance": []
  },
  "kernelspec": {
   "display_name": "Python 3 (ipykernel)",
   "language": "python",
   "name": "python3"
  },
  "language_info": {
   "codemirror_mode": {
    "name": "ipython",
    "version": 3
   },
   "file_extension": ".py",
   "mimetype": "text/x-python",
   "name": "python",
   "nbconvert_exporter": "python",
   "pygments_lexer": "ipython3",
   "version": "3.8.1"
  }
 },
 "nbformat": 4,
 "nbformat_minor": 1
}

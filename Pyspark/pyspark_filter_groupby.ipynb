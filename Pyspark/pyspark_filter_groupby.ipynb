{
 "cells": [
  {
   "cell_type": "markdown",
   "metadata": {},
   "source": [
    "https://www.youtube.com/watch?v=_C8kWso4ne4&t=1046s"
   ]
  },
  {
   "cell_type": "code",
   "execution_count": 2,
   "metadata": {},
   "outputs": [],
   "source": [
    "from pyspark.sql import SparkSession\n",
    "from pyspark.sql.types import IntegerType\n",
    "from pyspark.sql import functions as f"
   ]
  },
  {
   "cell_type": "code",
   "execution_count": 3,
   "metadata": {},
   "outputs": [],
   "source": [
    "spark = SparkSession.builder.appName(\"Pyspark Filter\").getOrCreate()"
   ]
  },
  {
   "cell_type": "code",
   "execution_count": 4,
   "metadata": {},
   "outputs": [
    {
     "name": "stdout",
     "output_type": "stream",
     "text": [
      "+-----+------+---------+----+---------+----+----+------+\n",
      "|empno| ename|      job| mgr| hiredate| sal|comm|deptno|\n",
      "+-----+------+---------+----+---------+----+----+------+\n",
      "| 7369| SMITH|    CLERK|7902|17-Dec-80| 800|null|    20|\n",
      "| 7499| ALLEN| SALESMAN|7698|20-Feb-81|1600| 300|    30|\n",
      "| 7521|  WARD| SALESMAN|7698|22-Feb-81|1250| 500|    30|\n",
      "| 7566| JONES|  MANAGER|7839|02-Apr-81|2975|null|    20|\n",
      "| 7654|MARTIN| SALESMAN|7698|28-Sep-81|1250|1400|    30|\n",
      "| 7698| BLAKE|  MANAGER|7839|01-May-81|2850|null|    30|\n",
      "| 7782| CLARK|  MANAGER|7839|09-Jun-81|2450|null|    10|\n",
      "| 7788| SCOTT|  ANALYST|7566|19-Apr-87|3000|null|    20|\n",
      "| 7839|  KING|PRESIDENT|null|17-Nov-81|5000|null|    10|\n",
      "| 7844|TURNER| SALESMAN|7698|08-Sep-81|1500|   0|    30|\n",
      "| 7876| ADAMS|    CLERK|7788|23-May-87|1100|null|    20|\n",
      "| 7900| JAMES|    CLERK|7698|03-Dec-81| 950|null|    30|\n",
      "| 7902|  FORD|  ANALYST|7566|03-Dec-81|3000|null|    20|\n",
      "| 7934|MILLER|    CLERK|7782|23-Jan-82|1300|null|    10|\n",
      "+-----+------+---------+----+---------+----+----+------+\n",
      "\n"
     ]
    }
   ],
   "source": [
    "df = spark.read.csv('employee_data.csv', header=True, inferSchema=True)\n",
    "df = df.withColumn('sal', f.col('sal').cast(IntegerType())) \\\n",
    "    .withColumn('deptno', f.col('deptno').cast(IntegerType())) \\\n",
    "    .withColumn('comm', f.col('comm').cast(IntegerType()))\n",
    "df.show()"
   ]
  },
  {
   "cell_type": "markdown",
   "metadata": {},
   "source": [
    "# Filter Operation"
   ]
  },
  {
   "cell_type": "code",
   "execution_count": 5,
   "metadata": {},
   "outputs": [
    {
     "name": "stdout",
     "output_type": "stream",
     "text": [
      "+-----+------+--------+----+---------+----+----+------+\n",
      "|empno| ename|     job| mgr| hiredate| sal|comm|deptno|\n",
      "+-----+------+--------+----+---------+----+----+------+\n",
      "| 7369| SMITH|   CLERK|7902|17-Dec-80| 800|null|    20|\n",
      "| 7521|  WARD|SALESMAN|7698|22-Feb-81|1250| 500|    30|\n",
      "| 7654|MARTIN|SALESMAN|7698|28-Sep-81|1250|1400|    30|\n",
      "| 7844|TURNER|SALESMAN|7698|08-Sep-81|1500|   0|    30|\n",
      "| 7876| ADAMS|   CLERK|7788|23-May-87|1100|null|    20|\n",
      "| 7900| JAMES|   CLERK|7698|03-Dec-81| 950|null|    30|\n",
      "| 7934|MILLER|   CLERK|7782|23-Jan-82|1300|null|    10|\n",
      "+-----+------+--------+----+---------+----+----+------+\n",
      "\n"
     ]
    }
   ],
   "source": [
    "# salary less than 1500\n",
    "\n",
    "df.filter('sal<=1500').show()"
   ]
  },
  {
   "cell_type": "code",
   "execution_count": 6,
   "metadata": {},
   "outputs": [
    {
     "name": "stdout",
     "output_type": "stream",
     "text": [
      "+-----+-----+---------+----+---------+----+----+------+\n",
      "|empno|ename|      job| mgr| hiredate| sal|comm|deptno|\n",
      "+-----+-----+---------+----+---------+----+----+------+\n",
      "| 7369|SMITH|    CLERK|7902|17-Dec-80| 800|null|    20|\n",
      "| 7499|ALLEN| SALESMAN|7698|20-Feb-81|1600| 300|    30|\n",
      "| 7566|JONES|  MANAGER|7839|02-Apr-81|2975|null|    20|\n",
      "| 7698|BLAKE|  MANAGER|7839|01-May-81|2850|null|    30|\n",
      "| 7782|CLARK|  MANAGER|7839|09-Jun-81|2450|null|    10|\n",
      "| 7788|SCOTT|  ANALYST|7566|19-Apr-87|3000|null|    20|\n",
      "| 7839| KING|PRESIDENT|null|17-Nov-81|5000|null|    10|\n",
      "| 7900|JAMES|    CLERK|7698|03-Dec-81| 950|null|    30|\n",
      "| 7902| FORD|  ANALYST|7566|03-Dec-81|3000|null|    20|\n",
      "+-----+-----+---------+----+---------+----+----+------+\n",
      "\n"
     ]
    }
   ],
   "source": [
    "df.filter(~((df.sal <= 1500) & (df.sal >= 1000))).show()"
   ]
  },
  {
   "cell_type": "markdown",
   "metadata": {},
   "source": [
    "# GroupBy Operation and Aggregate Functions"
   ]
  },
  {
   "cell_type": "code",
   "execution_count": 7,
   "metadata": {},
   "outputs": [
    {
     "name": "stdout",
     "output_type": "stream",
     "text": [
      "+-----+------+---------+----+---------+----+----+------+\n",
      "|empno| ename|      job| mgr| hiredate| sal|comm|deptno|\n",
      "+-----+------+---------+----+---------+----+----+------+\n",
      "| 7369| SMITH|    CLERK|7902|17-Dec-80| 800|null|    20|\n",
      "| 7499| ALLEN| SALESMAN|7698|20-Feb-81|1600| 300|    30|\n",
      "| 7521|  WARD| SALESMAN|7698|22-Feb-81|1250| 500|    30|\n",
      "| 7566| JONES|  MANAGER|7839|02-Apr-81|2975|null|    20|\n",
      "| 7654|MARTIN| SALESMAN|7698|28-Sep-81|1250|1400|    30|\n",
      "| 7698| BLAKE|  MANAGER|7839|01-May-81|2850|null|    30|\n",
      "| 7782| CLARK|  MANAGER|7839|09-Jun-81|2450|null|    10|\n",
      "| 7788| SCOTT|  ANALYST|7566|19-Apr-87|3000|null|    20|\n",
      "| 7839|  KING|PRESIDENT|null|17-Nov-81|5000|null|    10|\n",
      "| 7844|TURNER| SALESMAN|7698|08-Sep-81|1500|   0|    30|\n",
      "| 7876| ADAMS|    CLERK|7788|23-May-87|1100|null|    20|\n",
      "| 7900| JAMES|    CLERK|7698|03-Dec-81| 950|null|    30|\n",
      "| 7902|  FORD|  ANALYST|7566|03-Dec-81|3000|null|    20|\n",
      "| 7934|MILLER|    CLERK|7782|23-Jan-82|1300|null|    10|\n",
      "+-----+------+---------+----+---------+----+----+------+\n",
      "\n"
     ]
    }
   ],
   "source": [
    "df.show()"
   ]
  },
  {
   "cell_type": "code",
   "execution_count": 8,
   "metadata": {},
   "outputs": [
    {
     "name": "stdout",
     "output_type": "stream",
     "text": [
      "root\n",
      " |-- empno: integer (nullable = true)\n",
      " |-- ename: string (nullable = true)\n",
      " |-- job: string (nullable = true)\n",
      " |-- mgr: integer (nullable = true)\n",
      " |-- hiredate: string (nullable = true)\n",
      " |-- sal: integer (nullable = true)\n",
      " |-- comm: integer (nullable = true)\n",
      " |-- deptno: integer (nullable = true)\n",
      "\n"
     ]
    }
   ],
   "source": [
    "df.printSchema()"
   ]
  },
  {
   "cell_type": "code",
   "execution_count": 16,
   "metadata": {},
   "outputs": [
    {
     "name": "stdout",
     "output_type": "stream",
     "text": [
      "+---------+-----+\n",
      "|      job|count|\n",
      "+---------+-----+\n",
      "|  ANALYST|    2|\n",
      "| SALESMAN|    4|\n",
      "|    CLERK|    4|\n",
      "|  MANAGER|    3|\n",
      "|PRESIDENT|    1|\n",
      "+---------+-----+\n",
      "\n"
     ]
    }
   ],
   "source": [
    "# Groupby\n",
    "\n",
    "df.groupBy('job').count().show()"
   ]
  },
  {
   "cell_type": "code",
   "execution_count": 20,
   "metadata": {},
   "outputs": [
    {
     "name": "stdout",
     "output_type": "stream",
     "text": [
      "+---------+--------+\n",
      "|      job|sum(sal)|\n",
      "+---------+--------+\n",
      "|  ANALYST|    6000|\n",
      "| SALESMAN|    5600|\n",
      "|    CLERK|    4150|\n",
      "|  MANAGER|    8275|\n",
      "|PRESIDENT|    5000|\n",
      "+---------+--------+\n",
      "\n"
     ]
    }
   ],
   "source": [
    "# grouped to find job having highesh salary\n",
    "df.groupBy('job').sum('sal').show()"
   ]
  },
  {
   "cell_type": "code",
   "execution_count": 22,
   "metadata": {},
   "outputs": [
    {
     "name": "stdout",
     "output_type": "stream",
     "text": [
      "+------+--------+\n",
      "|deptno|sum(sal)|\n",
      "+------+--------+\n",
      "|    20|   10875|\n",
      "|    10|    8750|\n",
      "|    30|    9400|\n",
      "+------+--------+\n",
      "\n"
     ]
    }
   ],
   "source": [
    "# grouped to find deptno having having salary\n",
    "\n",
    "df.groupBy('deptno').sum('sal').show()"
   ]
  },
  {
   "cell_type": "code",
   "execution_count": 27,
   "metadata": {},
   "outputs": [
    {
     "name": "stdout",
     "output_type": "stream",
     "text": [
      "+---------+------------------+\n",
      "|      job|          avg(sal)|\n",
      "+---------+------------------+\n",
      "|  ANALYST|            3000.0|\n",
      "| SALESMAN|            1400.0|\n",
      "|    CLERK|            1037.5|\n",
      "|  MANAGER|2758.3333333333335|\n",
      "|PRESIDENT|            5000.0|\n",
      "+---------+------------------+\n",
      "\n"
     ]
    }
   ],
   "source": [
    "# finding mean\n",
    "df.groupBy('job').mean('sal').show()"
   ]
  },
  {
   "cell_type": "code",
   "execution_count": 29,
   "metadata": {},
   "outputs": [
    {
     "name": "stdout",
     "output_type": "stream",
     "text": [
      "+---------+------------------+\n",
      "|      job|          avg(sal)|\n",
      "+---------+------------------+\n",
      "|  ANALYST|            3000.0|\n",
      "| SALESMAN|            1400.0|\n",
      "|    CLERK|            1037.5|\n",
      "|  MANAGER|2758.3333333333335|\n",
      "|PRESIDENT|            5000.0|\n",
      "+---------+------------------+\n",
      "\n"
     ]
    }
   ],
   "source": [
    "df.groupBy('job').agg({'sal':'mean'}).show()"
   ]
  },
  {
   "cell_type": "code",
   "execution_count": null,
   "metadata": {},
   "outputs": [],
   "source": []
  }
 ],
 "metadata": {
  "interpreter": {
   "hash": "7a542ca580817fc4dd55327026e074e2fa0cd470fc5dee9350c2d8b13822db8d"
  },
  "kernelspec": {
   "display_name": "Python 3.8.1 32-bit",
   "language": "python",
   "name": "python3"
  },
  "language_info": {
   "codemirror_mode": {
    "name": "ipython",
    "version": 3
   },
   "file_extension": ".py",
   "mimetype": "text/x-python",
   "name": "python",
   "nbconvert_exporter": "python",
   "pygments_lexer": "ipython3",
   "version": "3.8.1"
  },
  "orig_nbformat": 4
 },
 "nbformat": 4,
 "nbformat_minor": 2
}

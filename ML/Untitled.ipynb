{
 "cells": [
  {
   "cell_type": "code",
   "execution_count": 21,
   "id": "a9ac07b3",
   "metadata": {},
   "outputs": [
    {
     "name": "stdout",
     "output_type": "stream",
     "text": [
      "x nxx lxyxtxx cxsx"
     ]
    }
   ],
   "source": [
    "for i in 'analytics':\n",
    "    if (i == 'a') or (i == 'i'):\n",
    "        print(\"x\",end=\" \")\n",
    "    else:\n",
    "        print(i,end=\"x\")"
   ]
  },
  {
   "cell_type": "code",
   "execution_count": 27,
   "id": "770a0f40",
   "metadata": {},
   "outputs": [
    {
     "name": "stdout",
     "output_type": "stream",
     "text": [
      "10 9 "
     ]
    }
   ],
   "source": [
    "n=10\n",
    "while n>5:\n",
    "    print(n,end=' ')\n",
    "    n=n-1\n",
    "#     print('va',n)\n",
    "    if n==8:\n",
    "        n=2"
   ]
  },
  {
   "cell_type": "code",
   "execution_count": null,
   "id": "c8f448cb",
   "metadata": {},
   "outputs": [],
   "source": []
  }
 ],
 "metadata": {
  "kernelspec": {
   "display_name": "Python 3",
   "language": "python",
   "name": "python3"
  },
  "language_info": {
   "codemirror_mode": {
    "name": "ipython",
    "version": 3
   },
   "file_extension": ".py",
   "mimetype": "text/x-python",
   "name": "python",
   "nbconvert_exporter": "python",
   "pygments_lexer": "ipython3",
   "version": "3.8.8"
  }
 },
 "nbformat": 4,
 "nbformat_minor": 5
}

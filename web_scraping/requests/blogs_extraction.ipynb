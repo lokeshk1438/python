{
 "cells": [
  {
   "cell_type": "code",
   "execution_count": 94,
   "metadata": {},
   "outputs": [],
   "source": [
    "import requests as req\n",
    "from bs4 import BeautifulSoup as bs\n",
    "import pandas as pd\n",
    "import re"
   ]
  },
  {
   "cell_type": "code",
   "execution_count": 2,
   "metadata": {},
   "outputs": [],
   "source": [
    "url='https://indianbloggers.org/'\n",
    "content = req.get(url).text"
   ]
  },
  {
   "cell_type": "code",
   "execution_count": 86,
   "metadata": {},
   "outputs": [],
   "source": [
    "d = {'title':[],'links':[]}\n",
    "cat = {'blogspot':0,'wordpress':0,'others':0}\n",
    "sp = {'blogspot':[],'wordpress':[],'others':[]}"
   ]
  },
  {
   "cell_type": "code",
   "execution_count": 87,
   "metadata": {},
   "outputs": [],
   "source": [
    "soup = bs(content, 'html.parser')"
   ]
  },
  {
   "cell_type": "code",
   "execution_count": 88,
   "metadata": {
    "tags": []
   },
   "outputs": [],
   "source": [
    "for link in soup.find_all('a',):\n",
    "    if len(link.text.strip()) > 1 and bool(re.match('^http',link['href'])) and not bool(re.search('indianbloggers|twitter|facebook|google',link['href'])):\n",
    "        d['title'].append(link.text)\n",
    "        d['links'].append(link['href'])\n",
    "        if re.search('blogspot',link['href']):\n",
    "            cat['blogspot'] +=1\n",
    "            sp['blogspot'].append(link['href'])\n",
    "        elif re.search('wordpress',link['href']):\n",
    "            cat['wordpress'] +=1\n",
    "            sp['wordpress'].append(link['href'])\n",
    "        else:\n",
    "            cat['others'] +=1\n",
    "            sp['others'].append(link['href'])"
   ]
  },
  {
   "cell_type": "code",
   "execution_count": 89,
   "metadata": {},
   "outputs": [],
   "source": [
    "blog_post = pd.DataFrame(d).set_index('title')"
   ]
  },
  {
   "cell_type": "code",
   "execution_count": 121,
   "metadata": {},
   "outputs": [
    {
     "data": {
      "text/plain": [
       "{'blogspot': 106, 'wordpress': 49, 'others': 207}"
      ]
     },
     "execution_count": 121,
     "metadata": {},
     "output_type": "execute_result"
    }
   ],
   "source": [
    "cat"
   ]
  },
  {
   "cell_type": "code",
   "execution_count": 36,
   "metadata": {},
   "outputs": [],
   "source": [
    "blog_post.to_csv('blog_post.csv',encoding='utf-8')"
   ]
  },
  {
   "cell_type": "code",
   "execution_count": 122,
   "metadata": {},
   "outputs": [],
   "source": [
    "ps = pd.Series(sp['blogspot'])"
   ]
  },
  {
   "cell_type": "code",
   "execution_count": 125,
   "metadata": {},
   "outputs": [],
   "source": [
    "ps.to_csv('all_spots1.csv',encoding='utf-8')"
   ]
  },
  {
   "cell_type": "code",
   "execution_count": null,
   "metadata": {},
   "outputs": [],
   "source": []
  }
 ],
 "metadata": {
  "interpreter": {
   "hash": "eea86b4aef23709fc81e8fd951d877afe122e709ed20c2e39e1e997be32a3196"
  },
  "kernelspec": {
   "display_name": "Python 3 (ipykernel)",
   "language": "python",
   "name": "python3"
  },
  "language_info": {
   "codemirror_mode": {
    "name": "ipython",
    "version": 3
   },
   "file_extension": ".py",
   "mimetype": "text/x-python",
   "name": "python",
   "nbconvert_exporter": "python",
   "pygments_lexer": "ipython3",
   "version": "3.8.1"
  }
 },
 "nbformat": 4,
 "nbformat_minor": 4
}

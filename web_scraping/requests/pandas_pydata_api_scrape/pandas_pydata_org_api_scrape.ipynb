{
 "metadata": {
  "language_info": {
   "codemirror_mode": {
    "name": "ipython",
    "version": 3
   },
   "file_extension": ".py",
   "mimetype": "text/x-python",
   "name": "python",
   "nbconvert_exporter": "python",
   "pygments_lexer": "ipython3",
   "version": "3.9.5"
  },
  "orig_nbformat": 4,
  "kernelspec": {
   "name": "python3",
   "display_name": "Python 3.9.5 64-bit"
  },
  "interpreter": {
   "hash": "e48b3f1d990cb72d1944944ad3d71627b5fdd5ce06d90b14b58ee0edc9153770"
  }
 },
 "nbformat": 4,
 "nbformat_minor": 2,
 "cells": [
  {
   "cell_type": "code",
   "execution_count": 62,
   "metadata": {},
   "outputs": [],
   "source": [
    "from requests import get\n",
    "from bs4 import BeautifulSoup as soup\n",
    "import re"
   ]
  },
  {
   "cell_type": "code",
   "execution_count": 63,
   "metadata": {},
   "outputs": [],
   "source": [
    "# need to provide the headers to make the server that the request is from authenticated browser\n",
    "\n",
    "m_url=r'https://pandas.pydata.org/pandas-docs/stable/reference/index.html'\n",
    "hdrs = {'User-Agent': 'Mozilla/5.0 (Macintosh; Intel Mac OS X 10_11_6) AppleWebKit/537.36 (KHTML, like Gecko) Chrome/61.0.3163.100 Safari/537.36'}"
   ]
  },
  {
   "cell_type": "code",
   "execution_count": 64,
   "metadata": {},
   "outputs": [],
   "source": [
    "# base url for all the links\n",
    "\n",
    "base_url = r'https://pandas.pydata.org/pandas-docs/stable/reference/'"
   ]
  },
  {
   "cell_type": "code",
   "execution_count": 65,
   "metadata": {},
   "outputs": [],
   "source": [
    "# download the html and assign it to a variable\n",
    "\n",
    "page_html = get(url=m_url, headers=hdrs).text"
   ]
  },
  {
   "cell_type": "code",
   "execution_count": 66,
   "metadata": {},
   "outputs": [],
   "source": [
    "# parse it using beautiful soup\n",
    "\n",
    "page_soup = soup(page_html, 'html.parser')"
   ]
  },
  {
   "cell_type": "code",
   "execution_count": 67,
   "metadata": {},
   "outputs": [],
   "source": [
    "# create a seperate html file and save the web-page\n",
    "\n",
    "# with open('pandas_pydata_org.html', 'w') as f:\n",
    "    # f.write(page_html)"
   ]
  },
  {
   "cell_type": "code",
   "execution_count": 68,
   "metadata": {},
   "outputs": [],
   "source": [
    "# to extract the item container\n",
    "\n",
    "item_containers = page_soup.find_all('ul',{'class':'nav bd-sidenav'})"
   ]
  },
  {
   "cell_type": "code",
   "execution_count": 69,
   "metadata": {},
   "outputs": [],
   "source": [
    "item_containers = list_containers.find_all('li',{'class':'toctree-l1 has-children'})"
   ]
  },
  {
   "cell_type": "code",
   "execution_count": 70,
   "metadata": {},
   "outputs": [],
   "source": [
    "# Open a file and write all the details to it\n",
    "\n",
    "with open('all_api_links.txt','w') as f:\n",
    "    for item in item_containers:\n",
    "        # print(item.a.get_text().strip())\n",
    "        title = '------------> ' + item.a.get_text().strip() + ' <------------' + '\\n\\n'\n",
    "        f.write(title)\n",
    "\n",
    "        for funcs in item.find_all('li',{'class':'toctree-l2'}):\n",
    "            name = funcs.a.text.strip()\n",
    "            link = funcs.a['href']\n",
    "            c_line = name + ' : ' + base_url + link + '\\n\\n'\n",
    "            # f.write(c_line)\n",
    "            f.write(c_line)\n"
   ]
  }
 ]
}
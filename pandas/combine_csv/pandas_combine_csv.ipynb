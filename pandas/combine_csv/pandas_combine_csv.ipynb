{
 "metadata": {
  "language_info": {
   "codemirror_mode": {
    "name": "ipython",
    "version": 3
   },
   "file_extension": ".py",
   "mimetype": "text/x-python",
   "name": "python",
   "nbconvert_exporter": "python",
   "pygments_lexer": "ipython3",
   "version": "3.9.5"
  },
  "orig_nbformat": 4,
  "kernelspec": {
   "name": "python3",
   "display_name": "Python 3.9.5 64-bit"
  },
  "interpreter": {
   "hash": "e48b3f1d990cb72d1944944ad3d71627b5fdd5ce06d90b14b58ee0edc9153770"
  }
 },
 "nbformat": 4,
 "nbformat_minor": 2,
 "cells": [
  {
   "cell_type": "code",
   "execution_count": 2,
   "metadata": {},
   "outputs": [],
   "source": [
    "import pandas as pd"
   ]
  },
  {
   "cell_type": "code",
   "execution_count": 19,
   "metadata": {},
   "outputs": [],
   "source": [
    "df1 = pd.read_csv(r'C:\\Users\\lokes\\OneDrive\\Desktop\\python\\pandas\\homes.csv')\n",
    "df2 = pd.read_csv(r'C:\\Users\\lokes\\OneDrive\\Desktop\\python\\pandas\\homes_1.csv')\n",
    "df_homes = pd.read_csv(r'C:\\Users\\lokes\\OneDrive\\Desktop\\python\\pandas\\homes_complete.csv')"
   ]
  },
  {
   "cell_type": "code",
   "execution_count": 20,
   "metadata": {},
   "outputs": [
    {
     "output_type": "execute_result",
     "data": {
      "text/plain": [
       "           Address    Price  Bedrooms\n",
       "0      123 Main St   99,000         1\n",
       "1  4981 Anytown Rd  199,000         4\n",
       "2   132 Walrus ave  299,001         2\n",
       "3    1506 Guido St  784,049         3"
      ],
      "text/html": "<div>\n<style scoped>\n    .dataframe tbody tr th:only-of-type {\n        vertical-align: middle;\n    }\n\n    .dataframe tbody tr th {\n        vertical-align: top;\n    }\n\n    .dataframe thead th {\n        text-align: right;\n    }\n</style>\n<table border=\"1\" class=\"dataframe\">\n  <thead>\n    <tr style=\"text-align: right;\">\n      <th></th>\n      <th>Address</th>\n      <th>Price</th>\n      <th>Bedrooms</th>\n    </tr>\n  </thead>\n  <tbody>\n    <tr>\n      <th>0</th>\n      <td>123 Main St</td>\n      <td>99,000</td>\n      <td>1</td>\n    </tr>\n    <tr>\n      <th>1</th>\n      <td>4981 Anytown Rd</td>\n      <td>199,000</td>\n      <td>4</td>\n    </tr>\n    <tr>\n      <th>2</th>\n      <td>132 Walrus ave</td>\n      <td>299,001</td>\n      <td>2</td>\n    </tr>\n    <tr>\n      <th>3</th>\n      <td>1506 Guido St</td>\n      <td>784,049</td>\n      <td>3</td>\n    </tr>\n  </tbody>\n</table>\n</div>"
     },
     "metadata": {},
     "execution_count": 20
    }
   ],
   "source": [
    "df1"
   ]
  },
  {
   "cell_type": "code",
   "execution_count": 21,
   "metadata": {},
   "outputs": [
    {
     "output_type": "execute_result",
     "data": {
      "text/plain": [
       "          Address    Price  Bedrooms\n",
       "0   491 Python St  293,923         4\n",
       "1     938 Zeal Rd  148,398         2\n",
       "2     247 Fort St  299,238         3\n",
       "3  992 Settled St  823,049         4"
      ],
      "text/html": "<div>\n<style scoped>\n    .dataframe tbody tr th:only-of-type {\n        vertical-align: middle;\n    }\n\n    .dataframe tbody tr th {\n        vertical-align: top;\n    }\n\n    .dataframe thead th {\n        text-align: right;\n    }\n</style>\n<table border=\"1\" class=\"dataframe\">\n  <thead>\n    <tr style=\"text-align: right;\">\n      <th></th>\n      <th>Address</th>\n      <th>Price</th>\n      <th>Bedrooms</th>\n    </tr>\n  </thead>\n  <tbody>\n    <tr>\n      <th>0</th>\n      <td>491 Python St</td>\n      <td>293,923</td>\n      <td>4</td>\n    </tr>\n    <tr>\n      <th>1</th>\n      <td>938 Zeal Rd</td>\n      <td>148,398</td>\n      <td>2</td>\n    </tr>\n    <tr>\n      <th>2</th>\n      <td>247 Fort St</td>\n      <td>299,238</td>\n      <td>3</td>\n    </tr>\n    <tr>\n      <th>3</th>\n      <td>992 Settled St</td>\n      <td>823,049</td>\n      <td>4</td>\n    </tr>\n  </tbody>\n</table>\n</div>"
     },
     "metadata": {},
     "execution_count": 21
    }
   ],
   "source": [
    "df2"
   ]
  },
  {
   "cell_type": "code",
   "execution_count": 22,
   "metadata": {},
   "outputs": [
    {
     "output_type": "execute_result",
     "data": {
      "text/plain": [
       "           Address    Price  Bedrooms\n",
       "0      123 Main St   99,000         1\n",
       "1  4981 Anytown Rd  199,000         4\n",
       "2   132 Walrus ave  299,001         2\n",
       "3    1506 Guido St  784,049         3\n",
       "4    491 Python St  293,923         4\n",
       "5      938 Zeal Rd  148,398         2\n",
       "6      247 Fort St  299,238         3\n",
       "7   992 Settled St  823,049         4"
      ],
      "text/html": "<div>\n<style scoped>\n    .dataframe tbody tr th:only-of-type {\n        vertical-align: middle;\n    }\n\n    .dataframe tbody tr th {\n        vertical-align: top;\n    }\n\n    .dataframe thead th {\n        text-align: right;\n    }\n</style>\n<table border=\"1\" class=\"dataframe\">\n  <thead>\n    <tr style=\"text-align: right;\">\n      <th></th>\n      <th>Address</th>\n      <th>Price</th>\n      <th>Bedrooms</th>\n    </tr>\n  </thead>\n  <tbody>\n    <tr>\n      <th>0</th>\n      <td>123 Main St</td>\n      <td>99,000</td>\n      <td>1</td>\n    </tr>\n    <tr>\n      <th>1</th>\n      <td>4981 Anytown Rd</td>\n      <td>199,000</td>\n      <td>4</td>\n    </tr>\n    <tr>\n      <th>2</th>\n      <td>132 Walrus ave</td>\n      <td>299,001</td>\n      <td>2</td>\n    </tr>\n    <tr>\n      <th>3</th>\n      <td>1506 Guido St</td>\n      <td>784,049</td>\n      <td>3</td>\n    </tr>\n    <tr>\n      <th>4</th>\n      <td>491 Python St</td>\n      <td>293,923</td>\n      <td>4</td>\n    </tr>\n    <tr>\n      <th>5</th>\n      <td>938 Zeal Rd</td>\n      <td>148,398</td>\n      <td>2</td>\n    </tr>\n    <tr>\n      <th>6</th>\n      <td>247 Fort St</td>\n      <td>299,238</td>\n      <td>3</td>\n    </tr>\n    <tr>\n      <th>7</th>\n      <td>992 Settled St</td>\n      <td>823,049</td>\n      <td>4</td>\n    </tr>\n  </tbody>\n</table>\n</div>"
     },
     "metadata": {},
     "execution_count": 22
    }
   ],
   "source": [
    "df_homes"
   ]
  },
  {
   "cell_type": "code",
   "execution_count": 25,
   "metadata": {},
   "outputs": [],
   "source": [
    "df_homes['Inspected'] = False # applies to all the rows"
   ]
  },
  {
   "cell_type": "code",
   "execution_count": 26,
   "metadata": {},
   "outputs": [
    {
     "output_type": "execute_result",
     "data": {
      "text/plain": [
       "           Address    Price  Bedrooms  Inspected\n",
       "0      123 Main St   99,000         1      False\n",
       "1  4981 Anytown Rd  199,000         4      False\n",
       "2   132 Walrus ave  299,001         2      False\n",
       "3    1506 Guido St  784,049         3      False\n",
       "4    491 Python St  293,923         4      False\n",
       "5      938 Zeal Rd  148,398         2      False\n",
       "6      247 Fort St  299,238         3      False\n",
       "7   992 Settled St  823,049         4      False"
      ],
      "text/html": "<div>\n<style scoped>\n    .dataframe tbody tr th:only-of-type {\n        vertical-align: middle;\n    }\n\n    .dataframe tbody tr th {\n        vertical-align: top;\n    }\n\n    .dataframe thead th {\n        text-align: right;\n    }\n</style>\n<table border=\"1\" class=\"dataframe\">\n  <thead>\n    <tr style=\"text-align: right;\">\n      <th></th>\n      <th>Address</th>\n      <th>Price</th>\n      <th>Bedrooms</th>\n      <th>Inspected</th>\n    </tr>\n  </thead>\n  <tbody>\n    <tr>\n      <th>0</th>\n      <td>123 Main St</td>\n      <td>99,000</td>\n      <td>1</td>\n      <td>False</td>\n    </tr>\n    <tr>\n      <th>1</th>\n      <td>4981 Anytown Rd</td>\n      <td>199,000</td>\n      <td>4</td>\n      <td>False</td>\n    </tr>\n    <tr>\n      <th>2</th>\n      <td>132 Walrus ave</td>\n      <td>299,001</td>\n      <td>2</td>\n      <td>False</td>\n    </tr>\n    <tr>\n      <th>3</th>\n      <td>1506 Guido St</td>\n      <td>784,049</td>\n      <td>3</td>\n      <td>False</td>\n    </tr>\n    <tr>\n      <th>4</th>\n      <td>491 Python St</td>\n      <td>293,923</td>\n      <td>4</td>\n      <td>False</td>\n    </tr>\n    <tr>\n      <th>5</th>\n      <td>938 Zeal Rd</td>\n      <td>148,398</td>\n      <td>2</td>\n      <td>False</td>\n    </tr>\n    <tr>\n      <th>6</th>\n      <td>247 Fort St</td>\n      <td>299,238</td>\n      <td>3</td>\n      <td>False</td>\n    </tr>\n    <tr>\n      <th>7</th>\n      <td>992 Settled St</td>\n      <td>823,049</td>\n      <td>4</td>\n      <td>False</td>\n    </tr>\n  </tbody>\n</table>\n</div>"
     },
     "metadata": {},
     "execution_count": 26
    }
   ],
   "source": [
    "df_homes"
   ]
  },
  {
   "cell_type": "code",
   "execution_count": 31,
   "metadata": {},
   "outputs": [
    {
     "output_type": "execute_result",
     "data": {
      "text/plain": [
       "           Address    Price  Bedrooms  Inspected\n",
       "0      123 Main St   99,000         1      False\n",
       "2   132 Walrus ave  299,001         2      False\n",
       "5      938 Zeal Rd  148,398         2      False\n",
       "3    1506 Guido St  784,049         3      False\n",
       "6      247 Fort St  299,238         3      False\n",
       "1  4981 Anytown Rd  199,000         4      False\n",
       "4    491 Python St  293,923         4      False\n",
       "7   992 Settled St  823,049         4      False"
      ],
      "text/html": "<div>\n<style scoped>\n    .dataframe tbody tr th:only-of-type {\n        vertical-align: middle;\n    }\n\n    .dataframe tbody tr th {\n        vertical-align: top;\n    }\n\n    .dataframe thead th {\n        text-align: right;\n    }\n</style>\n<table border=\"1\" class=\"dataframe\">\n  <thead>\n    <tr style=\"text-align: right;\">\n      <th></th>\n      <th>Address</th>\n      <th>Price</th>\n      <th>Bedrooms</th>\n      <th>Inspected</th>\n    </tr>\n  </thead>\n  <tbody>\n    <tr>\n      <th>0</th>\n      <td>123 Main St</td>\n      <td>99,000</td>\n      <td>1</td>\n      <td>False</td>\n    </tr>\n    <tr>\n      <th>2</th>\n      <td>132 Walrus ave</td>\n      <td>299,001</td>\n      <td>2</td>\n      <td>False</td>\n    </tr>\n    <tr>\n      <th>5</th>\n      <td>938 Zeal Rd</td>\n      <td>148,398</td>\n      <td>2</td>\n      <td>False</td>\n    </tr>\n    <tr>\n      <th>3</th>\n      <td>1506 Guido St</td>\n      <td>784,049</td>\n      <td>3</td>\n      <td>False</td>\n    </tr>\n    <tr>\n      <th>6</th>\n      <td>247 Fort St</td>\n      <td>299,238</td>\n      <td>3</td>\n      <td>False</td>\n    </tr>\n    <tr>\n      <th>1</th>\n      <td>4981 Anytown Rd</td>\n      <td>199,000</td>\n      <td>4</td>\n      <td>False</td>\n    </tr>\n    <tr>\n      <th>4</th>\n      <td>491 Python St</td>\n      <td>293,923</td>\n      <td>4</td>\n      <td>False</td>\n    </tr>\n    <tr>\n      <th>7</th>\n      <td>992 Settled St</td>\n      <td>823,049</td>\n      <td>4</td>\n      <td>False</td>\n    </tr>\n  </tbody>\n</table>\n</div>"
     },
     "metadata": {},
     "execution_count": 31
    }
   ],
   "source": [
    "df_homes.sort_index() # sorts by index\n",
    "df_homes.sort_values(by='Bedrooms')"
   ]
  },
  {
   "cell_type": "code",
   "execution_count": 37,
   "metadata": {},
   "outputs": [],
   "source": [
    "df_final=pd.concat([df1,df2,df_homes])  # contcates all the data frames"
   ]
  },
  {
   "cell_type": "code",
   "execution_count": 41,
   "metadata": {},
   "outputs": [],
   "source": [
    "df_final.fillna('No Value', inplace=True)"
   ]
  },
  {
   "cell_type": "code",
   "execution_count": 45,
   "metadata": {},
   "outputs": [],
   "source": [
    "# exporting to a .csv file\n",
    "# pd.concat([df1,df2,df_homes]).to_csv('homes_1_comp_comp.csv')\n",
    "\n",
    "#or\n",
    "\n",
    "pd.concat([df_final]).to_csv('homes_1_comp_comp.csv', index=False)"
   ]
  }
 ]
}
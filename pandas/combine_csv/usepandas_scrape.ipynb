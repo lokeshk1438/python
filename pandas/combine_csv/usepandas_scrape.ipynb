{
 "metadata": {
  "language_info": {
   "codemirror_mode": {
    "name": "ipython",
    "version": 3
   },
   "file_extension": ".py",
   "mimetype": "text/x-python",
   "name": "python",
   "nbconvert_exporter": "python",
   "pygments_lexer": "ipython3",
   "version": "3.9.5"
  },
  "orig_nbformat": 4,
  "kernelspec": {
   "name": "python3",
   "display_name": "Python 3.9.5 64-bit"
  },
  "interpreter": {
   "hash": "e48b3f1d990cb72d1944944ad3d71627b5fdd5ce06d90b14b58ee0edc9153770"
  }
 },
 "nbformat": 4,
 "nbformat_minor": 2,
 "cells": [
  {
   "cell_type": "code",
   "execution_count": 1,
   "metadata": {},
   "outputs": [],
   "source": [
    "from requests import get\n",
    "from bs4 import BeautifulSoup as soup\n",
    "import pandas as pd"
   ]
  },
  {
   "cell_type": "code",
   "execution_count": 3,
   "metadata": {},
   "outputs": [],
   "source": [
    "m_url = r'https://www.usepandas.com/csv/pandas-read-csv'\n",
    "hrds={'User-Agent': 'Mozilla/5.0 (Macintosh; Intel Mac OS X 10_11_6) AppleWebKit/537.36 (KHTML, like Gecko) Chrome/61.0.3163.100 Safari/537.36'}\n",
    "content = get(m_url, headers=hrds).text"
   ]
  },
  {
   "cell_type": "code",
   "execution_count": 14,
   "metadata": {},
   "outputs": [],
   "source": [
    "page_soup = soup(content, 'html.parser')"
   ]
  },
  {
   "cell_type": "code",
   "execution_count": 18,
   "metadata": {},
   "outputs": [],
   "source": [
    "containers = page_soup.find_all('ul',{'class':'css-157nhwy e1wh78ri5'})"
   ]
  },
  {
   "cell_type": "code",
   "execution_count": 23,
   "metadata": {},
   "outputs": [],
   "source": [
    "links = containers[1].find_all('li')"
   ]
  },
  {
   "cell_type": "code",
   "execution_count": 47,
   "metadata": {},
   "outputs": [],
   "source": [
    "base_url='https://www.usepandas.com'"
   ]
  },
  {
   "cell_type": "code",
   "execution_count": 65,
   "metadata": {},
   "outputs": [
    {
     "output_type": "stream",
     "name": "stdout",
     "text": [
      "Read In a .csv using read_csv : https://www.usepandas.com/csv/pandas-read-csv\nAdd Column With Default Value : https://www.usepandas.com/csv/add-column-default-value-to-csv\nImport .csv From Clipboard : https://www.usepandas.com/csv/import-csv-from-clipboard\nAppend .csv files : https://www.usepandas.com/csv/append-csv-files\nSort .csv data by Column : https://www.usepandas.com/csv/sort-csv-data-by-column\nMerge .csv files in folder : https://www.usepandas.com/csv/merge-all-csvs-in-folder\nReplace missing .csv data : https://www.usepandas.com/csv/replace-missing-data\nSelect N rows : https://www.usepandas.com/csv/select-n-rows\n"
     ]
    }
   ],
   "source": [
    "with open('usepandas.txt','w') as f:\n",
    "    for link in links:\n",
    "    # print(link)\n",
    "        print(link.a.text + ' : ' + base_url + link.a['href'])\n",
    "        line = link.a.text + ' : ' + base_url + link.a['href'] +'\\n'\n",
    "        f.write(line)\n"
   ]
  },
  {
   "cell_type": "code",
   "execution_count": 33,
   "metadata": {},
   "outputs": [],
   "source": [
    "link = links[0]"
   ]
  },
  {
   "cell_type": "code",
   "execution_count": 48,
   "metadata": {},
   "outputs": [
    {
     "output_type": "execute_result",
     "data": {
      "text/plain": [
       "'https://www.usepandas.com/csv/pandas-read-csv'"
      ]
     },
     "metadata": {},
     "execution_count": 48
    }
   ],
   "source": [
    "base_url+link.a['href']"
   ]
  },
  {
   "cell_type": "code",
   "execution_count": null,
   "metadata": {},
   "outputs": [],
   "source": []
  }
 ]
}
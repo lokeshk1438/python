{
 "cells": [
  {
   "cell_type": "markdown",
   "metadata": {},
   "source": [
    "https://www.youtube.com/watch?v=VJBY2eVtf7o&list=RDCMUCq6XkhO5SZ66N04IcPbqNcw&index=16"
   ]
  },
  {
   "cell_type": "markdown",
   "metadata": {},
   "source": [
    "https://github.com/KeithGalli/Pandas-Data-Science-Tasks/tree/master/Misc"
   ]
  },
  {
   "cell_type": "code",
   "execution_count": 10,
   "metadata": {},
   "outputs": [],
   "source": [
    "import pandas as pd\n",
    "import numpy as np\n",
    "import datetime\n",
    "import random\n",
    "import calendar\n",
    "import os\n",
    "pd.set_option(\"display.max_rows\", None)\n",
    "pd.set_option(\"display.max_columns\", None)\n",
    "pd.set_option(\"display.width\", None)\n",
    "pd.set_option(\"display.max_colwidth\", None)"
   ]
  },
  {
   "cell_type": "code",
   "execution_count": 2,
   "metadata": {},
   "outputs": [],
   "source": [
    "products = {\n",
    "    # product : [price, weight]\n",
    "  'iPhone': [700, 10],\n",
    "  'Google Phone': [600, 8],\n",
    "  'Vareebadd Phone': [400, 3],\n",
    "  '20in Monitor': [109.99,6],\n",
    "  '34in Ultrawide Monitor': [379.99, 9],\n",
    "  '27in 4K Gaming Monitor': [389.99,9],\n",
    "  '27in FHD Monitor': [149.99, 11],\n",
    "  'Flatscreen TV': [300, 7],\n",
    "  'Macbook Pro Laptop': [1700, 7],\n",
    "  'ThinkPad Laptop': [999.99, 6],\n",
    "  'AA Batteries (4-pack)': [3.84, 30],\n",
    "  'AAA Batteries (4-pack)': [2.99, 30],\n",
    "  'USB-C Charging Cable': [11.95, 30],\n",
    "  'Lightning Charging Cable': [14.95, 30],\n",
    "  'Wired Headphones': [11.99, 26],\n",
    "  'Bose SoundSport Headphones': [99.99, 19],\n",
    "  'Apple Airpods Headphones': [150, 22],\n",
    "  'LG Washing Machine': [600.00, 1],\n",
    "  'LG Dryer': [600.00, 1]\n",
    "}"
   ]
  },
  {
   "cell_type": "code",
   "execution_count": 3,
   "metadata": {},
   "outputs": [],
   "source": [
    "columns = ['Order ID','Product','Quantity Ordered', 'Price Each', 'Order Date','Purchase Address']\n",
    "\n",
    "order_id = 1542854\n",
    "\n",
    "products_list = [product for product in products]\n",
    "weights = [products[product][1] for product in products]\n"
   ]
  },
  {
   "cell_type": "code",
   "execution_count": 5,
   "metadata": {},
   "outputs": [],
   "source": [
    "def generate_random_time(month):\n",
    "    # mm/dd/yyyy H:m\n",
    "    day_range = calendar.monthrange(2021, month)[1]\n",
    "    random_day = random.randint(1, day_range)\n",
    "    if random.random() < 0.5:\n",
    "        date = datetime.datetime(2021, month, random_day, 12, 00)\n",
    "    else:\n",
    "        date = datetime.datetime(2021, month, random_day, 20, 00)\n",
    "    time_offset = np.random.normal(loc=0, scale=180)\n",
    "    \n",
    "    final_date = date + datetime.timedelta(minutes=time_offset)\n",
    "    \n",
    "    return final_date.strftime(\"%m/%d/%y %H:%M\")"
   ]
  },
  {
   "cell_type": "code",
   "execution_count": 8,
   "metadata": {},
   "outputs": [],
   "source": [
    "def generate_random_address():\n",
    "    street_names = ['Main', '2nd', '1st', '4th', '5th', 'Park', '6th', '7th', 'Maple', 'Pine', 'Washington', '8th', 'Cedar', 'Elm', 'Walnut', '9th', '10th', 'Lake', 'Sunset', 'Lincoln', 'Jackson', 'Church', 'River', '11th', 'Willow', 'Jefferson', 'Center', '12th', 'North', 'Lakeview', 'Ridge', 'Hickory', 'Adams', 'Cherry', 'Highland', 'Johnson', 'South', 'Dogwood', 'West', 'Chestnut', '13th', 'Spruce', '14th', 'Wilson', 'Meadow', 'Forest', 'Hill', 'Madison']\n",
    "    cities = ['San Francisco', 'Boston', 'New York City', 'Austin', 'Dallas', 'Atlanta', 'Portland', 'Portland', 'Los Angeles', 'Seattle']\n",
    "    weights = [9,4,5,2,3,3,2,0.5,6,3]\n",
    "    zips = ['94016', '02215', '10001', '73301', '75001', '30301', '97035', '04101', '90001', '98101']\n",
    "    state = ['CA', 'MA', 'NY', 'TX', 'TX', 'GA', 'OR', 'ME', 'CA', 'WA']\n",
    "    \n",
    "    street = random.choice(street_names)\n",
    "    ind = random.choices(range(len(cities)), weights=weights)[0]\n",
    "    \n",
    "    return f\"{random.randint(1,999)} {street} st, {cities[ind]}, {state[ind]} {zips[ind]}\""
   ]
  },
  {
   "cell_type": "code",
   "execution_count": 27,
   "metadata": {},
   "outputs": [],
   "source": [
    "def write_row(order_id, product, order_date, address):\n",
    "    price = products[product][0]\n",
    "    quantity_ordered = np.random.geometric(1.0 - (1.0/price), size=1)[0]\n",
    "    \n",
    "    return [order_id, product, quantity_ordered, price, date, address]"
   ]
  },
  {
   "cell_type": "code",
   "execution_count": 23,
   "metadata": {},
   "outputs": [],
   "source": [
    "if not os.path.exists(\"sales_data/\"):\n",
    "    os.mkdir(\"sales_data\")"
   ]
  },
  {
   "cell_type": "code",
   "execution_count": 32,
   "metadata": {},
   "outputs": [
    {
     "name": "stdout",
     "output_type": "stream",
     "text": [
      "completed for month January with row count: 834\n",
      "completed for month February with row count: 1408\n",
      "completed for month March with row count: 1098\n",
      "completed for month April with row count: 702\n",
      "completed for month May with row count: 670\n",
      "completed for month June with row count: 1617\n",
      "completed for month July with row count: 1759\n",
      "completed for month August with row count: 1092\n",
      "completed for month September with row count: 1559\n",
      "completed for month October with row count: 1653\n",
      "completed for month November with row count: 1245\n",
      "completed for month December with row count: 1779\n"
     ]
    }
   ],
   "source": [
    "for month_value in range(1, 13):\n",
    "    \n",
    "    if month_value <= 10:\n",
    "        row_count = orders_amount = abs(int(np.random.normal(loc=1200, scale=400)))\n",
    "    if month_value == 11:\n",
    "        row_count = orders_amount = abs(int(np.random.normal(loc=2000, scale=300)))\n",
    "    if month_value == 12:\n",
    "        row_count = orders_amount = abs(int(np.random.normal(loc=2600, scale=300)))\n",
    "        \n",
    "      \n",
    "    df = pd.DataFrame(columns=columns)\n",
    "    \n",
    "    i = 0\n",
    "#     for i in range(orders_amount):\n",
    "    while orders_amount > 0:\n",
    "        address = generate_random_address()\n",
    "        date = generate_random_time(month_value)\n",
    "        \n",
    "        product = random.choices(products_list, weights=weights)[0]\n",
    "\n",
    "        df.loc[i] = write_row(order_id, product, date, address)\n",
    "        i += 1\n",
    "        \n",
    "        if product == 'iPhone':\n",
    "            if random.random() < 0.15:\n",
    "                df.loc[i] = write_row(order_id, 'Lightning Charging Cable', date, address)\n",
    "                i += 1\n",
    "\n",
    "        if product == 'iPhone':\n",
    "            if random.random() < 0.05:\n",
    "                df.loc[i] = write_row(order_id, 'Apple Airpods Headphones', date, address)\n",
    "                i += 1\n",
    "\n",
    "        if product == 'iPhone':\n",
    "            if random.random() < 0.07:\n",
    "                df.loc[i] = write_row(order_id, 'Wired Headphones', date, address)\n",
    "                i += 1\n",
    "\n",
    "        order_id += 1\n",
    "        orders_amount -= 1 \n",
    "        \n",
    "        \n",
    "    month_name = calendar.month_name[month_value]\n",
    "    df.to_csv(f\"sales_data/{month_name}_data.csv\", index=None)\n",
    "    print(f\"completed for month {month_name} with row count: {row_count}\")"
   ]
  },
  {
   "cell_type": "code",
   "execution_count": 601,
   "metadata": {},
   "outputs": [
    {
     "name": "stdout",
     "output_type": "stream",
     "text": [
      "shape:  (413, 6)\n"
     ]
    },
    {
     "data": {
      "text/html": [
       "<div>\n",
       "<style scoped>\n",
       "    .dataframe tbody tr th:only-of-type {\n",
       "        vertical-align: middle;\n",
       "    }\n",
       "\n",
       "    .dataframe tbody tr th {\n",
       "        vertical-align: top;\n",
       "    }\n",
       "\n",
       "    .dataframe thead th {\n",
       "        text-align: right;\n",
       "    }\n",
       "</style>\n",
       "<table border=\"1\" class=\"dataframe\">\n",
       "  <thead>\n",
       "    <tr style=\"text-align: right;\">\n",
       "      <th></th>\n",
       "      <th>Order ID</th>\n",
       "      <th>Product</th>\n",
       "      <th>Quantity Ordered</th>\n",
       "      <th>Price Each</th>\n",
       "      <th>Order Date</th>\n",
       "      <th>Purchase Address</th>\n",
       "    </tr>\n",
       "  </thead>\n",
       "  <tbody>\n",
       "    <tr>\n",
       "      <th>0</th>\n",
       "      <td>1553583</td>\n",
       "      <td>AA Batteries (4-pack)</td>\n",
       "      <td>2</td>\n",
       "      <td>3.84</td>\n",
       "      <td>01/08/21 09:08</td>\n",
       "      <td>299 Wilson st, Boston, MA 02215</td>\n",
       "    </tr>\n",
       "    <tr>\n",
       "      <th>1</th>\n",
       "      <td>1553584</td>\n",
       "      <td>27in FHD Monitor</td>\n",
       "      <td>1</td>\n",
       "      <td>149.99</td>\n",
       "      <td>01/23/21 19:54</td>\n",
       "      <td>973 1st st, Los Angeles, CA 90001</td>\n",
       "    </tr>\n",
       "    <tr>\n",
       "      <th>2</th>\n",
       "      <td>1553585</td>\n",
       "      <td>AAA Batteries (4-pack)</td>\n",
       "      <td>1</td>\n",
       "      <td>2.99</td>\n",
       "      <td>01/28/21 11:32</td>\n",
       "      <td>216 Ridge st, Austin, TX 73301</td>\n",
       "    </tr>\n",
       "    <tr>\n",
       "      <th>3</th>\n",
       "      <td>1553586</td>\n",
       "      <td>Wired Headphones</td>\n",
       "      <td>1</td>\n",
       "      <td>11.99</td>\n",
       "      <td>01/29/21 20:31</td>\n",
       "      <td>466 10th st, San Francisco, CA 94016</td>\n",
       "    </tr>\n",
       "    <tr>\n",
       "      <th>4</th>\n",
       "      <td>1553587</td>\n",
       "      <td>AA Batteries (4-pack)</td>\n",
       "      <td>1</td>\n",
       "      <td>3.84</td>\n",
       "      <td>01/07/21 10:35</td>\n",
       "      <td>632 6th st, Boston, MA 02215</td>\n",
       "    </tr>\n",
       "    <tr>\n",
       "      <th>5</th>\n",
       "      <td>1553588</td>\n",
       "      <td>Macbook Pro Laptop</td>\n",
       "      <td>1</td>\n",
       "      <td>1700.00</td>\n",
       "      <td>01/24/21 17:16</td>\n",
       "      <td>883 Lincoln st, Dallas, TX 75001</td>\n",
       "    </tr>\n",
       "    <tr>\n",
       "      <th>6</th>\n",
       "      <td>1553589</td>\n",
       "      <td>USB-C Charging Cable</td>\n",
       "      <td>1</td>\n",
       "      <td>11.95</td>\n",
       "      <td>01/08/21 20:41</td>\n",
       "      <td>766 Lincoln st, Boston, MA 02215</td>\n",
       "    </tr>\n",
       "    <tr>\n",
       "      <th>7</th>\n",
       "      <td>1553590</td>\n",
       "      <td>AAA Batteries (4-pack)</td>\n",
       "      <td>1</td>\n",
       "      <td>2.99</td>\n",
       "      <td>01/11/21 19:04</td>\n",
       "      <td>598 13th st, Seattle, WA 98101</td>\n",
       "    </tr>\n",
       "    <tr>\n",
       "      <th>8</th>\n",
       "      <td>1553591</td>\n",
       "      <td>USB-C Charging Cable</td>\n",
       "      <td>1</td>\n",
       "      <td>11.95</td>\n",
       "      <td>01/16/21 08:57</td>\n",
       "      <td>837 2nd st, Boston, MA 02215</td>\n",
       "    </tr>\n",
       "    <tr>\n",
       "      <th>9</th>\n",
       "      <td>1553592</td>\n",
       "      <td>AA Batteries (4-pack)</td>\n",
       "      <td>1</td>\n",
       "      <td>3.84</td>\n",
       "      <td>01/22/21 12:57</td>\n",
       "      <td>563 Maple st, San Francisco, CA 94016</td>\n",
       "    </tr>\n",
       "  </tbody>\n",
       "</table>\n",
       "</div>"
      ],
      "text/plain": [
       "   Order ID                 Product  Quantity Ordered  Price Each  \\\n",
       "0   1553583   AA Batteries (4-pack)                 2        3.84   \n",
       "1   1553584        27in FHD Monitor                 1      149.99   \n",
       "2   1553585  AAA Batteries (4-pack)                 1        2.99   \n",
       "3   1553586        Wired Headphones                 1       11.99   \n",
       "4   1553587   AA Batteries (4-pack)                 1        3.84   \n",
       "5   1553588      Macbook Pro Laptop                 1     1700.00   \n",
       "6   1553589    USB-C Charging Cable                 1       11.95   \n",
       "7   1553590  AAA Batteries (4-pack)                 1        2.99   \n",
       "8   1553591    USB-C Charging Cable                 1       11.95   \n",
       "9   1553592   AA Batteries (4-pack)                 1        3.84   \n",
       "\n",
       "       Order Date                       Purchase Address  \n",
       "0  01/08/21 09:08        299 Wilson st, Boston, MA 02215  \n",
       "1  01/23/21 19:54      973 1st st, Los Angeles, CA 90001  \n",
       "2  01/28/21 11:32         216 Ridge st, Austin, TX 73301  \n",
       "3  01/29/21 20:31   466 10th st, San Francisco, CA 94016  \n",
       "4  01/07/21 10:35           632 6th st, Boston, MA 02215  \n",
       "5  01/24/21 17:16       883 Lincoln st, Dallas, TX 75001  \n",
       "6  01/08/21 20:41       766 Lincoln st, Boston, MA 02215  \n",
       "7  01/11/21 19:04         598 13th st, Seattle, WA 98101  \n",
       "8  01/16/21 08:57           837 2nd st, Boston, MA 02215  \n",
       "9  01/22/21 12:57  563 Maple st, San Francisco, CA 94016  "
      ]
     },
     "execution_count": 601,
     "metadata": {},
     "output_type": "execute_result"
    }
   ],
   "source": [
    "df_temp = pd.read_csv(r\"sales_data/January_data.csv\")\n",
    "print(\"shape: \", df_temp.shape)\n",
    "df_temp.head(10)"
   ]
  },
  {
   "cell_type": "code",
   "execution_count": null,
   "metadata": {},
   "outputs": [],
   "source": []
  },
  {
   "cell_type": "code",
   "execution_count": null,
   "metadata": {},
   "outputs": [],
   "source": []
  },
  {
   "cell_type": "code",
   "execution_count": null,
   "metadata": {},
   "outputs": [],
   "source": []
  },
  {
   "cell_type": "code",
   "execution_count": 368,
   "metadata": {
    "scrolled": true
   },
   "outputs": [],
   "source": [
    "# df.groupby('Product').size().to_frame('count').reset_index().sort_values(by=['count'],ascending=False).reset_index(drop=True)"
   ]
  },
  {
   "cell_type": "code",
   "execution_count": null,
   "metadata": {},
   "outputs": [],
   "source": []
  }
 ],
 "metadata": {
  "kernelspec": {
   "display_name": "Python 3 (ipykernel)",
   "language": "python",
   "name": "python3"
  },
  "language_info": {
   "codemirror_mode": {
    "name": "ipython",
    "version": 3
   },
   "file_extension": ".py",
   "mimetype": "text/x-python",
   "name": "python",
   "nbconvert_exporter": "python",
   "pygments_lexer": "ipython3",
   "version": "3.8.1"
  },
  "varInspector": {
   "cols": {
    "lenName": 16,
    "lenType": 16,
    "lenVar": 40
   },
   "kernels_config": {
    "python": {
     "delete_cmd_postfix": "",
     "delete_cmd_prefix": "del ",
     "library": "var_list.py",
     "varRefreshCmd": "print(var_dic_list())"
    },
    "r": {
     "delete_cmd_postfix": ") ",
     "delete_cmd_prefix": "rm(",
     "library": "var_list.r",
     "varRefreshCmd": "cat(var_dic_list()) "
    }
   },
   "types_to_exclude": [
    "module",
    "function",
    "builtin_function_or_method",
    "instance",
    "_Feature"
   ],
   "window_display": false
  }
 },
 "nbformat": 4,
 "nbformat_minor": 4
}

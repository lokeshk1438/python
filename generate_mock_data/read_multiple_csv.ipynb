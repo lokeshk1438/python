{
 "cells": [
  {
   "cell_type": "code",
   "execution_count": 2,
   "metadata": {},
   "outputs": [],
   "source": [
    "# link used for below task\n",
    "# https://www.geeksforgeeks.org/how-to-read-all-csv-files-in-a-folder-in-pandas/"
   ]
  },
  {
   "cell_type": "code",
   "execution_count": 5,
   "metadata": {},
   "outputs": [],
   "source": [
    "import pandas as pd\n",
    "import numpy as np\n",
    "import glob\n",
    "import os\n",
    "\n",
    "pd.set_option(\"display.max_rows\", None)\n",
    "pd.set_option(\"display.max_columns\", None)\n",
    "pd.set_option(\"display.width\", None)\n",
    "pd.set_option(\"display.max_colwidth\", None)"
   ]
  },
  {
   "cell_type": "markdown",
   "metadata": {},
   "source": [
    "## glob"
   ]
  },
  {
   "cell_type": "code",
   "execution_count": 12,
   "metadata": {},
   "outputs": [
    {
     "name": "stdout",
     "output_type": "stream",
     "text": [
      "listing the files in the sales directory\n",
      "sales_data\\April_data.csv\n",
      "sales_data\\August_data.csv\n",
      "sales_data\\December_data.csv\n",
      "sales_data\\February_data.csv\n",
      "sales_data\\January_data.csv\n",
      "sales_data\\July_data.csv\n",
      "sales_data\\June_data.csv\n",
      "sales_data\\March_data.csv\n",
      "sales_data\\May_data.csv\n",
      "sales_data\\November_data.csv\n",
      "sales_data\\October_data.csv\n",
      "sales_data\\September_data.csv\n"
     ]
    }
   ],
   "source": [
    "if os.path.exists(\"sales_data\"):\n",
    "    print(\"listing the files in the sales directory\")\n",
    "    for file in glob.glob(\"sales_data/*\"):\n",
    "        print(file)\n",
    "else:\n",
    "    print(\"specified directory does not exists\")"
   ]
  },
  {
   "cell_type": "code",
   "execution_count": 15,
   "metadata": {},
   "outputs": [],
   "source": [
    "path = os.getcwd()"
   ]
  },
  {
   "cell_type": "code",
   "execution_count": 16,
   "metadata": {},
   "outputs": [
    {
     "data": {
      "text/plain": [
       "'C:\\\\Users\\\\lkoturu\\\\Desktop\\\\python_d\\\\generate_mock_data'"
      ]
     },
     "execution_count": 16,
     "metadata": {},
     "output_type": "execute_result"
    }
   ],
   "source": [
    "path"
   ]
  },
  {
   "cell_type": "code",
   "execution_count": 23,
   "metadata": {},
   "outputs": [],
   "source": [
    "csv_files = os.path.join(path, \"sales_data/*.csv\")"
   ]
  },
  {
   "cell_type": "code",
   "execution_count": 24,
   "metadata": {},
   "outputs": [
    {
     "data": {
      "text/plain": [
       "'C:\\\\Users\\\\lkoturu\\\\Desktop\\\\python_d\\\\generate_mock_data\\\\sales_data/*.csv'"
      ]
     },
     "execution_count": 24,
     "metadata": {},
     "output_type": "execute_result"
    }
   ],
   "source": [
    "csv_files"
   ]
  },
  {
   "cell_type": "code",
   "execution_count": 26,
   "metadata": {},
   "outputs": [],
   "source": [
    "final_df = pd.DataFrame()"
   ]
  },
  {
   "cell_type": "code",
   "execution_count": 27,
   "metadata": {},
   "outputs": [
    {
     "name": "stdout",
     "output_type": "stream",
     "text": [
      "C:\\Users\\lkoturu\\Desktop\\python_d\\generate_mock_data\\sales_data\\April_data.csv\n",
      "C:\\Users\\lkoturu\\Desktop\\python_d\\generate_mock_data\\sales_data\\August_data.csv\n",
      "C:\\Users\\lkoturu\\Desktop\\python_d\\generate_mock_data\\sales_data\\December_data.csv\n",
      "C:\\Users\\lkoturu\\Desktop\\python_d\\generate_mock_data\\sales_data\\February_data.csv\n",
      "C:\\Users\\lkoturu\\Desktop\\python_d\\generate_mock_data\\sales_data\\January_data.csv\n",
      "C:\\Users\\lkoturu\\Desktop\\python_d\\generate_mock_data\\sales_data\\July_data.csv\n",
      "C:\\Users\\lkoturu\\Desktop\\python_d\\generate_mock_data\\sales_data\\June_data.csv\n",
      "C:\\Users\\lkoturu\\Desktop\\python_d\\generate_mock_data\\sales_data\\March_data.csv\n",
      "C:\\Users\\lkoturu\\Desktop\\python_d\\generate_mock_data\\sales_data\\May_data.csv\n",
      "C:\\Users\\lkoturu\\Desktop\\python_d\\generate_mock_data\\sales_data\\November_data.csv\n",
      "C:\\Users\\lkoturu\\Desktop\\python_d\\generate_mock_data\\sales_data\\October_data.csv\n",
      "C:\\Users\\lkoturu\\Desktop\\python_d\\generate_mock_data\\sales_data\\September_data.csv\n"
     ]
    }
   ],
   "source": [
    "for file in glob.glob(csv_files):\n",
    "    print(file)\n",
    "    df = pd.read_csv(file)\n",
    "    final_df = pd.concat([final_df, df])"
   ]
  },
  {
   "cell_type": "code",
   "execution_count": 28,
   "metadata": {},
   "outputs": [
    {
     "data": {
      "text/plain": [
       "(15589, 6)"
      ]
     },
     "execution_count": 28,
     "metadata": {},
     "output_type": "execute_result"
    }
   ],
   "source": [
    "final_df.shape"
   ]
  },
  {
   "cell_type": "code",
   "execution_count": 38,
   "metadata": {},
   "outputs": [],
   "source": [
    "final_df['Order Date'] = pd.to_datetime(final_df['Order Date'])"
   ]
  },
  {
   "cell_type": "code",
   "execution_count": 40,
   "metadata": {},
   "outputs": [
    {
     "data": {
      "text/html": [
       "<div>\n",
       "<style scoped>\n",
       "    .dataframe tbody tr th:only-of-type {\n",
       "        vertical-align: middle;\n",
       "    }\n",
       "\n",
       "    .dataframe tbody tr th {\n",
       "        vertical-align: top;\n",
       "    }\n",
       "\n",
       "    .dataframe thead th {\n",
       "        text-align: right;\n",
       "    }\n",
       "</style>\n",
       "<table border=\"1\" class=\"dataframe\">\n",
       "  <thead>\n",
       "    <tr style=\"text-align: right;\">\n",
       "      <th></th>\n",
       "      <th>Order ID</th>\n",
       "      <th>Product</th>\n",
       "      <th>Quantity Ordered</th>\n",
       "      <th>Price Each</th>\n",
       "      <th>Order Date</th>\n",
       "      <th>Purchase Address</th>\n",
       "    </tr>\n",
       "  </thead>\n",
       "  <tbody>\n",
       "    <tr>\n",
       "      <th>0</th>\n",
       "      <td>1551382</td>\n",
       "      <td>Lightning Charging Cable</td>\n",
       "      <td>1</td>\n",
       "      <td>14.95</td>\n",
       "      <td>2021-04-08 10:38:00</td>\n",
       "      <td>635 Walnut st, San Francisco, CA 94016</td>\n",
       "    </tr>\n",
       "    <tr>\n",
       "      <th>1</th>\n",
       "      <td>1551383</td>\n",
       "      <td>Wired Headphones</td>\n",
       "      <td>1</td>\n",
       "      <td>11.99</td>\n",
       "      <td>2021-04-27 10:11:00</td>\n",
       "      <td>23 Pine st, San Francisco, CA 94016</td>\n",
       "    </tr>\n",
       "    <tr>\n",
       "      <th>2</th>\n",
       "      <td>1551384</td>\n",
       "      <td>Bose SoundSport Headphones</td>\n",
       "      <td>1</td>\n",
       "      <td>99.99</td>\n",
       "      <td>2021-04-16 19:46:00</td>\n",
       "      <td>666 Hickory st, San Francisco, CA 94016</td>\n",
       "    </tr>\n",
       "    <tr>\n",
       "      <th>3</th>\n",
       "      <td>1551385</td>\n",
       "      <td>34in Ultrawide Monitor</td>\n",
       "      <td>1</td>\n",
       "      <td>379.99</td>\n",
       "      <td>2021-04-25 19:11:00</td>\n",
       "      <td>584 Main st, San Francisco, CA 94016</td>\n",
       "    </tr>\n",
       "    <tr>\n",
       "      <th>4</th>\n",
       "      <td>1551386</td>\n",
       "      <td>Lightning Charging Cable</td>\n",
       "      <td>1</td>\n",
       "      <td>14.95</td>\n",
       "      <td>2021-04-26 14:05:00</td>\n",
       "      <td>84 10th st, Portland, ME 04101</td>\n",
       "    </tr>\n",
       "  </tbody>\n",
       "</table>\n",
       "</div>"
      ],
      "text/plain": [
       "   Order ID                     Product  Quantity Ordered  Price Each  \\\n",
       "0   1551382    Lightning Charging Cable                 1       14.95   \n",
       "1   1551383            Wired Headphones                 1       11.99   \n",
       "2   1551384  Bose SoundSport Headphones                 1       99.99   \n",
       "3   1551385      34in Ultrawide Monitor                 1      379.99   \n",
       "4   1551386    Lightning Charging Cable                 1       14.95   \n",
       "\n",
       "           Order Date                         Purchase Address  \n",
       "0 2021-04-08 10:38:00   635 Walnut st, San Francisco, CA 94016  \n",
       "1 2021-04-27 10:11:00      23 Pine st, San Francisco, CA 94016  \n",
       "2 2021-04-16 19:46:00  666 Hickory st, San Francisco, CA 94016  \n",
       "3 2021-04-25 19:11:00     584 Main st, San Francisco, CA 94016  \n",
       "4 2021-04-26 14:05:00           84 10th st, Portland, ME 04101  "
      ]
     },
     "execution_count": 40,
     "metadata": {},
     "output_type": "execute_result"
    }
   ],
   "source": [
    "final_df.head()"
   ]
  },
  {
   "cell_type": "code",
   "execution_count": null,
   "metadata": {},
   "outputs": [],
   "source": []
  }
 ],
 "metadata": {
  "kernelspec": {
   "display_name": "Python 3 (ipykernel)",
   "language": "python",
   "name": "python3"
  },
  "language_info": {
   "codemirror_mode": {
    "name": "ipython",
    "version": 3
   },
   "file_extension": ".py",
   "mimetype": "text/x-python",
   "name": "python",
   "nbconvert_exporter": "python",
   "pygments_lexer": "ipython3",
   "version": "3.8.1"
  }
 },
 "nbformat": 4,
 "nbformat_minor": 2
}
